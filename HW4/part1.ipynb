{
 "cells": [
  {
   "cell_type": "markdown",
   "metadata": {},
   "source": [
    "# Домашнее задание 1"
   ]
  },
  {
   "cell_type": "markdown",
   "metadata": {},
   "source": [
    "На семинаре мы пробовали извлекать сущность \"Приставка\". В домашнем задании попробуйте извлекать сущность \"Игра для приставки\" или \"Аксессуар для приставки\" (1 на выбор).  \n",
    "Данные - https://github.com/mannefedov/compling_nlp_hse_course/blob/master/data/pristavki.csv"
   ]
  },
  {
   "cell_type": "markdown",
   "metadata": {},
   "source": [
    "Напишите правила в yargy для извлечения одной из выбранных сущностей. Начните с самого простого правила и понемногу добавляйте условий. Остановитесь, когда на датасете в ~9к текстов у вас получится извлекать сущности хотя бы в 500 текстах (не обязательно уникальных сущностей)"
   ]
  },
  {
   "cell_type": "markdown",
   "metadata": {},
   "source": [
    "https://yargy.readthedocs.io/ru/latest/index.html"
   ]
  },
  {
   "cell_type": "code",
   "execution_count": 1,
   "metadata": {},
   "outputs": [],
   "source": [
    "from yargy import Parser, rule, or_\n",
    "from yargy.predicates import custom\n",
    "from yargy.pipelines import morph_pipeline\n",
    "from yargy.interpretation import fact\n",
    "\n",
    "import pandas as pd\n",
    "pd.set_option('display.max_colwidth', -1)"
   ]
  },
  {
   "cell_type": "code",
   "execution_count": 2,
   "metadata": {},
   "outputs": [],
   "source": [
    "data = pd.read_csv('pristavki.csv', header=None, names=['text'])"
   ]
  },
  {
   "cell_type": "code",
   "execution_count": 11,
   "metadata": {},
   "outputs": [],
   "source": [
    "Game = fact('Game', ['pre_title', 'title', 'sequel', 'title_append', 'etc'])\n",
    "\n",
    "PRE_TITLE = ['Super', 'Ultimate', 'Super']\n",
    "\n",
    "ETC = ['goty', 'game of the year', 'игра года', 'издание игра года', 'goty edition', 'remastered',\n",
    "       'HD', 'Director\\'s cut', 'Gold', 'Platinum', 'Advance', 'Trilogy', 'Gold Edition', 'Complete',\n",
    "       'Arcade Edition', 'HD Remaster', 'HD Edtiton', 'расширенная версия']\n",
    "\n",
    "SEQUEL = ['2', '3', '4', '5', '6', '7', '8' '9', '10', 'II', 'III', 'IV', 'V', 'VI', 'VII',\n",
    "          'VIII', 'IX', 'X', 'XL', 'XI', 'XII', 'XIII', 'XIV', 'XV']\n",
    "\n",
    "Witcher = rule(morph_pipeline(['The Witcher', 'Witcher', 'Ведьмак']).interpretation(Game.title),\n",
    "               morph_pipeline(SEQUEL).interpretation(Game.sequel).optional(),\n",
    "               morph_pipeline(['Wild Hunt', 'Дикая Охота', 'Assassins of Kings', 'Убийцы Королей']).\n",
    "               interpretation(Game.title_append).optional(),\n",
    "               morph_pipeline(ETC).interpretation(Game.etc).optional())\n",
    "\n",
    "MK = rule(morph_pipeline(PRE_TITLE).interpretation(Game.pre_title).optional(),\n",
    "          morph_pipeline(['Mortal Kombat', 'MK']).interpretation(Game.title),\n",
    "          morph_pipeline(SEQUEL).interpretation(Game.sequel).optional(),\n",
    "          morph_pipeline(['Deadly Alliance', 'Deception', 'Unchained', 'Armaggedon', 'vs. DC Universe']).\n",
    "          interpretation(Game.title_append).optional(),\n",
    "          morph_pipeline(ETC).interpretation(Game.etc).optional())\n",
    "\n",
    "SF = rule(morph_pipeline(PRE_TITLE).interpretation(Game.pre_title).optional(),\n",
    "         morph_pipeline(['Street Fighter', 'SF']).interpretation(Game.title),\n",
    "         morph_pipeline(SEQUEL).interpretation(Game.sequel).optional(),\n",
    "         morph_pipeline(ETC).interpretation(Game.etc).optional())\n",
    "\n",
    "RE = rule(morph_pipeline(['Resident Evil', 'RE']).interpretation(Game.title),\n",
    "          morph_pipeline(SEQUEL).interpretation(Game.sequel).optional(),\n",
    "          morph_pipeline(['Code Veronica', 'Operation Racoon City', 'Umbrella Chronicles', 'Darkside Chronicles',\n",
    "                         'Biohazard']).\n",
    "          interpretation(Game.title_append).optional(),\n",
    "          morph_pipeline(ETC).interpretation(Game.etc).optional())\n",
    "\n",
    "AC = rule(morph_pipeline(['AC', 'Assassins creed', 'Assassin\\'s Creed',\n",
    "                          'asassins creed', 'assasins creed',\n",
    "                          'ассасин крид', 'ассасинс крид',\n",
    "                          'асассин крид', 'асассинс крид',\n",
    "                          'ассассин крид', 'ассассинс крид',\n",
    "                          'ассассин', 'асассин', 'ассассин']).interpretation(Game.title),\n",
    "          morph_pipeline(SEQUEL).interpretation(Game.sequel).optional(),\n",
    "          morph_pipeline(['Black Flag', 'Syndicate', 'Revelations', 'Rogue', 'Brotherhood',\n",
    "                          'Unity', 'Черный Флаг', 'Синдикат', 'Откровения', 'Изгой', 'Еиднство']).\n",
    "          interpretation(Game.title_append).optional(),\n",
    "          morph_pipeline(ETC).interpretation(Game.etc).optional())\n",
    "\n",
    "GAME = or_(Witcher, MK, SF, RE, AC).interpretation(Game)\n",
    "\n",
    "parser = Parser(GAME)"
   ]
  },
  {
   "cell_type": "code",
   "execution_count": 12,
   "metadata": {},
   "outputs": [],
   "source": [
    "matches = []\n",
    "\n",
    "for sent in data.text:\n",
    "    for match in parser.findall(sent):\n",
    "        matches.append(match.fact)"
   ]
  },
  {
   "cell_type": "code",
   "execution_count": 13,
   "metadata": {},
   "outputs": [
    {
     "data": {
      "text/plain": [
       "686"
      ]
     },
     "execution_count": 13,
     "metadata": {},
     "output_type": "execute_result"
    }
   ],
   "source": [
    "len(matches)"
   ]
  },
  {
   "cell_type": "code",
   "execution_count": 23,
   "metadata": {
    "scrolled": false
   },
   "outputs": [
    {
     "data": {
      "text/plain": [
       "[Game(pre_title=None,\n",
       "      title='асассин',\n",
       "      sequel='4',\n",
       "      title_append=None,\n",
       "      etc=None), Game(pre_title=None,\n",
       "      title='Assassins Creed',\n",
       "      sequel='4',\n",
       "      title_append='Черный флаг',\n",
       "      etc=None), Game(pre_title='Super',\n",
       "      title='Street Fighter',\n",
       "      sequel='5',\n",
       "      title_append=None,\n",
       "      etc=None), Game(pre_title=None,\n",
       "      title='Ведьмак',\n",
       "      sequel=None,\n",
       "      title_append=None,\n",
       "      etc=None), Game(pre_title=None,\n",
       "      title='Assassins creed',\n",
       "      sequel=None,\n",
       "      title_append='unity',\n",
       "      etc=None)]"
      ]
     },
     "execution_count": 23,
     "metadata": {},
     "output_type": "execute_result"
    }
   ],
   "source": [
    "matches[:5]"
   ]
  },
  {
   "cell_type": "code",
   "execution_count": 29,
   "metadata": {},
   "outputs": [
    {
     "data": {
      "text/plain": [
       "[Game(pre_title='Super',\n",
       "      title='Street Fighter',\n",
       "      sequel='5',\n",
       "      title_append=None,\n",
       "      etc=None), Game(pre_title='Super',\n",
       "      title='Street Fighter',\n",
       "      sequel=None,\n",
       "      title_append=None,\n",
       "      etc=None)]"
      ]
     },
     "execution_count": 29,
     "metadata": {},
     "output_type": "execute_result"
    }
   ],
   "source": [
    "[match for match in matches if match.pre_title]"
   ]
  },
  {
   "cell_type": "code",
   "execution_count": null,
   "metadata": {},
   "outputs": [],
   "source": []
  }
 ],
 "metadata": {
  "kernelspec": {
   "display_name": "Python 3",
   "language": "python",
   "name": "python3"
  },
  "language_info": {
   "codemirror_mode": {
    "name": "ipython",
    "version": 3
   },
   "file_extension": ".py",
   "mimetype": "text/x-python",
   "name": "python",
   "nbconvert_exporter": "python",
   "pygments_lexer": "ipython3",
   "version": "3.7.3"
  }
 },
 "nbformat": 4,
 "nbformat_minor": 2
}
