{
  "nbformat": 4,
  "nbformat_minor": 0,
  "metadata": {
    "colab": {
      "name": "bigARTM.ipynb",
      "provenance": [],
      "collapsed_sections": []
    },
    "kernelspec": {
      "name": "python3",
      "display_name": "Python 3"
    }
  },
  "cells": [
    {
      "cell_type": "markdown",
      "metadata": {
        "id": "wpTpQeQl1mLr",
        "colab_type": "text"
      },
      "source": [
        "### Установка BigARTM"
      ]
    },
    {
      "cell_type": "code",
      "metadata": {
        "id": "fTsErLfv1fmD",
        "colab_type": "code",
        "colab": {
          "base_uri": "https://localhost:8080/",
          "height": 238
        },
        "outputId": "27b60de4-b5d8-48d2-dace-de562a32f3c1"
      },
      "source": [
        "!apt-get --yes install git make cmake build-essential libboost-all-dev"
      ],
      "execution_count": 3,
      "outputs": [
        {
          "output_type": "stream",
          "text": [
            "Reading package lists... Done\n",
            "Building dependency tree       \n",
            "Reading state information... Done\n",
            "build-essential is already the newest version (12.4ubuntu1).\n",
            "make is already the newest version (4.1-9.1ubuntu1).\n",
            "make set to manually installed.\n",
            "libboost-all-dev is already the newest version (1.65.1.0ubuntu1).\n",
            "cmake is already the newest version (3.10.2-1ubuntu2.18.04.1).\n",
            "git is already the newest version (1:2.17.1-1ubuntu0.5).\n",
            "The following package was automatically installed and is no longer required:\n",
            "  libnvidia-common-430\n",
            "Use 'apt autoremove' to remove it.\n",
            "0 upgraded, 0 newly installed, 0 to remove and 7 not upgraded.\n"
          ],
          "name": "stdout"
        }
      ]
    },
    {
      "cell_type": "code",
      "metadata": {
        "id": "RaYtAy8X1ro4",
        "colab_type": "code",
        "colab": {
          "base_uri": "https://localhost:8080/",
          "height": 102
        },
        "outputId": "0dc6a180-0113-4aee-963f-fbccec5efbc5"
      },
      "source": [
        "!pip install protobuf tqdm wheel"
      ],
      "execution_count": 4,
      "outputs": [
        {
          "output_type": "stream",
          "text": [
            "Requirement already satisfied: protobuf in /usr/local/lib/python3.6/dist-packages (3.10.0)\n",
            "Requirement already satisfied: tqdm in /usr/local/lib/python3.6/dist-packages (4.28.1)\n",
            "Requirement already satisfied: wheel in /usr/local/lib/python3.6/dist-packages (0.33.6)\n",
            "Requirement already satisfied: six>=1.9 in /usr/local/lib/python3.6/dist-packages (from protobuf) (1.12.0)\n",
            "Requirement already satisfied: setuptools in /usr/local/lib/python3.6/dist-packages (from protobuf) (42.0.2)\n"
          ],
          "name": "stdout"
        }
      ]
    },
    {
      "cell_type": "code",
      "metadata": {
        "id": "3BkfdGkM1vcT",
        "colab_type": "code",
        "colab": {
          "base_uri": "https://localhost:8080/",
          "height": 136
        },
        "outputId": "32970ede-7b86-499d-9f00-f900b0d31af2"
      },
      "source": [
        "!git clone --branch=stable https://github.com/bigartm/bigartm.git"
      ],
      "execution_count": 5,
      "outputs": [
        {
          "output_type": "stream",
          "text": [
            "Cloning into 'bigartm'...\n",
            "remote: Enumerating objects: 29, done.\u001b[K\n",
            "remote: Counting objects: 100% (29/29), done.\u001b[K\n",
            "remote: Compressing objects: 100% (24/24), done.\u001b[K\n",
            "remote: Total 16526 (delta 11), reused 16 (delta 5), pack-reused 16497\u001b[K\n",
            "Receiving objects: 100% (16526/16526), 17.16 MiB | 13.30 MiB/s, done.\n",
            "Resolving deltas: 100% (11554/11554), done.\n"
          ],
          "name": "stdout"
        }
      ]
    },
    {
      "cell_type": "code",
      "metadata": {
        "id": "TmUYvGqc1ve_",
        "colab_type": "code",
        "colab": {
          "base_uri": "https://localhost:8080/",
          "height": 34
        },
        "outputId": "28814168-4d87-4811-a8f5-00bc1a8eda72"
      },
      "source": [
        "cd bigartm"
      ],
      "execution_count": 6,
      "outputs": [
        {
          "output_type": "stream",
          "text": [
            "/content/bigartm\n"
          ],
          "name": "stdout"
        }
      ]
    },
    {
      "cell_type": "code",
      "metadata": {
        "id": "2ny1xxKe1vhk",
        "colab_type": "code",
        "colab": {}
      },
      "source": [
        "mkdir build"
      ],
      "execution_count": 0,
      "outputs": []
    },
    {
      "cell_type": "code",
      "metadata": {
        "id": "Cw8gbCs91vkN",
        "colab_type": "code",
        "colab": {
          "base_uri": "https://localhost:8080/",
          "height": 34
        },
        "outputId": "30266c05-a665-4f84-ff87-4becbc7dec61"
      },
      "source": [
        "cd build"
      ],
      "execution_count": 8,
      "outputs": [
        {
          "output_type": "stream",
          "text": [
            "/content/bigartm/build\n"
          ],
          "name": "stdout"
        }
      ]
    },
    {
      "cell_type": "code",
      "metadata": {
        "id": "5aHYg4bd10_y",
        "colab_type": "code",
        "colab": {
          "base_uri": "https://localhost:8080/",
          "height": 1000
        },
        "outputId": "10f400e7-2e05-417c-b9b7-8e398fafd64d"
      },
      "source": [
        "!cmake .."
      ],
      "execution_count": 9,
      "outputs": [
        {
          "output_type": "stream",
          "text": [
            "-- The C compiler identification is GNU 7.4.0\n",
            "-- The CXX compiler identification is GNU 7.4.0\n",
            "-- Check for working C compiler: /usr/bin/cc\n",
            "-- Check for working C compiler: /usr/bin/cc -- works\n",
            "-- Detecting C compiler ABI info\n",
            "-- Detecting C compiler ABI info - done\n",
            "-- Detecting C compile features\n",
            "-- Detecting C compile features - done\n",
            "-- Check for working CXX compiler: /usr/bin/c++\n",
            "-- Check for working CXX compiler: /usr/bin/c++ -- works\n",
            "-- Detecting CXX compiler ABI info\n",
            "-- Detecting CXX compiler ABI info - done\n",
            "-- Detecting CXX compile features\n",
            "-- Detecting CXX compile features - done\n",
            "-- Build type: Release\n",
            "-- Looking for include file unistd.h\n",
            "-- Looking for include file unistd.h - found\n",
            "-- Boost version: 1.65.1\n",
            "-- Looking for pthread.h\n",
            "-- Looking for pthread.h - found\n",
            "-- Looking for pthread_create\n",
            "-- Looking for pthread_create - not found\n",
            "-- Looking for pthread_create in pthreads\n",
            "-- Looking for pthread_create in pthreads - not found\n",
            "-- Looking for pthread_create in pthread\n",
            "-- Looking for pthread_create in pthread - found\n",
            "-- Found Threads: TRUE  \n",
            "-- Boost version: 1.65.1\n",
            "-- Found the following Boost libraries:\n",
            "--   thread\n",
            "--   program_options\n",
            "--   date_time\n",
            "--   filesystem\n",
            "--   iostreams\n",
            "--   system\n",
            "--   chrono\n",
            "--   timer\n",
            "--   atomic\n",
            "--   regex\n",
            "-- Looking for C++ include stdint.h\n",
            "-- Looking for C++ include stdint.h - found\n",
            "-- Looking for C++ include inttypes.h\n",
            "-- Looking for C++ include inttypes.h - found\n",
            "-- Looking for C++ include sys/types.h\n",
            "-- Looking for C++ include sys/types.h - found\n",
            "-- Looking for C++ include sys/stat.h\n",
            "-- Looking for C++ include sys/stat.h - found\n",
            "-- Looking for C++ include fnmatch.h\n",
            "-- Looking for C++ include fnmatch.h - found\n",
            "-- Looking for strtoll\n",
            "-- Looking for strtoll - found\n",
            "-- Looking for C++ include stddef.h\n",
            "-- Looking for C++ include stddef.h - found\n",
            "-- Check size of pthread_rwlock_t\n",
            "-- Check size of pthread_rwlock_t - done\n",
            "-- Looking for dlfcn.h\n",
            "-- Looking for dlfcn.h - found\n",
            "-- Looking for execinfo.h\n",
            "-- Looking for execinfo.h - found\n",
            "-- Looking for glob.h\n",
            "-- Looking for glob.h - found\n",
            "-- Looking for libunwind.h\n",
            "-- Looking for libunwind.h - not found\n",
            "-- Looking for memory.h\n",
            "-- Looking for memory.h - found\n",
            "-- Looking for pwd.h\n",
            "-- Looking for pwd.h - found\n",
            "-- Looking for stdlib.h\n",
            "-- Looking for stdlib.h - found\n",
            "-- Looking for string.h\n",
            "-- Looking for string.h - found\n",
            "-- Looking for strings.h\n",
            "-- Looking for strings.h - found\n",
            "-- Looking for sys/syscall.h\n",
            "-- Looking for sys/syscall.h - found\n",
            "-- Looking for sys/time.h\n",
            "-- Looking for sys/time.h - found\n",
            "-- Looking for sys/utsname.h\n",
            "-- Looking for sys/utsname.h - found\n",
            "-- Looking for syscall.h\n",
            "-- Looking for syscall.h - found\n",
            "-- Looking for syslog.h\n",
            "-- Looking for syslog.h - found\n",
            "-- Looking for ucontext.h\n",
            "-- Looking for ucontext.h - found\n",
            "-- Looking for unwind.h\n",
            "-- Looking for unwind.h - found\n",
            "-- Looking for C++ include ext/hash_map\n",
            "-- Looking for C++ include ext/hash_map - found\n",
            "-- Looking for C++ include ext/hash_set\n",
            "-- Looking for C++ include ext/hash_set - found\n",
            "-- Looking for C++ include ext/slist\n",
            "-- Looking for C++ include ext/slist - found\n",
            "-- Looking for C++ include tr1/unordered_map\n",
            "-- Looking for C++ include tr1/unordered_map - found\n",
            "-- Looking for C++ include tr1/unordered_set\n",
            "-- Looking for C++ include tr1/unordered_set - found\n",
            "-- Looking for C++ include unordered_map\n",
            "-- Looking for C++ include unordered_map - found\n",
            "-- Looking for C++ include unordered_set\n",
            "-- Looking for C++ include unordered_set - found\n",
            "-- Check size of unsigned __int16\n",
            "-- Check size of unsigned __int16 - failed\n",
            "-- Check size of u_int16_t\n",
            "-- Check size of u_int16_t - done\n",
            "-- Check size of uint16_t\n",
            "-- Check size of uint16_t - done\n",
            "-- Looking for dladdr\n",
            "-- Looking for dladdr - not found\n",
            "-- Looking for fcntl\n",
            "-- Looking for fcntl - found\n",
            "-- Looking for pread\n",
            "-- Looking for pread - found\n",
            "-- Looking for pwrite\n",
            "-- Looking for pwrite - found\n",
            "-- Looking for sigaction\n",
            "-- Looking for sigaction - found\n",
            "-- Looking for sigaltstack\n",
            "-- Looking for sigaltstack - found\n",
            "-- Performing Test HAVE_NO_DEPRECATED\n",
            "-- Performing Test HAVE_NO_DEPRECATED - Success\n",
            "-- Performing Test HAVE_NO_UNNAMED_TYPE_TEMPLATE_ARGS\n",
            "-- Performing Test HAVE_NO_UNNAMED_TYPE_TEMPLATE_ARGS - Failed\n",
            "-- Looking for snprintf\n",
            "-- Looking for snprintf - found\n",
            "-- Looking for get_static_proc_name in unwind\n",
            "-- Looking for get_static_proc_name in unwind - not found\n",
            "-- Performing Test HAVE___ATTRIBUTE__\n",
            "-- Performing Test HAVE___ATTRIBUTE__ - Success\n",
            "-- Performing Test HAVE___ATTRIBUTE__VISIBILITY_DEFAULT\n",
            "-- Performing Test HAVE___ATTRIBUTE__VISIBILITY_DEFAULT - Success\n",
            "-- Performing Test HAVE___ATTRIBUTE__VISIBILITY_HIDDEN\n",
            "-- Performing Test HAVE___ATTRIBUTE__VISIBILITY_HIDDEN - Success\n",
            "-- Performing Test HAVE___BUILTIN_EXPECT\n",
            "-- Performing Test HAVE___BUILTIN_EXPECT - Success\n",
            "-- Performing Test HAVE___SYNC_VAL_COMPARE_AND_SWAP\n",
            "-- Performing Test HAVE___SYNC_VAL_COMPARE_AND_SWAP - Success\n",
            "-- Performing Test HAVE___DECLSPEC\n",
            "-- Performing Test HAVE___DECLSPEC - Failed\n",
            "-- Performing Test STL_NO_NAMESPACE\n",
            "-- Performing Test STL_NO_NAMESPACE - Failed\n",
            "-- Performing Test STL_STD_NAMESPACE\n",
            "-- Performing Test STL_STD_NAMESPACE - Success\n",
            "-- Performing Test HAVE_USING_OPERATOR\n",
            "-- Performing Test HAVE_USING_OPERATOR - Success\n",
            "-- Performing Test HAVE_NAMESPACES\n",
            "-- Performing Test HAVE_NAMESPACES - Success\n",
            "CMake Warning (dev) at 3rdparty/protobuf-3.0.0/cmake/install.cmake:41 (message):\n",
            "  The file\n",
            "  \"/content/bigartm/3rdparty/protobuf-3.0.0/src/google/protobuf/repeated_field_reflection.h\"\n",
            "  is listed in\n",
            "  \"/content/bigartm/3rdparty/protobuf-3.0.0/cmake/cmake/extract_includes.bat.in\"\n",
            "  but there not exists.  The file will not be installed.\n",
            "Call Stack (most recent call first):\n",
            "  3rdparty/protobuf-3.0.0/cmake/CMakeLists.txt:159 (include)\n",
            "This warning is for project developers.  Use -Wno-dev to suppress it.\n",
            "\n",
            "-- Performing Test COMPILER_SUPPORTS_CXX11\n",
            "-- Performing Test COMPILER_SUPPORTS_CXX11 - Success\n",
            "-- Performing Test COMPILER_SUPPORTS_CXX0X\n",
            "-- Performing Test COMPILER_SUPPORTS_CXX0X - Success\n",
            "-- Performing Test COMPILER_HAS_HIDDEN_VISIBILITY\n",
            "-- Performing Test COMPILER_HAS_HIDDEN_VISIBILITY - Success\n",
            "-- Performing Test COMPILER_HAS_HIDDEN_INLINE_VISIBILITY\n",
            "-- Performing Test COMPILER_HAS_HIDDEN_INLINE_VISIBILITY - Success\n",
            "-- Performing Test COMPILER_HAS_DEPRECATED_ATTR\n",
            "-- Performing Test COMPILER_HAS_DEPRECATED_ATTR - Success\n",
            "-- Configuring done\n",
            "-- Generating done\n",
            "-- Build files have been written to: /content/bigartm/build\n"
          ],
          "name": "stdout"
        }
      ]
    },
    {
      "cell_type": "code",
      "metadata": {
        "id": "fr3w5WoJ11Z0",
        "colab_type": "code",
        "colab": {
          "base_uri": "https://localhost:8080/",
          "height": 1000
        },
        "outputId": "1e659fc5-fab0-42ac-cab1-9ca352b76f99"
      },
      "source": [
        "!make"
      ],
      "execution_count": 10,
      "outputs": [
        {
          "output_type": "stream",
          "text": [
            "\u001b[35m\u001b[1mScanning dependencies of target libprotobuf\u001b[0m\n",
            "[  0%] \u001b[32mBuilding CXX object 3rdparty/protobuf-3.0.0/cmake/CMakeFiles/libprotobuf.dir/__/src/google/protobuf/arena.cc.o\u001b[0m\n",
            "[  0%] \u001b[32mBuilding CXX object 3rdparty/protobuf-3.0.0/cmake/CMakeFiles/libprotobuf.dir/__/src/google/protobuf/arenastring.cc.o\u001b[0m\n",
            "[  1%] \u001b[32mBuilding CXX object 3rdparty/protobuf-3.0.0/cmake/CMakeFiles/libprotobuf.dir/__/src/google/protobuf/extension_set.cc.o\u001b[0m\n",
            "[  1%] \u001b[32mBuilding CXX object 3rdparty/protobuf-3.0.0/cmake/CMakeFiles/libprotobuf.dir/__/src/google/protobuf/generated_message_util.cc.o\u001b[0m\n",
            "[  1%] \u001b[32mBuilding CXX object 3rdparty/protobuf-3.0.0/cmake/CMakeFiles/libprotobuf.dir/__/src/google/protobuf/io/coded_stream.cc.o\u001b[0m\n",
            "[  2%] \u001b[32mBuilding CXX object 3rdparty/protobuf-3.0.0/cmake/CMakeFiles/libprotobuf.dir/__/src/google/protobuf/io/zero_copy_stream.cc.o\u001b[0m\n",
            "[  2%] \u001b[32mBuilding CXX object 3rdparty/protobuf-3.0.0/cmake/CMakeFiles/libprotobuf.dir/__/src/google/protobuf/io/zero_copy_stream_impl_lite.cc.o\u001b[0m\n",
            "[  2%] \u001b[32mBuilding CXX object 3rdparty/protobuf-3.0.0/cmake/CMakeFiles/libprotobuf.dir/__/src/google/protobuf/message_lite.cc.o\u001b[0m\n",
            "[  3%] \u001b[32mBuilding CXX object 3rdparty/protobuf-3.0.0/cmake/CMakeFiles/libprotobuf.dir/__/src/google/protobuf/repeated_field.cc.o\u001b[0m\n",
            "[  3%] \u001b[32mBuilding CXX object 3rdparty/protobuf-3.0.0/cmake/CMakeFiles/libprotobuf.dir/__/src/google/protobuf/stubs/atomicops_internals_x86_gcc.cc.o\u001b[0m\n",
            "[  3%] \u001b[32mBuilding CXX object 3rdparty/protobuf-3.0.0/cmake/CMakeFiles/libprotobuf.dir/__/src/google/protobuf/stubs/atomicops_internals_x86_msvc.cc.o\u001b[0m\n",
            "[  4%] \u001b[32mBuilding CXX object 3rdparty/protobuf-3.0.0/cmake/CMakeFiles/libprotobuf.dir/__/src/google/protobuf/stubs/bytestream.cc.o\u001b[0m\n",
            "[  4%] \u001b[32mBuilding CXX object 3rdparty/protobuf-3.0.0/cmake/CMakeFiles/libprotobuf.dir/__/src/google/protobuf/stubs/common.cc.o\u001b[0m\n",
            "[  4%] \u001b[32mBuilding CXX object 3rdparty/protobuf-3.0.0/cmake/CMakeFiles/libprotobuf.dir/__/src/google/protobuf/stubs/int128.cc.o\u001b[0m\n",
            "[  5%] \u001b[32mBuilding CXX object 3rdparty/protobuf-3.0.0/cmake/CMakeFiles/libprotobuf.dir/__/src/google/protobuf/stubs/once.cc.o\u001b[0m\n",
            "[  5%] \u001b[32mBuilding CXX object 3rdparty/protobuf-3.0.0/cmake/CMakeFiles/libprotobuf.dir/__/src/google/protobuf/stubs/status.cc.o\u001b[0m\n",
            "[  5%] \u001b[32mBuilding CXX object 3rdparty/protobuf-3.0.0/cmake/CMakeFiles/libprotobuf.dir/__/src/google/protobuf/stubs/statusor.cc.o\u001b[0m\n",
            "[  6%] \u001b[32mBuilding CXX object 3rdparty/protobuf-3.0.0/cmake/CMakeFiles/libprotobuf.dir/__/src/google/protobuf/stubs/stringpiece.cc.o\u001b[0m\n",
            "[  6%] \u001b[32mBuilding CXX object 3rdparty/protobuf-3.0.0/cmake/CMakeFiles/libprotobuf.dir/__/src/google/protobuf/stubs/stringprintf.cc.o\u001b[0m\n",
            "[  6%] \u001b[32mBuilding CXX object 3rdparty/protobuf-3.0.0/cmake/CMakeFiles/libprotobuf.dir/__/src/google/protobuf/stubs/structurally_valid.cc.o\u001b[0m\n",
            "[  7%] \u001b[32mBuilding CXX object 3rdparty/protobuf-3.0.0/cmake/CMakeFiles/libprotobuf.dir/__/src/google/protobuf/stubs/strutil.cc.o\u001b[0m\n",
            "[  7%] \u001b[32mBuilding CXX object 3rdparty/protobuf-3.0.0/cmake/CMakeFiles/libprotobuf.dir/__/src/google/protobuf/stubs/time.cc.o\u001b[0m\n",
            "[  7%] \u001b[32mBuilding CXX object 3rdparty/protobuf-3.0.0/cmake/CMakeFiles/libprotobuf.dir/__/src/google/protobuf/wire_format_lite.cc.o\u001b[0m\n",
            "[  8%] \u001b[32mBuilding CXX object 3rdparty/protobuf-3.0.0/cmake/CMakeFiles/libprotobuf.dir/__/src/google/protobuf/any.cc.o\u001b[0m\n",
            "[  8%] \u001b[32mBuilding CXX object 3rdparty/protobuf-3.0.0/cmake/CMakeFiles/libprotobuf.dir/__/src/google/protobuf/any.pb.cc.o\u001b[0m\n",
            "[  8%] \u001b[32mBuilding CXX object 3rdparty/protobuf-3.0.0/cmake/CMakeFiles/libprotobuf.dir/__/src/google/protobuf/api.pb.cc.o\u001b[0m\n",
            "[  9%] \u001b[32mBuilding CXX object 3rdparty/protobuf-3.0.0/cmake/CMakeFiles/libprotobuf.dir/__/src/google/protobuf/compiler/importer.cc.o\u001b[0m\n",
            "[  9%] \u001b[32mBuilding CXX object 3rdparty/protobuf-3.0.0/cmake/CMakeFiles/libprotobuf.dir/__/src/google/protobuf/compiler/parser.cc.o\u001b[0m\n",
            "[  9%] \u001b[32mBuilding CXX object 3rdparty/protobuf-3.0.0/cmake/CMakeFiles/libprotobuf.dir/__/src/google/protobuf/descriptor.cc.o\u001b[0m\n",
            "[ 10%] \u001b[32mBuilding CXX object 3rdparty/protobuf-3.0.0/cmake/CMakeFiles/libprotobuf.dir/__/src/google/protobuf/descriptor.pb.cc.o\u001b[0m\n",
            "[ 10%] \u001b[32mBuilding CXX object 3rdparty/protobuf-3.0.0/cmake/CMakeFiles/libprotobuf.dir/__/src/google/protobuf/descriptor_database.cc.o\u001b[0m\n",
            "[ 10%] \u001b[32mBuilding CXX object 3rdparty/protobuf-3.0.0/cmake/CMakeFiles/libprotobuf.dir/__/src/google/protobuf/duration.pb.cc.o\u001b[0m\n",
            "[ 11%] \u001b[32mBuilding CXX object 3rdparty/protobuf-3.0.0/cmake/CMakeFiles/libprotobuf.dir/__/src/google/protobuf/dynamic_message.cc.o\u001b[0m\n",
            "[ 11%] \u001b[32mBuilding CXX object 3rdparty/protobuf-3.0.0/cmake/CMakeFiles/libprotobuf.dir/__/src/google/protobuf/empty.pb.cc.o\u001b[0m\n",
            "[ 11%] \u001b[32mBuilding CXX object 3rdparty/protobuf-3.0.0/cmake/CMakeFiles/libprotobuf.dir/__/src/google/protobuf/extension_set_heavy.cc.o\u001b[0m\n",
            "[ 13%] \u001b[32mBuilding CXX object 3rdparty/protobuf-3.0.0/cmake/CMakeFiles/libprotobuf.dir/__/src/google/protobuf/field_mask.pb.cc.o\u001b[0m\n",
            "[ 13%] \u001b[32mBuilding CXX object 3rdparty/protobuf-3.0.0/cmake/CMakeFiles/libprotobuf.dir/__/src/google/protobuf/generated_message_reflection.cc.o\u001b[0m\n",
            "[ 13%] \u001b[32mBuilding CXX object 3rdparty/protobuf-3.0.0/cmake/CMakeFiles/libprotobuf.dir/__/src/google/protobuf/io/gzip_stream.cc.o\u001b[0m\n",
            "[ 14%] \u001b[32mBuilding CXX object 3rdparty/protobuf-3.0.0/cmake/CMakeFiles/libprotobuf.dir/__/src/google/protobuf/io/printer.cc.o\u001b[0m\n",
            "[ 14%] \u001b[32mBuilding CXX object 3rdparty/protobuf-3.0.0/cmake/CMakeFiles/libprotobuf.dir/__/src/google/protobuf/io/strtod.cc.o\u001b[0m\n",
            "[ 14%] \u001b[32mBuilding CXX object 3rdparty/protobuf-3.0.0/cmake/CMakeFiles/libprotobuf.dir/__/src/google/protobuf/io/tokenizer.cc.o\u001b[0m\n",
            "[ 15%] \u001b[32mBuilding CXX object 3rdparty/protobuf-3.0.0/cmake/CMakeFiles/libprotobuf.dir/__/src/google/protobuf/io/zero_copy_stream_impl.cc.o\u001b[0m\n",
            "[ 15%] \u001b[32mBuilding CXX object 3rdparty/protobuf-3.0.0/cmake/CMakeFiles/libprotobuf.dir/__/src/google/protobuf/map_field.cc.o\u001b[0m\n",
            "[ 15%] \u001b[32mBuilding CXX object 3rdparty/protobuf-3.0.0/cmake/CMakeFiles/libprotobuf.dir/__/src/google/protobuf/message.cc.o\u001b[0m\n",
            "[ 16%] \u001b[32mBuilding CXX object 3rdparty/protobuf-3.0.0/cmake/CMakeFiles/libprotobuf.dir/__/src/google/protobuf/reflection_ops.cc.o\u001b[0m\n",
            "[ 16%] \u001b[32mBuilding CXX object 3rdparty/protobuf-3.0.0/cmake/CMakeFiles/libprotobuf.dir/__/src/google/protobuf/service.cc.o\u001b[0m\n",
            "[ 16%] \u001b[32mBuilding CXX object 3rdparty/protobuf-3.0.0/cmake/CMakeFiles/libprotobuf.dir/__/src/google/protobuf/source_context.pb.cc.o\u001b[0m\n",
            "[ 17%] \u001b[32mBuilding CXX object 3rdparty/protobuf-3.0.0/cmake/CMakeFiles/libprotobuf.dir/__/src/google/protobuf/struct.pb.cc.o\u001b[0m\n",
            "[ 17%] \u001b[32mBuilding CXX object 3rdparty/protobuf-3.0.0/cmake/CMakeFiles/libprotobuf.dir/__/src/google/protobuf/stubs/mathlimits.cc.o\u001b[0m\n",
            "[ 17%] \u001b[32mBuilding CXX object 3rdparty/protobuf-3.0.0/cmake/CMakeFiles/libprotobuf.dir/__/src/google/protobuf/stubs/substitute.cc.o\u001b[0m\n",
            "[ 18%] \u001b[32mBuilding CXX object 3rdparty/protobuf-3.0.0/cmake/CMakeFiles/libprotobuf.dir/__/src/google/protobuf/text_format.cc.o\u001b[0m\n",
            "[ 18%] \u001b[32mBuilding CXX object 3rdparty/protobuf-3.0.0/cmake/CMakeFiles/libprotobuf.dir/__/src/google/protobuf/timestamp.pb.cc.o\u001b[0m\n",
            "[ 19%] \u001b[32mBuilding CXX object 3rdparty/protobuf-3.0.0/cmake/CMakeFiles/libprotobuf.dir/__/src/google/protobuf/type.pb.cc.o\u001b[0m\n",
            "[ 19%] \u001b[32mBuilding CXX object 3rdparty/protobuf-3.0.0/cmake/CMakeFiles/libprotobuf.dir/__/src/google/protobuf/unknown_field_set.cc.o\u001b[0m\n",
            "[ 19%] \u001b[32mBuilding CXX object 3rdparty/protobuf-3.0.0/cmake/CMakeFiles/libprotobuf.dir/__/src/google/protobuf/util/field_comparator.cc.o\u001b[0m\n",
            "[ 20%] \u001b[32mBuilding CXX object 3rdparty/protobuf-3.0.0/cmake/CMakeFiles/libprotobuf.dir/__/src/google/protobuf/util/field_mask_util.cc.o\u001b[0m\n",
            "[ 20%] \u001b[32mBuilding CXX object 3rdparty/protobuf-3.0.0/cmake/CMakeFiles/libprotobuf.dir/__/src/google/protobuf/util/internal/datapiece.cc.o\u001b[0m\n",
            "[ 20%] \u001b[32mBuilding CXX object 3rdparty/protobuf-3.0.0/cmake/CMakeFiles/libprotobuf.dir/__/src/google/protobuf/util/internal/default_value_objectwriter.cc.o\u001b[0m\n",
            "[ 21%] \u001b[32mBuilding CXX object 3rdparty/protobuf-3.0.0/cmake/CMakeFiles/libprotobuf.dir/__/src/google/protobuf/util/internal/error_listener.cc.o\u001b[0m\n",
            "[ 21%] \u001b[32mBuilding CXX object 3rdparty/protobuf-3.0.0/cmake/CMakeFiles/libprotobuf.dir/__/src/google/protobuf/util/internal/field_mask_utility.cc.o\u001b[0m\n",
            "[ 21%] \u001b[32mBuilding CXX object 3rdparty/protobuf-3.0.0/cmake/CMakeFiles/libprotobuf.dir/__/src/google/protobuf/util/internal/json_escaping.cc.o\u001b[0m\n",
            "[ 22%] \u001b[32mBuilding CXX object 3rdparty/protobuf-3.0.0/cmake/CMakeFiles/libprotobuf.dir/__/src/google/protobuf/util/internal/json_objectwriter.cc.o\u001b[0m\n",
            "[ 22%] \u001b[32mBuilding CXX object 3rdparty/protobuf-3.0.0/cmake/CMakeFiles/libprotobuf.dir/__/src/google/protobuf/util/internal/json_stream_parser.cc.o\u001b[0m\n",
            "[ 22%] \u001b[32mBuilding CXX object 3rdparty/protobuf-3.0.0/cmake/CMakeFiles/libprotobuf.dir/__/src/google/protobuf/util/internal/object_writer.cc.o\u001b[0m\n",
            "[ 23%] \u001b[32mBuilding CXX object 3rdparty/protobuf-3.0.0/cmake/CMakeFiles/libprotobuf.dir/__/src/google/protobuf/util/internal/proto_writer.cc.o\u001b[0m\n",
            "[ 23%] \u001b[32mBuilding CXX object 3rdparty/protobuf-3.0.0/cmake/CMakeFiles/libprotobuf.dir/__/src/google/protobuf/util/internal/protostream_objectsource.cc.o\u001b[0m\n",
            "[ 23%] \u001b[32mBuilding CXX object 3rdparty/protobuf-3.0.0/cmake/CMakeFiles/libprotobuf.dir/__/src/google/protobuf/util/internal/protostream_objectwriter.cc.o\u001b[0m\n",
            "[ 25%] \u001b[32mBuilding CXX object 3rdparty/protobuf-3.0.0/cmake/CMakeFiles/libprotobuf.dir/__/src/google/protobuf/util/internal/type_info.cc.o\u001b[0m\n",
            "[ 25%] \u001b[32mBuilding CXX object 3rdparty/protobuf-3.0.0/cmake/CMakeFiles/libprotobuf.dir/__/src/google/protobuf/util/internal/type_info_test_helper.cc.o\u001b[0m\n",
            "[ 25%] \u001b[32mBuilding CXX object 3rdparty/protobuf-3.0.0/cmake/CMakeFiles/libprotobuf.dir/__/src/google/protobuf/util/internal/utility.cc.o\u001b[0m\n",
            "[ 26%] \u001b[32mBuilding CXX object 3rdparty/protobuf-3.0.0/cmake/CMakeFiles/libprotobuf.dir/__/src/google/protobuf/util/json_util.cc.o\u001b[0m\n",
            "[ 26%] \u001b[32mBuilding CXX object 3rdparty/protobuf-3.0.0/cmake/CMakeFiles/libprotobuf.dir/__/src/google/protobuf/util/message_differencer.cc.o\u001b[0m\n",
            "[ 26%] \u001b[32mBuilding CXX object 3rdparty/protobuf-3.0.0/cmake/CMakeFiles/libprotobuf.dir/__/src/google/protobuf/util/time_util.cc.o\u001b[0m\n",
            "[ 27%] \u001b[32mBuilding CXX object 3rdparty/protobuf-3.0.0/cmake/CMakeFiles/libprotobuf.dir/__/src/google/protobuf/util/type_resolver_util.cc.o\u001b[0m\n",
            "[ 27%] \u001b[32mBuilding CXX object 3rdparty/protobuf-3.0.0/cmake/CMakeFiles/libprotobuf.dir/__/src/google/protobuf/wire_format.cc.o\u001b[0m\n",
            "[ 27%] \u001b[32mBuilding CXX object 3rdparty/protobuf-3.0.0/cmake/CMakeFiles/libprotobuf.dir/__/src/google/protobuf/wrappers.pb.cc.o\u001b[0m\n",
            "[ 28%] \u001b[32m\u001b[1mLinking CXX static library ../../../lib/libprotobuf.a\u001b[0m\n",
            "[ 28%] Built target libprotobuf\n",
            "\u001b[35m\u001b[1mScanning dependencies of target libprotoc\u001b[0m\n",
            "[ 28%] \u001b[32mBuilding CXX object 3rdparty/protobuf-3.0.0/cmake/CMakeFiles/libprotoc.dir/__/src/google/protobuf/compiler/code_generator.cc.o\u001b[0m\n",
            "[ 28%] \u001b[32mBuilding CXX object 3rdparty/protobuf-3.0.0/cmake/CMakeFiles/libprotoc.dir/__/src/google/protobuf/compiler/command_line_interface.cc.o\u001b[0m\n",
            "[ 29%] \u001b[32mBuilding CXX object 3rdparty/protobuf-3.0.0/cmake/CMakeFiles/libprotoc.dir/__/src/google/protobuf/compiler/cpp/cpp_enum.cc.o\u001b[0m\n",
            "[ 29%] \u001b[32mBuilding CXX object 3rdparty/protobuf-3.0.0/cmake/CMakeFiles/libprotoc.dir/__/src/google/protobuf/compiler/cpp/cpp_enum_field.cc.o\u001b[0m\n",
            "[ 29%] \u001b[32mBuilding CXX object 3rdparty/protobuf-3.0.0/cmake/CMakeFiles/libprotoc.dir/__/src/google/protobuf/compiler/cpp/cpp_extension.cc.o\u001b[0m\n",
            "[ 30%] \u001b[32mBuilding CXX object 3rdparty/protobuf-3.0.0/cmake/CMakeFiles/libprotoc.dir/__/src/google/protobuf/compiler/cpp/cpp_field.cc.o\u001b[0m\n",
            "[ 30%] \u001b[32mBuilding CXX object 3rdparty/protobuf-3.0.0/cmake/CMakeFiles/libprotoc.dir/__/src/google/protobuf/compiler/cpp/cpp_file.cc.o\u001b[0m\n",
            "[ 30%] \u001b[32mBuilding CXX object 3rdparty/protobuf-3.0.0/cmake/CMakeFiles/libprotoc.dir/__/src/google/protobuf/compiler/cpp/cpp_generator.cc.o\u001b[0m\n",
            "[ 31%] \u001b[32mBuilding CXX object 3rdparty/protobuf-3.0.0/cmake/CMakeFiles/libprotoc.dir/__/src/google/protobuf/compiler/cpp/cpp_helpers.cc.o\u001b[0m\n",
            "[ 31%] \u001b[32mBuilding CXX object 3rdparty/protobuf-3.0.0/cmake/CMakeFiles/libprotoc.dir/__/src/google/protobuf/compiler/cpp/cpp_map_field.cc.o\u001b[0m\n",
            "[ 31%] \u001b[32mBuilding CXX object 3rdparty/protobuf-3.0.0/cmake/CMakeFiles/libprotoc.dir/__/src/google/protobuf/compiler/cpp/cpp_message.cc.o\u001b[0m\n",
            "[ 32%] \u001b[32mBuilding CXX object 3rdparty/protobuf-3.0.0/cmake/CMakeFiles/libprotoc.dir/__/src/google/protobuf/compiler/cpp/cpp_message_field.cc.o\u001b[0m\n",
            "[ 32%] \u001b[32mBuilding CXX object 3rdparty/protobuf-3.0.0/cmake/CMakeFiles/libprotoc.dir/__/src/google/protobuf/compiler/cpp/cpp_primitive_field.cc.o\u001b[0m\n",
            "[ 32%] \u001b[32mBuilding CXX object 3rdparty/protobuf-3.0.0/cmake/CMakeFiles/libprotoc.dir/__/src/google/protobuf/compiler/cpp/cpp_service.cc.o\u001b[0m\n",
            "[ 33%] \u001b[32mBuilding CXX object 3rdparty/protobuf-3.0.0/cmake/CMakeFiles/libprotoc.dir/__/src/google/protobuf/compiler/cpp/cpp_string_field.cc.o\u001b[0m\n",
            "[ 33%] \u001b[32mBuilding CXX object 3rdparty/protobuf-3.0.0/cmake/CMakeFiles/libprotoc.dir/__/src/google/protobuf/compiler/csharp/csharp_doc_comment.cc.o\u001b[0m\n",
            "[ 33%] \u001b[32mBuilding CXX object 3rdparty/protobuf-3.0.0/cmake/CMakeFiles/libprotoc.dir/__/src/google/protobuf/compiler/csharp/csharp_enum.cc.o\u001b[0m\n",
            "[ 34%] \u001b[32mBuilding CXX object 3rdparty/protobuf-3.0.0/cmake/CMakeFiles/libprotoc.dir/__/src/google/protobuf/compiler/csharp/csharp_enum_field.cc.o\u001b[0m\n",
            "[ 34%] \u001b[32mBuilding CXX object 3rdparty/protobuf-3.0.0/cmake/CMakeFiles/libprotoc.dir/__/src/google/protobuf/compiler/csharp/csharp_field_base.cc.o\u001b[0m\n",
            "[ 34%] \u001b[32mBuilding CXX object 3rdparty/protobuf-3.0.0/cmake/CMakeFiles/libprotoc.dir/__/src/google/protobuf/compiler/csharp/csharp_generator.cc.o\u001b[0m\n",
            "[ 35%] \u001b[32mBuilding CXX object 3rdparty/protobuf-3.0.0/cmake/CMakeFiles/libprotoc.dir/__/src/google/protobuf/compiler/csharp/csharp_helpers.cc.o\u001b[0m\n",
            "[ 35%] \u001b[32mBuilding CXX object 3rdparty/protobuf-3.0.0/cmake/CMakeFiles/libprotoc.dir/__/src/google/protobuf/compiler/csharp/csharp_map_field.cc.o\u001b[0m\n",
            "[ 35%] \u001b[32mBuilding CXX object 3rdparty/protobuf-3.0.0/cmake/CMakeFiles/libprotoc.dir/__/src/google/protobuf/compiler/csharp/csharp_message.cc.o\u001b[0m\n",
            "[ 36%] \u001b[32mBuilding CXX object 3rdparty/protobuf-3.0.0/cmake/CMakeFiles/libprotoc.dir/__/src/google/protobuf/compiler/csharp/csharp_message_field.cc.o\u001b[0m\n",
            "[ 36%] \u001b[32mBuilding CXX object 3rdparty/protobuf-3.0.0/cmake/CMakeFiles/libprotoc.dir/__/src/google/protobuf/compiler/csharp/csharp_primitive_field.cc.o\u001b[0m\n",
            "[ 38%] \u001b[32mBuilding CXX object 3rdparty/protobuf-3.0.0/cmake/CMakeFiles/libprotoc.dir/__/src/google/protobuf/compiler/csharp/csharp_reflection_class.cc.o\u001b[0m\n",
            "[ 38%] \u001b[32mBuilding CXX object 3rdparty/protobuf-3.0.0/cmake/CMakeFiles/libprotoc.dir/__/src/google/protobuf/compiler/csharp/csharp_repeated_enum_field.cc.o\u001b[0m\n",
            "[ 38%] \u001b[32mBuilding CXX object 3rdparty/protobuf-3.0.0/cmake/CMakeFiles/libprotoc.dir/__/src/google/protobuf/compiler/csharp/csharp_repeated_message_field.cc.o\u001b[0m\n",
            "[ 39%] \u001b[32mBuilding CXX object 3rdparty/protobuf-3.0.0/cmake/CMakeFiles/libprotoc.dir/__/src/google/protobuf/compiler/csharp/csharp_repeated_primitive_field.cc.o\u001b[0m\n",
            "[ 39%] \u001b[32mBuilding CXX object 3rdparty/protobuf-3.0.0/cmake/CMakeFiles/libprotoc.dir/__/src/google/protobuf/compiler/csharp/csharp_source_generator_base.cc.o\u001b[0m\n",
            "[ 39%] \u001b[32mBuilding CXX object 3rdparty/protobuf-3.0.0/cmake/CMakeFiles/libprotoc.dir/__/src/google/protobuf/compiler/csharp/csharp_wrapper_field.cc.o\u001b[0m\n",
            "[ 40%] \u001b[32mBuilding CXX object 3rdparty/protobuf-3.0.0/cmake/CMakeFiles/libprotoc.dir/__/src/google/protobuf/compiler/java/java_context.cc.o\u001b[0m\n",
            "[ 40%] \u001b[32mBuilding CXX object 3rdparty/protobuf-3.0.0/cmake/CMakeFiles/libprotoc.dir/__/src/google/protobuf/compiler/java/java_doc_comment.cc.o\u001b[0m\n",
            "[ 40%] \u001b[32mBuilding CXX object 3rdparty/protobuf-3.0.0/cmake/CMakeFiles/libprotoc.dir/__/src/google/protobuf/compiler/java/java_enum.cc.o\u001b[0m\n",
            "[ 41%] \u001b[32mBuilding CXX object 3rdparty/protobuf-3.0.0/cmake/CMakeFiles/libprotoc.dir/__/src/google/protobuf/compiler/java/java_enum_field.cc.o\u001b[0m\n",
            "[ 41%] \u001b[32mBuilding CXX object 3rdparty/protobuf-3.0.0/cmake/CMakeFiles/libprotoc.dir/__/src/google/protobuf/compiler/java/java_enum_field_lite.cc.o\u001b[0m\n",
            "[ 41%] \u001b[32mBuilding CXX object 3rdparty/protobuf-3.0.0/cmake/CMakeFiles/libprotoc.dir/__/src/google/protobuf/compiler/java/java_enum_lite.cc.o\u001b[0m\n",
            "[ 42%] \u001b[32mBuilding CXX object 3rdparty/protobuf-3.0.0/cmake/CMakeFiles/libprotoc.dir/__/src/google/protobuf/compiler/java/java_extension.cc.o\u001b[0m\n",
            "[ 42%] \u001b[32mBuilding CXX object 3rdparty/protobuf-3.0.0/cmake/CMakeFiles/libprotoc.dir/__/src/google/protobuf/compiler/java/java_extension_lite.cc.o\u001b[0m\n",
            "[ 42%] \u001b[32mBuilding CXX object 3rdparty/protobuf-3.0.0/cmake/CMakeFiles/libprotoc.dir/__/src/google/protobuf/compiler/java/java_field.cc.o\u001b[0m\n",
            "[ 43%] \u001b[32mBuilding CXX object 3rdparty/protobuf-3.0.0/cmake/CMakeFiles/libprotoc.dir/__/src/google/protobuf/compiler/java/java_file.cc.o\u001b[0m\n",
            "[ 43%] \u001b[32mBuilding CXX object 3rdparty/protobuf-3.0.0/cmake/CMakeFiles/libprotoc.dir/__/src/google/protobuf/compiler/java/java_generator.cc.o\u001b[0m\n",
            "[ 43%] \u001b[32mBuilding CXX object 3rdparty/protobuf-3.0.0/cmake/CMakeFiles/libprotoc.dir/__/src/google/protobuf/compiler/java/java_generator_factory.cc.o\u001b[0m\n",
            "[ 44%] \u001b[32mBuilding CXX object 3rdparty/protobuf-3.0.0/cmake/CMakeFiles/libprotoc.dir/__/src/google/protobuf/compiler/java/java_helpers.cc.o\u001b[0m\n",
            "[ 44%] \u001b[32mBuilding CXX object 3rdparty/protobuf-3.0.0/cmake/CMakeFiles/libprotoc.dir/__/src/google/protobuf/compiler/java/java_lazy_message_field.cc.o\u001b[0m\n",
            "[ 44%] \u001b[32mBuilding CXX object 3rdparty/protobuf-3.0.0/cmake/CMakeFiles/libprotoc.dir/__/src/google/protobuf/compiler/java/java_lazy_message_field_lite.cc.o\u001b[0m\n",
            "[ 45%] \u001b[32mBuilding CXX object 3rdparty/protobuf-3.0.0/cmake/CMakeFiles/libprotoc.dir/__/src/google/protobuf/compiler/java/java_map_field.cc.o\u001b[0m\n",
            "[ 45%] \u001b[32mBuilding CXX object 3rdparty/protobuf-3.0.0/cmake/CMakeFiles/libprotoc.dir/__/src/google/protobuf/compiler/java/java_map_field_lite.cc.o\u001b[0m\n",
            "[ 45%] \u001b[32mBuilding CXX object 3rdparty/protobuf-3.0.0/cmake/CMakeFiles/libprotoc.dir/__/src/google/protobuf/compiler/java/java_message.cc.o\u001b[0m\n",
            "[ 46%] \u001b[32mBuilding CXX object 3rdparty/protobuf-3.0.0/cmake/CMakeFiles/libprotoc.dir/__/src/google/protobuf/compiler/java/java_message_builder.cc.o\u001b[0m\n",
            "[ 46%] \u001b[32mBuilding CXX object 3rdparty/protobuf-3.0.0/cmake/CMakeFiles/libprotoc.dir/__/src/google/protobuf/compiler/java/java_message_builder_lite.cc.o\u001b[0m\n",
            "[ 46%] \u001b[32mBuilding CXX object 3rdparty/protobuf-3.0.0/cmake/CMakeFiles/libprotoc.dir/__/src/google/protobuf/compiler/java/java_message_field.cc.o\u001b[0m\n",
            "[ 47%] \u001b[32mBuilding CXX object 3rdparty/protobuf-3.0.0/cmake/CMakeFiles/libprotoc.dir/__/src/google/protobuf/compiler/java/java_message_field_lite.cc.o\u001b[0m\n",
            "[ 47%] \u001b[32mBuilding CXX object 3rdparty/protobuf-3.0.0/cmake/CMakeFiles/libprotoc.dir/__/src/google/protobuf/compiler/java/java_message_lite.cc.o\u001b[0m\n",
            "[ 47%] \u001b[32mBuilding CXX object 3rdparty/protobuf-3.0.0/cmake/CMakeFiles/libprotoc.dir/__/src/google/protobuf/compiler/java/java_name_resolver.cc.o\u001b[0m\n",
            "[ 48%] \u001b[32mBuilding CXX object 3rdparty/protobuf-3.0.0/cmake/CMakeFiles/libprotoc.dir/__/src/google/protobuf/compiler/java/java_primitive_field.cc.o\u001b[0m\n",
            "[ 48%] \u001b[32mBuilding CXX object 3rdparty/protobuf-3.0.0/cmake/CMakeFiles/libprotoc.dir/__/src/google/protobuf/compiler/java/java_primitive_field_lite.cc.o\u001b[0m\n",
            "[ 48%] \u001b[32mBuilding CXX object 3rdparty/protobuf-3.0.0/cmake/CMakeFiles/libprotoc.dir/__/src/google/protobuf/compiler/java/java_service.cc.o\u001b[0m\n",
            "[ 50%] \u001b[32mBuilding CXX object 3rdparty/protobuf-3.0.0/cmake/CMakeFiles/libprotoc.dir/__/src/google/protobuf/compiler/java/java_shared_code_generator.cc.o\u001b[0m\n",
            "[ 50%] \u001b[32mBuilding CXX object 3rdparty/protobuf-3.0.0/cmake/CMakeFiles/libprotoc.dir/__/src/google/protobuf/compiler/java/java_string_field.cc.o\u001b[0m\n",
            "[ 50%] \u001b[32mBuilding CXX object 3rdparty/protobuf-3.0.0/cmake/CMakeFiles/libprotoc.dir/__/src/google/protobuf/compiler/java/java_string_field_lite.cc.o\u001b[0m\n",
            "[ 51%] \u001b[32mBuilding CXX object 3rdparty/protobuf-3.0.0/cmake/CMakeFiles/libprotoc.dir/__/src/google/protobuf/compiler/javanano/javanano_enum.cc.o\u001b[0m\n",
            "[ 51%] \u001b[32mBuilding CXX object 3rdparty/protobuf-3.0.0/cmake/CMakeFiles/libprotoc.dir/__/src/google/protobuf/compiler/javanano/javanano_enum_field.cc.o\u001b[0m\n",
            "[ 51%] \u001b[32mBuilding CXX object 3rdparty/protobuf-3.0.0/cmake/CMakeFiles/libprotoc.dir/__/src/google/protobuf/compiler/javanano/javanano_extension.cc.o\u001b[0m\n",
            "[ 52%] \u001b[32mBuilding CXX object 3rdparty/protobuf-3.0.0/cmake/CMakeFiles/libprotoc.dir/__/src/google/protobuf/compiler/javanano/javanano_field.cc.o\u001b[0m\n",
            "[ 52%] \u001b[32mBuilding CXX object 3rdparty/protobuf-3.0.0/cmake/CMakeFiles/libprotoc.dir/__/src/google/protobuf/compiler/javanano/javanano_file.cc.o\u001b[0m\n",
            "[ 52%] \u001b[32mBuilding CXX object 3rdparty/protobuf-3.0.0/cmake/CMakeFiles/libprotoc.dir/__/src/google/protobuf/compiler/javanano/javanano_generator.cc.o\u001b[0m\n",
            "[ 53%] \u001b[32mBuilding CXX object 3rdparty/protobuf-3.0.0/cmake/CMakeFiles/libprotoc.dir/__/src/google/protobuf/compiler/javanano/javanano_helpers.cc.o\u001b[0m\n",
            "[ 53%] \u001b[32mBuilding CXX object 3rdparty/protobuf-3.0.0/cmake/CMakeFiles/libprotoc.dir/__/src/google/protobuf/compiler/javanano/javanano_map_field.cc.o\u001b[0m\n",
            "[ 53%] \u001b[32mBuilding CXX object 3rdparty/protobuf-3.0.0/cmake/CMakeFiles/libprotoc.dir/__/src/google/protobuf/compiler/javanano/javanano_message.cc.o\u001b[0m\n",
            "[ 54%] \u001b[32mBuilding CXX object 3rdparty/protobuf-3.0.0/cmake/CMakeFiles/libprotoc.dir/__/src/google/protobuf/compiler/javanano/javanano_message_field.cc.o\u001b[0m\n",
            "[ 54%] \u001b[32mBuilding CXX object 3rdparty/protobuf-3.0.0/cmake/CMakeFiles/libprotoc.dir/__/src/google/protobuf/compiler/javanano/javanano_primitive_field.cc.o\u001b[0m\n",
            "[ 54%] \u001b[32mBuilding CXX object 3rdparty/protobuf-3.0.0/cmake/CMakeFiles/libprotoc.dir/__/src/google/protobuf/compiler/js/js_generator.cc.o\u001b[0m\n",
            "[ 55%] \u001b[32mBuilding CXX object 3rdparty/protobuf-3.0.0/cmake/CMakeFiles/libprotoc.dir/__/src/google/protobuf/compiler/objectivec/objectivec_enum.cc.o\u001b[0m\n",
            "[ 55%] \u001b[32mBuilding CXX object 3rdparty/protobuf-3.0.0/cmake/CMakeFiles/libprotoc.dir/__/src/google/protobuf/compiler/objectivec/objectivec_enum_field.cc.o\u001b[0m\n",
            "[ 55%] \u001b[32mBuilding CXX object 3rdparty/protobuf-3.0.0/cmake/CMakeFiles/libprotoc.dir/__/src/google/protobuf/compiler/objectivec/objectivec_extension.cc.o\u001b[0m\n",
            "[ 56%] \u001b[32mBuilding CXX object 3rdparty/protobuf-3.0.0/cmake/CMakeFiles/libprotoc.dir/__/src/google/protobuf/compiler/objectivec/objectivec_field.cc.o\u001b[0m\n",
            "[ 56%] \u001b[32mBuilding CXX object 3rdparty/protobuf-3.0.0/cmake/CMakeFiles/libprotoc.dir/__/src/google/protobuf/compiler/objectivec/objectivec_file.cc.o\u001b[0m\n",
            "[ 56%] \u001b[32mBuilding CXX object 3rdparty/protobuf-3.0.0/cmake/CMakeFiles/libprotoc.dir/__/src/google/protobuf/compiler/objectivec/objectivec_generator.cc.o\u001b[0m\n",
            "[ 57%] \u001b[32mBuilding CXX object 3rdparty/protobuf-3.0.0/cmake/CMakeFiles/libprotoc.dir/__/src/google/protobuf/compiler/objectivec/objectivec_helpers.cc.o\u001b[0m\n",
            "[ 57%] \u001b[32mBuilding CXX object 3rdparty/protobuf-3.0.0/cmake/CMakeFiles/libprotoc.dir/__/src/google/protobuf/compiler/objectivec/objectivec_map_field.cc.o\u001b[0m\n",
            "[ 57%] \u001b[32mBuilding CXX object 3rdparty/protobuf-3.0.0/cmake/CMakeFiles/libprotoc.dir/__/src/google/protobuf/compiler/objectivec/objectivec_message.cc.o\u001b[0m\n",
            "[ 58%] \u001b[32mBuilding CXX object 3rdparty/protobuf-3.0.0/cmake/CMakeFiles/libprotoc.dir/__/src/google/protobuf/compiler/objectivec/objectivec_message_field.cc.o\u001b[0m\n",
            "[ 58%] \u001b[32mBuilding CXX object 3rdparty/protobuf-3.0.0/cmake/CMakeFiles/libprotoc.dir/__/src/google/protobuf/compiler/objectivec/objectivec_oneof.cc.o\u001b[0m\n",
            "[ 58%] \u001b[32mBuilding CXX object 3rdparty/protobuf-3.0.0/cmake/CMakeFiles/libprotoc.dir/__/src/google/protobuf/compiler/objectivec/objectivec_primitive_field.cc.o\u001b[0m\n",
            "[ 59%] \u001b[32mBuilding CXX object 3rdparty/protobuf-3.0.0/cmake/CMakeFiles/libprotoc.dir/__/src/google/protobuf/compiler/plugin.cc.o\u001b[0m\n",
            "[ 59%] \u001b[32mBuilding CXX object 3rdparty/protobuf-3.0.0/cmake/CMakeFiles/libprotoc.dir/__/src/google/protobuf/compiler/plugin.pb.cc.o\u001b[0m\n",
            "[ 59%] \u001b[32mBuilding CXX object 3rdparty/protobuf-3.0.0/cmake/CMakeFiles/libprotoc.dir/__/src/google/protobuf/compiler/python/python_generator.cc.o\u001b[0m\n",
            "[ 60%] \u001b[32mBuilding CXX object 3rdparty/protobuf-3.0.0/cmake/CMakeFiles/libprotoc.dir/__/src/google/protobuf/compiler/ruby/ruby_generator.cc.o\u001b[0m\n",
            "[ 60%] \u001b[32mBuilding CXX object 3rdparty/protobuf-3.0.0/cmake/CMakeFiles/libprotoc.dir/__/src/google/protobuf/compiler/subprocess.cc.o\u001b[0m\n",
            "[ 60%] \u001b[32mBuilding CXX object 3rdparty/protobuf-3.0.0/cmake/CMakeFiles/libprotoc.dir/__/src/google/protobuf/compiler/zip_writer.cc.o\u001b[0m\n",
            "[ 61%] \u001b[32m\u001b[1mLinking CXX static library ../../../lib/libprotoc.a\u001b[0m\n",
            "[ 61%] Built target libprotoc\n",
            "\u001b[35m\u001b[1mScanning dependencies of target protoc\u001b[0m\n",
            "[ 61%] \u001b[32mBuilding CXX object 3rdparty/protobuf-3.0.0/cmake/CMakeFiles/protoc.dir/__/src/google/protobuf/compiler/main.cc.o\u001b[0m\n",
            "[ 63%] \u001b[32m\u001b[1mLinking CXX executable ../../../bin/protoc\u001b[0m\n",
            "[ 63%] Built target protoc\n",
            "\u001b[35m\u001b[1mScanning dependencies of target proto_generation\u001b[0m\n",
            "[ 63%] \u001b[34m\u001b[1mGenerating headers and sources from *.proto files\u001b[0m\n",
            "[ 63%] Built target proto_generation\n",
            "\u001b[35m\u001b[1mScanning dependencies of target internals_proto\u001b[0m\n",
            "[ 63%] \u001b[32mBuilding CXX object src/artm/CMakeFiles/internals_proto.dir/core/internals.pb.cc.o\u001b[0m\n",
            "[ 64%] \u001b[32m\u001b[1mLinking CXX static library ../../lib/libinternals_proto.a\u001b[0m\n",
            "[ 64%] Built target internals_proto\n",
            "\u001b[35m\u001b[1mScanning dependencies of target gflags_static\u001b[0m\n",
            "[ 64%] \u001b[32mBuilding CXX object 3rdparty/gflags/CMakeFiles/gflags_static.dir/src/gflags.cc.o\u001b[0m\n",
            "[ 64%] \u001b[32mBuilding CXX object 3rdparty/gflags/CMakeFiles/gflags_static.dir/src/gflags_reporting.cc.o\u001b[0m\n",
            "[ 65%] \u001b[32mBuilding CXX object 3rdparty/gflags/CMakeFiles/gflags_static.dir/src/gflags_completions.cc.o\u001b[0m\n",
            "[ 65%] \u001b[32m\u001b[1mLinking CXX static library ../../lib/libgflags.a\u001b[0m\n",
            "[ 65%] Built target gflags_static\n",
            "\u001b[35m\u001b[1mScanning dependencies of target glog\u001b[0m\n",
            "[ 65%] \u001b[32mBuilding CXX object 3rdparty/glog/CMakeFiles/glog.dir/src/demangle.cc.o\u001b[0m\n",
            "[ 66%] \u001b[32mBuilding CXX object 3rdparty/glog/CMakeFiles/glog.dir/src/logging.cc.o\u001b[0m\n",
            "[ 66%] \u001b[32mBuilding CXX object 3rdparty/glog/CMakeFiles/glog.dir/src/raw_logging.cc.o\u001b[0m\n",
            "[ 66%] \u001b[32mBuilding CXX object 3rdparty/glog/CMakeFiles/glog.dir/src/symbolize.cc.o\u001b[0m\n",
            "[ 67%] \u001b[32mBuilding CXX object 3rdparty/glog/CMakeFiles/glog.dir/src/utilities.cc.o\u001b[0m\n",
            "[ 67%] \u001b[32mBuilding CXX object 3rdparty/glog/CMakeFiles/glog.dir/src/vlog_is_on.cc.o\u001b[0m\n",
            "[ 67%] \u001b[32mBuilding CXX object 3rdparty/glog/CMakeFiles/glog.dir/src/signalhandler.cc.o\u001b[0m\n",
            "[ 68%] \u001b[32m\u001b[1mLinking CXX static library ../../lib/libglog.a\u001b[0m\n",
            "[ 68%] Built target glog\n",
            "\u001b[35m\u001b[1mScanning dependencies of target messages_proto\u001b[0m\n",
            "[ 68%] \u001b[32mBuilding CXX object src/artm/CMakeFiles/messages_proto.dir/messages.pb.cc.o\u001b[0m\n",
            "[ 69%] \u001b[32m\u001b[1mLinking CXX static library ../../lib/libmessages_proto.a\u001b[0m\n",
            "[ 69%] Built target messages_proto\n",
            "\u001b[35m\u001b[1mScanning dependencies of target artm-static\u001b[0m\n",
            "[ 70%] \u001b[32mBuilding CXX object src/artm/CMakeFiles/artm-static.dir/c_interface.cc.o\u001b[0m\n",
            "In file included from \u001b[01m\u001b[K/content/bigartm/src/artm/c_interface.cc:18:0\u001b[m\u001b[K:\n",
            "\u001b[01m\u001b[K/content/bigartm/src/artm/../artm/core/check_messages.h:\u001b[m\u001b[K In function ‘\u001b[01m\u001b[Kvoid artm::core::FixMessage(T*) [with T = artm::RegularizerConfig]\u001b[m\u001b[K’:\n",
            "\u001b[01m\u001b[K/content/bigartm/src/artm/../artm/core/check_messages.h:553:28:\u001b[m\u001b[K \u001b[01;35m\u001b[Kwarning: \u001b[m\u001b[Ksuggest parentheses around ‘\u001b[01m\u001b[K&&\u001b[m\u001b[K’ within ‘\u001b[01m\u001b[K||\u001b[m\u001b[K’ [\u001b[01;35m\u001b[K-Wparentheses\u001b[m\u001b[K]\n",
            "   if (\u001b[01;35m\u001b[Kmessage->has_gamma() && (message->gamma() < 0)\u001b[m\u001b[K || (message->gamma() > 1)) {\n",
            "       \u001b[01;35m\u001b[K~~~~~~~~~~~~~~~~~~~~~^~~~~~~~~~~~~~~~~~~~~~~~~\u001b[m\u001b[K\n",
            "[ 70%] \u001b[32mBuilding CXX object src/artm/CMakeFiles/artm-static.dir/cpp_interface.cc.o\u001b[0m\n",
            "[ 70%] \u001b[32mBuilding CXX object src/artm/CMakeFiles/artm-static.dir/regularizer_interface.cc.o\u001b[0m\n",
            "[ 71%] \u001b[32mBuilding CXX object src/artm/CMakeFiles/artm-static.dir/score_calculator_interface.cc.o\u001b[0m\n",
            "[ 71%] \u001b[32mBuilding CXX object src/artm/CMakeFiles/artm-static.dir/core/batch_manager.cc.o\u001b[0m\n",
            "[ 71%] \u001b[32mBuilding CXX object src/artm/CMakeFiles/artm-static.dir/core/cache_manager.cc.o\u001b[0m\n",
            "[ 72%] \u001b[32mBuilding CXX object src/artm/CMakeFiles/artm-static.dir/core/collection_parser.cc.o\u001b[0m\n",
            "\u001b[01m\u001b[K/content/bigartm/src/artm/core/collection_parser.cc:\u001b[m\u001b[K In member function ‘\u001b[01m\u001b[Kvoid artm::core::CollectionParser::BatchCollector::RecordTransaction(const std::vector<std::__cxx11::basic_string<char> >&, const std::vector<std::__cxx11::basic_string<char> >&, const std::vector<float>&, const TransactionTypeName&)\u001b[m\u001b[K’:\n",
            "\u001b[01m\u001b[K/content/bigartm/src/artm/core/collection_parser.cc:412:23:\u001b[m\u001b[K \u001b[01;35m\u001b[Kwarning: \u001b[m\u001b[Kcomparison between signed and unsigned integer expressions [\u001b[01;35m\u001b[K-Wsign-compare\u001b[m\u001b[K]\n",
            "     for (int i = 0; \u001b[01;35m\u001b[Ki < class_ids.size()\u001b[m\u001b[K; ++i) {\n",
            "                     \u001b[01;35m\u001b[K~~^~~~~~~~~~~~~~~~~~\u001b[m\u001b[K\n",
            "\u001b[01m\u001b[K/content/bigartm/src/artm/core/collection_parser.cc:\u001b[m\u001b[K In lambda function:\n",
            "\u001b[01m\u001b[K/content/bigartm/src/artm/core/collection_parser.cc:605:35:\u001b[m\u001b[K \u001b[01;35m\u001b[Kwarning: \u001b[m\u001b[Kcomparison between signed and unsigned integer expressions [\u001b[01;35m\u001b[K-Wsign-compare\u001b[m\u001b[K]\n",
            "                 for (int i = 0; \u001b[01;35m\u001b[Ki < tokens.size()\u001b[m\u001b[K; ++i) {\n",
            "                                 \u001b[01;35m\u001b[K~~^~~~~~~~~~~~~~~\u001b[m\u001b[K\n",
            "\u001b[01m\u001b[K/content/bigartm/src/artm/core/collection_parser.cc:729:27:\u001b[m\u001b[K \u001b[01;35m\u001b[Kwarning: \u001b[m\u001b[Kcomparison between signed and unsigned integer expressions [\u001b[01;35m\u001b[K-Wsign-compare\u001b[m\u001b[K]\n",
            "         for (int i = 0; \u001b[01;35m\u001b[Ki < tokens.size()\u001b[m\u001b[K; ++i) {\n",
            "                         \u001b[01;35m\u001b[K~~^~~~~~~~~~~~~~~\u001b[m\u001b[K\n",
            "\u001b[01m\u001b[K/content/bigartm/src/artm/core/collection_parser.cc:\u001b[m\u001b[K At global scope:\n",
            "\u001b[01m\u001b[K/content/bigartm/src/artm/core/collection_parser.cc:81:13:\u001b[m\u001b[K \u001b[01;35m\u001b[Kwarning: \u001b[m\u001b[K‘\u001b[01m\u001b[Kbool artm::core::useClassId(const std::vector<std::__cxx11::basic_string<char> >&, const artm::CollectionParserConfig&)\u001b[m\u001b[K’ defined but not used [\u001b[01;35m\u001b[K-Wunused-function\u001b[m\u001b[K]\n",
            " static bool \u001b[01;35m\u001b[KuseClassId\u001b[m\u001b[K(const std::vector<ClassId>& class_ids, const CollectionParserConfig& config) {\n",
            "             \u001b[01;35m\u001b[K^~~~~~~~~~\u001b[m\u001b[K\n",
            "[ 72%] \u001b[32mBuilding CXX object src/artm/CMakeFiles/artm-static.dir/core/cooccurrence_collector.cc.o\u001b[0m\n",
            "\u001b[01m\u001b[K/content/bigartm/src/artm/core/cooccurrence_collector.cc:\u001b[m\u001b[K In constructor ‘\u001b[01m\u001b[Kartm::core::Vocab::Vocab(const string&)\u001b[m\u001b[K’:\n",
            "\u001b[01m\u001b[K/content/bigartm/src/artm/core/cooccurrence_collector.cc:541:30:\u001b[m\u001b[K \u001b[01;35m\u001b[Kwarning: \u001b[m\u001b[Kcomparison between signed and unsigned integer expressions [\u001b[01;35m\u001b[K-Wsign-compare\u001b[m\u001b[K]\n",
            "       for (; \u001b[01;35m\u001b[Kpos_of_modality < strs.size()\u001b[m\u001b[K && strs[pos_of_modality].empty(); ++pos_of_modality) { }\n",
            "              \u001b[01;35m\u001b[K~~~~~~~~~~~~~~~~^~~~~~~~~~~~~\u001b[m\u001b[K\n",
            "\u001b[01m\u001b[K/content/bigartm/src/artm/core/cooccurrence_collector.cc:542:27:\u001b[m\u001b[K \u001b[01;35m\u001b[Kwarning: \u001b[m\u001b[Kcomparison between signed and unsigned integer expressions [\u001b[01;35m\u001b[K-Wsign-compare\u001b[m\u001b[K]\n",
            "       if (\u001b[01;35m\u001b[Kpos_of_modality != strs.size()\u001b[m\u001b[K) {\n",
            "           \u001b[01;35m\u001b[K~~~~~~~~~~~~~~~~^~~~~~~~~~~~~~\u001b[m\u001b[K\n",
            "[ 72%] \u001b[32mBuilding CXX object src/artm/CMakeFiles/artm-static.dir/core/cuckoo_watch.cc.o\u001b[0m\n",
            "[ 73%] \u001b[32mBuilding CXX object src/artm/CMakeFiles/artm-static.dir/core/dense_phi_matrix.cc.o\u001b[0m\n",
            "\u001b[01m\u001b[K/content/bigartm/src/artm/core/dense_phi_matrix.cc:\u001b[m\u001b[K In constructor ‘\u001b[01m\u001b[Kartm::core::AttachedPhiMatrix::AttachedPhiMatrix(int, float*, artm::core::PhiMatrixFrame*)\u001b[m\u001b[K’:\n",
            "\u001b[01m\u001b[K/content/bigartm/src/artm/core/dense_phi_matrix.cc:406:57:\u001b[m\u001b[K \u001b[01;35m\u001b[Kwarning: \u001b[m\u001b[Kcomparison between signed and unsigned integer expressions [\u001b[01;35m\u001b[K-Wsign-compare\u001b[m\u001b[K]\n",
            "   if (\u001b[01;35m\u001b[K(int64_t) topic_size * token_size * sizeof(float) != address_length\u001b[m\u001b[K) {\n",
            "       \u001b[01;35m\u001b[K~~~~~~~~~~~~~~~~~~~~~~~~~~~~~~~~~~~~~~~~~~~~~~~~~~^~~~~~~~~~~~~~~~~\u001b[m\u001b[K\n",
            "[ 73%] \u001b[32mBuilding CXX object src/artm/CMakeFiles/artm-static.dir/core/dictionary.cc.o\u001b[0m\n",
            "[ 73%] \u001b[32mBuilding CXX object src/artm/CMakeFiles/artm-static.dir/core/dictionary_operations.cc.o\u001b[0m\n",
            "[ 75%] \u001b[32mBuilding CXX object src/artm/CMakeFiles/artm-static.dir/core/helpers.cc.o\u001b[0m\n",
            "In file included from \u001b[01m\u001b[K/content/bigartm/src/artm/core/helpers.cc:16:0\u001b[m\u001b[K:\n",
            "\u001b[01m\u001b[K/content/bigartm/src/artm/../artm/core/check_messages.h:\u001b[m\u001b[K In function ‘\u001b[01m\u001b[Kvoid artm::core::FixMessage(T*) [with T = artm::RegularizerConfig]\u001b[m\u001b[K’:\n",
            "\u001b[01m\u001b[K/content/bigartm/src/artm/../artm/core/check_messages.h:553:28:\u001b[m\u001b[K \u001b[01;35m\u001b[Kwarning: \u001b[m\u001b[Ksuggest parentheses around ‘\u001b[01m\u001b[K&&\u001b[m\u001b[K’ within ‘\u001b[01m\u001b[K||\u001b[m\u001b[K’ [\u001b[01;35m\u001b[K-Wparentheses\u001b[m\u001b[K]\n",
            "   if (\u001b[01;35m\u001b[Kmessage->has_gamma() && (message->gamma() < 0)\u001b[m\u001b[K || (message->gamma() > 1)) {\n",
            "       \u001b[01;35m\u001b[K~~~~~~~~~~~~~~~~~~~~~^~~~~~~~~~~~~~~~~~~~~~~~~\u001b[m\u001b[K\n",
            "[ 75%] \u001b[32mBuilding CXX object src/artm/CMakeFiles/artm-static.dir/core/instance.cc.o\u001b[0m\n",
            "[ 75%] \u001b[32mBuilding CXX object src/artm/CMakeFiles/artm-static.dir/core/master_component.cc.o\u001b[0m\n",
            "In file included from \u001b[01m\u001b[K/content/bigartm/src/artm/core/master_component.cc:31:0\u001b[m\u001b[K:\n",
            "\u001b[01m\u001b[K/content/bigartm/src/artm/../artm/core/check_messages.h:\u001b[m\u001b[K In function ‘\u001b[01m\u001b[Kvoid artm::core::FixMessage(T*) [with T = artm::RegularizerConfig]\u001b[m\u001b[K’:\n",
            "\u001b[01m\u001b[K/content/bigartm/src/artm/../artm/core/check_messages.h:553:28:\u001b[m\u001b[K \u001b[01;35m\u001b[Kwarning: \u001b[m\u001b[Ksuggest parentheses around ‘\u001b[01m\u001b[K&&\u001b[m\u001b[K’ within ‘\u001b[01m\u001b[K||\u001b[m\u001b[K’ [\u001b[01;35m\u001b[K-Wparentheses\u001b[m\u001b[K]\n",
            "   if (\u001b[01;35m\u001b[Kmessage->has_gamma() && (message->gamma() < 0)\u001b[m\u001b[K || (message->gamma() > 1)) {\n",
            "       \u001b[01;35m\u001b[K~~~~~~~~~~~~~~~~~~~~~^~~~~~~~~~~~~~~~~~~~~~~~~\u001b[m\u001b[K\n",
            "\u001b[01m\u001b[K/content/bigartm/src/artm/core/master_component.cc:\u001b[m\u001b[K In member function ‘\u001b[01m\u001b[Kvoid artm::core::MasterComponent::RequestProcessBatchesImpl(const artm::ProcessBatchesArgs&, artm::core::BatchManager*, bool, artm::core::ScoreManager*, artm::ThetaMatrix*)\u001b[m\u001b[K’:\n",
            "\u001b[01m\u001b[K/content/bigartm/src/artm/core/master_component.cc:807:10:\u001b[m\u001b[K \u001b[01;35m\u001b[Kwarning: \u001b[m\u001b[Kenumeration value ‘\u001b[01m\u001b[KThetaMatrixType_None\u001b[m\u001b[K’ not handled in switch [\u001b[01;35m\u001b[K-Wswitch\u001b[m\u001b[K]\n",
            "   switch \u001b[01;35m\u001b[K(\u001b[m\u001b[Kargs.theta_matrix_type()) {\n",
            "          \u001b[01;35m\u001b[K^\u001b[m\u001b[K\n",
            "\u001b[01m\u001b[K/content/bigartm/src/artm/core/master_component.cc:824:34:\u001b[m\u001b[K \u001b[01;35m\u001b[Kwarning: \u001b[m\u001b[Kcomparison between signed and unsigned integer expressions [\u001b[01;35m\u001b[K-Wsign-compare\u001b[m\u001b[K]\n",
            "   if (\u001b[01;35m\u001b[Kargs.batch_filename_size() < instance_->processor_size()\u001b[m\u001b[K) {\n",
            "       \u001b[01;35m\u001b[K~~~~~~~~~~~~~~~~~~~~~~~~~~~^~~~~~~~~~~~~~~~~~~~~~~~~~~~~\u001b[m\u001b[K\n",
            "\u001b[01m\u001b[K/content/bigartm/src/artm/core/master_component.cc:880:10:\u001b[m\u001b[K \u001b[01;35m\u001b[Kwarning: \u001b[m\u001b[Kenumeration value ‘\u001b[01m\u001b[KThetaMatrixType_None\u001b[m\u001b[K’ not handled in switch [\u001b[01;35m\u001b[K-Wswitch\u001b[m\u001b[K]\n",
            "   switch \u001b[01;35m\u001b[K(\u001b[m\u001b[Kargs.theta_matrix_type()) {\n",
            "          \u001b[01;35m\u001b[K^\u001b[m\u001b[K\n",
            "\u001b[01m\u001b[K/content/bigartm/src/artm/core/master_component.cc:880:10:\u001b[m\u001b[K \u001b[01;35m\u001b[Kwarning: \u001b[m\u001b[Kenumeration value ‘\u001b[01m\u001b[KThetaMatrixType_Cache\u001b[m\u001b[K’ not handled in switch [\u001b[01;35m\u001b[K-Wswitch\u001b[m\u001b[K]\n",
            "\u001b[01m\u001b[K/content/bigartm/src/artm/core/master_component.cc:802:8:\u001b[m\u001b[K \u001b[01;35m\u001b[Kwarning: \u001b[m\u001b[Kvariable ‘\u001b[01m\u001b[Kreturn_theta\u001b[m\u001b[K’ set but not used [\u001b[01;35m\u001b[K-Wunused-but-set-variable\u001b[m\u001b[K]\n",
            "   bool \u001b[01;35m\u001b[Kreturn_theta\u001b[m\u001b[K = false;\n",
            "        \u001b[01;35m\u001b[K^~~~~~~~~~~~\u001b[m\u001b[K\n",
            "\u001b[01m\u001b[K/content/bigartm/src/artm/core/master_component.cc:803:8:\u001b[m\u001b[K \u001b[01;35m\u001b[Kwarning: \u001b[m\u001b[Kvariable ‘\u001b[01m\u001b[Kreturn_ptdw\u001b[m\u001b[K’ set but not used [\u001b[01;35m\u001b[K-Wunused-but-set-variable\u001b[m\u001b[K]\n",
            "   bool \u001b[01;35m\u001b[Kreturn_ptdw\u001b[m\u001b[K = false;\n",
            "        \u001b[01;35m\u001b[K^~~~~~~~~~~\u001b[m\u001b[K\n",
            "\u001b[01m\u001b[K/content/bigartm/src/artm/core/master_component.cc:\u001b[m\u001b[K In member function ‘\u001b[01m\u001b[Kbool artm::core::OnlineBatchesIterator::more() const\u001b[m\u001b[K’:\n",
            "\u001b[01m\u001b[K/content/bigartm/src/artm/core/master_component.cc:1198:39:\u001b[m\u001b[K \u001b[01;35m\u001b[Kwarning: \u001b[m\u001b[Kcomparison between signed and unsigned integer expressions [\u001b[01;35m\u001b[K-Wsign-compare\u001b[m\u001b[K]\n",
            "   bool more() const { return \u001b[01;35m\u001b[Kcurrent_ < static_cast<int>(update_after_.size())\u001b[m\u001b[K; }\n",
            "                              \u001b[01;35m\u001b[K~~~~~~~~~^~~~~~~~~~~~~~~~~~~~~~~~~~~~~~~~~~~~~~~~\u001b[m\u001b[K\n",
            "[ 76%] \u001b[32mBuilding CXX object src/artm/CMakeFiles/artm-static.dir/core/processor.cc.o\u001b[0m\n",
            "[ 76%] \u001b[32mBuilding CXX object src/artm/CMakeFiles/artm-static.dir/core/processor_helpers.cc.o\u001b[0m\n",
            "[ 76%] \u001b[32mBuilding CXX object src/artm/CMakeFiles/artm-static.dir/core/processor_transaction_helpers.cc.o\u001b[0m\n",
            "\u001b[01m\u001b[K/content/bigartm/src/artm/core/processor_transaction_helpers.cc:\u001b[m\u001b[K In static member function ‘\u001b[01m\u001b[Kstatic void artm::core::ProcessorTransactionHelpers::TransactionInferThetaAndUpdateNwtSparse(const artm::ProcessBatchesArgs&, const artm::Batch&, float, std::shared_ptr<artm::core::BatchTransactionInfo>, const artm::core::PhiMatrix&, const artm::core::RegularizeThetaAgentCollection&, artm::utility::LocalThetaMatrix<float>*, artm::core::NwtWriteAdapter*, artm::utility::Blas*, artm::ThetaMatrix*)\u001b[m\u001b[K’:\n",
            "\u001b[01m\u001b[K/content/bigartm/src/artm/core/processor_transaction_helpers.cc:166:25:\u001b[m\u001b[K \u001b[01;35m\u001b[Kwarning: \u001b[m\u001b[Kcomparison between signed and unsigned integer expressions [\u001b[01;35m\u001b[K-Wsign-compare\u001b[m\u001b[K]\n",
            "       for (int k = 0; \u001b[01;35m\u001b[Kk < it->second->local_pwt_token_index.size()\u001b[m\u001b[K; ++k) {\n",
            "                       \u001b[01;35m\u001b[K~~^~~~~~~~~~~~~~~~~~~~~~~~~~~~~~~~~~~~~~~~~~\u001b[m\u001b[K\n",
            "[ 77%] \u001b[32mBuilding CXX object src/artm/CMakeFiles/artm-static.dir/core/processor_input.cc.o\u001b[0m\n",
            "[ 77%] \u001b[32mBuilding CXX object src/artm/CMakeFiles/artm-static.dir/core/protobuf_serialization.cc.o\u001b[0m\n",
            "[ 77%] \u001b[32mBuilding CXX object src/artm/CMakeFiles/artm-static.dir/core/phi_matrix_operations.cc.o\u001b[0m\n",
            "In file included from \u001b[01m\u001b[K/content/bigartm/src/artm/core/phi_matrix_operations.cc:14:0\u001b[m\u001b[K:\n",
            "\u001b[01m\u001b[K/content/bigartm/src/artm/../artm/core/check_messages.h:\u001b[m\u001b[K In function ‘\u001b[01m\u001b[Kvoid artm::core::FixMessage(T*) [with T = artm::RegularizerConfig]\u001b[m\u001b[K’:\n",
            "\u001b[01m\u001b[K/content/bigartm/src/artm/../artm/core/check_messages.h:553:28:\u001b[m\u001b[K \u001b[01;35m\u001b[Kwarning: \u001b[m\u001b[Ksuggest parentheses around ‘\u001b[01m\u001b[K&&\u001b[m\u001b[K’ within ‘\u001b[01m\u001b[K||\u001b[m\u001b[K’ [\u001b[01;35m\u001b[K-Wparentheses\u001b[m\u001b[K]\n",
            "   if (\u001b[01;35m\u001b[Kmessage->has_gamma() && (message->gamma() < 0)\u001b[m\u001b[K || (message->gamma() > 1)) {\n",
            "       \u001b[01;35m\u001b[K~~~~~~~~~~~~~~~~~~~~~^~~~~~~~~~~~~~~~~~~~~~~~~\u001b[m\u001b[K\n",
            "\u001b[01m\u001b[K/content/bigartm/src/artm/core/phi_matrix_operations.cc:\u001b[m\u001b[K In static member function ‘\u001b[01m\u001b[Kstatic void artm::core::PhiMatrixOperations::ApplyTopicModelOperation(const artm::TopicModel&, float, bool, artm::core::PhiMatrix*)\u001b[m\u001b[K’:\n",
            "\u001b[01m\u001b[K/content/bigartm/src/artm/core/phi_matrix_operations.cc:156:60:\u001b[m\u001b[K \u001b[01;35m\u001b[Kwarning: \u001b[m\u001b[Kcomparison between signed and unsigned integer expressions [\u001b[01;35m\u001b[K-Wsign-compare\u001b[m\u001b[K]\n",
            "   if ((apply_weight == 1.0f) && (\u001b[01;35m\u001b[Ktarget_topic_index.size() == this_topic_size\u001b[m\u001b[K)) {\n",
            "                                  \u001b[01;35m\u001b[K~~~~~~~~~~~~~~~~~~~~~~~~~~^~~~~~~~~~~~~~~~~~\u001b[m\u001b[K\n",
            "\u001b[01m\u001b[K/content/bigartm/src/artm/core/phi_matrix_operations.cc:159:43:\u001b[m\u001b[K \u001b[01;35m\u001b[Kwarning: \u001b[m\u001b[Kcomparison between signed and unsigned integer expressions [\u001b[01;35m\u001b[K-Wsign-compare\u001b[m\u001b[K]\n",
            "       if (target_topic_index[topic_index] != topic_index) {\n",
            "[ 78%] \u001b[32mBuilding CXX object src/artm/CMakeFiles/artm-static.dir/core/score_manager.cc.o\u001b[0m\n",
            "[ 78%] \u001b[32mBuilding CXX object src/artm/CMakeFiles/artm-static.dir/core/token.cc.o\u001b[0m\n",
            "[ 78%] \u001b[32mBuilding CXX object src/artm/CMakeFiles/artm-static.dir/core/transform_function.cc.o\u001b[0m\n",
            "[ 79%] \u001b[32mBuilding CXX object src/artm/CMakeFiles/artm-static.dir/regularizer/decorrelator_phi.cc.o\u001b[0m\n",
            "[ 79%] \u001b[32mBuilding CXX object src/artm/CMakeFiles/artm-static.dir/regularizer/multilanguage_phi.cc.o\u001b[0m\n",
            "[ 79%] \u001b[32mBuilding CXX object src/artm/CMakeFiles/artm-static.dir/regularizer/smooth_sparse_phi.cc.o\u001b[0m\n",
            "[ 80%] \u001b[32mBuilding CXX object src/artm/CMakeFiles/artm-static.dir/regularizer/label_regularization_phi.cc.o\u001b[0m\n",
            "[ 80%] \u001b[32mBuilding CXX object src/artm/CMakeFiles/artm-static.dir/regularizer/smooth_sparse_theta.cc.o\u001b[0m\n",
            "\u001b[01m\u001b[K/content/bigartm/src/artm/regularizer/smooth_sparse_theta.cc:\u001b[m\u001b[K In member function ‘\u001b[01m\u001b[Kvirtual void artm::regularizer::SmoothSparseThetaAgent::Apply(int, int, int, const float*, float*) const\u001b[m\u001b[K’:\n",
            "\u001b[01m\u001b[K/content/bigartm/src/artm/regularizer/smooth_sparse_theta.cc:22:19:\u001b[m\u001b[K \u001b[01;35m\u001b[Kwarning: \u001b[m\u001b[Kcomparison between signed and unsigned integer expressions [\u001b[01;35m\u001b[K-Wsign-compare\u001b[m\u001b[K]\n",
            "   if (\u001b[01;35m\u001b[Ktopics_size != topic_weight.size()\u001b[m\u001b[K || inner_iter >= alpha_weight.size()) {\n",
            "       \u001b[01;35m\u001b[K~~~~~~~~~~~~^~~~~~~~~~~~~~~~~~~~~~\u001b[m\u001b[K\n",
            "\u001b[01m\u001b[K/content/bigartm/src/artm/regularizer/smooth_sparse_theta.cc:22:56:\u001b[m\u001b[K \u001b[01;35m\u001b[Kwarning: \u001b[m\u001b[Kcomparison between signed and unsigned integer expressions [\u001b[01;35m\u001b[K-Wsign-compare\u001b[m\u001b[K]\n",
            "   if (topics_size != topic_weight.size() || \u001b[01;35m\u001b[Kinner_iter >= alpha_weight.size()\u001b[m\u001b[K) {\n",
            "                                             \u001b[01;35m\u001b[K~~~~~~~~~~~^~~~~~~~~~~~~~~~~~~~~~\u001b[m\u001b[K\n",
            "\u001b[01m\u001b[K/content/bigartm/src/artm/regularizer/smooth_sparse_theta.cc:34:71:\u001b[m\u001b[K \u001b[01;35m\u001b[Kwarning: \u001b[m\u001b[Kcomparison between signed and unsigned integer expressions [\u001b[01;35m\u001b[K-Wsign-compare\u001b[m\u001b[K]\n",
            "   if (use_universal_multiplier && \u001b[01;35m\u001b[Kuniversal_topic_multiplier_->size() != topics_size\u001b[m\u001b[K) {\n",
            "                                   \u001b[01;35m\u001b[K~~~~~~~~~~~~~~~~~~~~~~~~~~~~~~~~~~~~^~~~~~~~~~~~~~\u001b[m\u001b[K\n",
            "\u001b[01m\u001b[K/content/bigartm/src/artm/regularizer/smooth_sparse_theta.cc:46:56:\u001b[m\u001b[K \u001b[01;35m\u001b[Kwarning: \u001b[m\u001b[Kcomparison between signed and unsigned integer expressions [\u001b[01;35m\u001b[K-Wsign-compare\u001b[m\u001b[K]\n",
            "     if (use_specific_multiplier && \u001b[01;35m\u001b[Kiter->second.size() != topics_size\u001b[m\u001b[K) {\n",
            "                                    \u001b[01;35m\u001b[K~~~~~~~~~~~~~~~~~~~~^~~~~~~~~~~~~~\u001b[m\u001b[K\n",
            "[ 80%] \u001b[32mBuilding CXX object src/artm/CMakeFiles/artm-static.dir/regularizer/smooth_ptdw.cc.o\u001b[0m\n",
            "[ 81%] \u001b[32mBuilding CXX object src/artm/CMakeFiles/artm-static.dir/regularizer/specified_sparse_phi.cc.o\u001b[0m\n",
            "\u001b[01m\u001b[K/content/bigartm/src/artm/regularizer/specified_sparse_phi.cc:\u001b[m\u001b[K In member function ‘\u001b[01m\u001b[Kvirtual bool artm::regularizer::SpecifiedSparsePhi::RegularizePhi(const artm::core::PhiMatrix&, const artm::core::PhiMatrix&, artm::core::PhiMatrix*)\u001b[m\u001b[K’:\n",
            "\u001b[01m\u001b[K/content/bigartm/src/artm/regularizer/specified_sparse_phi.cc:79:28:\u001b[m\u001b[K \u001b[01;35m\u001b[Kwarning: \u001b[m\u001b[Kcomparison between signed and unsigned integer expressions [\u001b[01;35m\u001b[K-Wsign-compare\u001b[m\u001b[K]\n",
            "       if (\u001b[01;35m\u001b[Kmax_queue.size() < config_.max_elements_count()\u001b[m\u001b[K) {\n",
            "           \u001b[01;35m\u001b[K~~~~~~~~~~~~~~~~~^~~~~~~~~~~~~~~~~~~~~~~~~~~~~~\u001b[m\u001b[K\n",
            "[ 81%] \u001b[32mBuilding CXX object src/artm/CMakeFiles/artm-static.dir/regularizer/improve_coherence_phi.cc.o\u001b[0m\n",
            "[ 81%] \u001b[32mBuilding CXX object src/artm/CMakeFiles/artm-static.dir/regularizer/topic_selection_theta.cc.o\u001b[0m\n",
            "\u001b[01m\u001b[K/content/bigartm/src/artm/regularizer/topic_selection_theta.cc:\u001b[m\u001b[K In member function ‘\u001b[01m\u001b[Kvirtual void artm::regularizer::TopicSelectionThetaAgent::Apply(int, int, int, const float*, float*) const\u001b[m\u001b[K’:\n",
            "\u001b[01m\u001b[K/content/bigartm/src/artm/regularizer/topic_selection_theta.cc:26:19:\u001b[m\u001b[K \u001b[01;35m\u001b[Kwarning: \u001b[m\u001b[Kcomparison between signed and unsigned integer expressions [\u001b[01;35m\u001b[K-Wsign-compare\u001b[m\u001b[K]\n",
            "   if (\u001b[01;35m\u001b[Ktopics_size != topic_weight.size()\u001b[m\u001b[K || inner_iter >= alpha_weight.size()) {\n",
            "       \u001b[01;35m\u001b[K~~~~~~~~~~~~^~~~~~~~~~~~~~~~~~~~~~\u001b[m\u001b[K\n",
            "\u001b[01m\u001b[K/content/bigartm/src/artm/regularizer/topic_selection_theta.cc:26:56:\u001b[m\u001b[K \u001b[01;35m\u001b[Kwarning: \u001b[m\u001b[Kcomparison between signed and unsigned integer expressions [\u001b[01;35m\u001b[K-Wsign-compare\u001b[m\u001b[K]\n",
            "   if (topics_size != topic_weight.size() || \u001b[01;35m\u001b[Kinner_iter >= alpha_weight.size()\u001b[m\u001b[K) {\n",
            "                                             \u001b[01;35m\u001b[K~~~~~~~~~~~^~~~~~~~~~~~~~~~~~~~~~\u001b[m\u001b[K\n",
            "\u001b[01m\u001b[K/content/bigartm/src/artm/regularizer/topic_selection_theta.cc:\u001b[m\u001b[K In member function ‘\u001b[01m\u001b[Kvirtual void artm::regularizer::TopicSelectionThetaAgent::Apply(int, const artm::utility::LocalThetaMatrix<float>&, artm::utility::LocalThetaMatrix<float>*) const\u001b[m\u001b[K’:\n",
            "\u001b[01m\u001b[K/content/bigartm/src/artm/regularizer/topic_selection_theta.cc:46:18:\u001b[m\u001b[K \u001b[01;35m\u001b[Kwarning: \u001b[m\u001b[Kcomparison between signed and unsigned integer expressions [\u001b[01;35m\u001b[K-Wsign-compare\u001b[m\u001b[K]\n",
            "   if (\u001b[01;35m\u001b[Ktopic_size != topic_weight.size()\u001b[m\u001b[K || inner_iter >= alpha_weight.size()) {\n",
            "       \u001b[01;35m\u001b[K~~~~~~~~~~~^~~~~~~~~~~~~~~~~~~~~~\u001b[m\u001b[K\n",
            "\u001b[01m\u001b[K/content/bigartm/src/artm/regularizer/topic_selection_theta.cc:46:55:\u001b[m\u001b[K \u001b[01;35m\u001b[Kwarning: \u001b[m\u001b[Kcomparison between signed and unsigned integer expressions [\u001b[01;35m\u001b[K-Wsign-compare\u001b[m\u001b[K]\n",
            "   if (topic_size != topic_weight.size() || \u001b[01;35m\u001b[Kinner_iter >= alpha_weight.size()\u001b[m\u001b[K) {\n",
            "                                            \u001b[01;35m\u001b[K~~~~~~~~~~~^~~~~~~~~~~~~~~~~~~~~~\u001b[m\u001b[K\n",
            "[ 82%] \u001b[32mBuilding CXX object src/artm/CMakeFiles/artm-static.dir/regularizer/biterms_phi.cc.o\u001b[0m\n",
            "[ 82%] \u001b[32mBuilding CXX object src/artm/CMakeFiles/artm-static.dir/regularizer/hierarchy_sparsing_theta.cc.o\u001b[0m\n",
            "\u001b[01m\u001b[K/content/bigartm/src/artm/regularizer/hierarchy_sparsing_theta.cc:\u001b[m\u001b[K In member function ‘\u001b[01m\u001b[Kvirtual void artm::regularizer::HierarchySparsingThetaAgent::Apply(int, const artm::utility::LocalThetaMatrix<float>&, artm::utility::LocalThetaMatrix<float>*) const\u001b[m\u001b[K’:\n",
            "\u001b[01m\u001b[K/content/bigartm/src/artm/regularizer/hierarchy_sparsing_theta.cc:54:18:\u001b[m\u001b[K \u001b[01;35m\u001b[Kwarning: \u001b[m\u001b[Kcomparison between signed and unsigned integer expressions [\u001b[01;35m\u001b[K-Wsign-compare\u001b[m\u001b[K]\n",
            "   if (\u001b[01;35m\u001b[Ktopic_size != topic_weight.size()\u001b[m\u001b[K || inner_iter >= alpha_weight.size()) {\n",
            "       \u001b[01;35m\u001b[K~~~~~~~~~~~^~~~~~~~~~~~~~~~~~~~~~\u001b[m\u001b[K\n",
            "\u001b[01m\u001b[K/content/bigartm/src/artm/regularizer/hierarchy_sparsing_theta.cc:54:55:\u001b[m\u001b[K \u001b[01;35m\u001b[Kwarning: \u001b[m\u001b[Kcomparison between signed and unsigned integer expressions [\u001b[01;35m\u001b[K-Wsign-compare\u001b[m\u001b[K]\n",
            "   if (topic_size != topic_weight.size() || \u001b[01;35m\u001b[Kinner_iter >= alpha_weight.size()\u001b[m\u001b[K) {\n",
            "                                            \u001b[01;35m\u001b[K~~~~~~~~~~~^~~~~~~~~~~~~~~~~~~~~~\u001b[m\u001b[K\n",
            "[ 82%] \u001b[32mBuilding CXX object src/artm/CMakeFiles/artm-static.dir/regularizer/topic_segmentation_ptdw.cc.o\u001b[0m\n",
            "[ 83%] \u001b[32mBuilding CXX object src/artm/CMakeFiles/artm-static.dir/regularizer/smooth_time_in_topics_phi.cc.o\u001b[0m\n",
            "[ 83%] \u001b[32mBuilding CXX object src/artm/CMakeFiles/artm-static.dir/regularizer/net_plsa_phi.cc.o\u001b[0m\n",
            "\u001b[01m\u001b[K/content/bigartm/src/artm/regularizer/net_plsa_phi.cc:\u001b[m\u001b[K In member function ‘\u001b[01m\u001b[Kvirtual bool artm::regularizer::NetPlsaPhi::RegularizePhi(const artm::core::PhiMatrix&, const artm::core::PhiMatrix&, artm::core::PhiMatrix*)\u001b[m\u001b[K’:\n",
            "\u001b[01m\u001b[K/content/bigartm/src/artm/regularizer/net_plsa_phi.cc:41:42:\u001b[m\u001b[K \u001b[01;35m\u001b[Kwarning: \u001b[m\u001b[Kcomparison between signed and unsigned integer expressions [\u001b[01;35m\u001b[K-Wsign-compare\u001b[m\u001b[K]\n",
            "   if (has_weights && \u001b[01;35m\u001b[Kvertex_name_.size() != config_.vertex_weight_size()\u001b[m\u001b[K) {\n",
            "                      \u001b[01;35m\u001b[K~~~~~~~~~~~~~~~~~~~~^~~~~~~~~~~~~~~~~~~~~~~~~~~~~~~\u001b[m\u001b[K\n",
            "\u001b[01m\u001b[K/content/bigartm/src/artm/regularizer/net_plsa_phi.cc:55:37:\u001b[m\u001b[K \u001b[01;35m\u001b[Kwarning: \u001b[m\u001b[Kcomparison between signed and unsigned integer expressions [\u001b[01;35m\u001b[K-Wsign-compare\u001b[m\u001b[K]\n",
            "   for (int vertex_id = 0; \u001b[01;35m\u001b[Kvertex_id < vertex_name_.size()\u001b[m\u001b[K; ++vertex_id) {\n",
            "                           \u001b[01;35m\u001b[K~~~~~~~~~~^~~~~~~~~~~~~~~~~~~~~\u001b[m\u001b[K\n",
            "\u001b[01m\u001b[K/content/bigartm/src/artm/regularizer/net_plsa_phi.cc:76:27:\u001b[m\u001b[K \u001b[01;35m\u001b[Kwarning: \u001b[m\u001b[Kcomparison between signed and unsigned integer expressions [\u001b[01;35m\u001b[K-Wsign-compare\u001b[m\u001b[K]\n",
            "         if (\u001b[01;35m\u001b[Kpair_id.first >= vertex_name_.size()\u001b[m\u001b[K || pair_id.first < 0) {\n",
            "             \u001b[01;35m\u001b[K~~~~~~~~~~~~~~^~~~~~~~~~~~~~~~~~~~~~\u001b[m\u001b[K\n",
            "[ 83%] \u001b[32mBuilding CXX object src/artm/CMakeFiles/artm-static.dir/score/class_precision.cc.o\u001b[0m\n",
            "[ 84%] \u001b[32mBuilding CXX object src/artm/CMakeFiles/artm-static.dir/score/items_processed.cc.o\u001b[0m\n",
            "[ 84%] \u001b[32mBuilding CXX object src/artm/CMakeFiles/artm-static.dir/score/peak_memory.cc.o\u001b[0m\n",
            "[ 84%] \u001b[32mBuilding CXX object src/artm/CMakeFiles/artm-static.dir/score/perplexity.cc.o\u001b[0m\n",
            "\u001b[01m\u001b[K/content/bigartm/src/artm/score/perplexity.cc:\u001b[m\u001b[K In member function ‘\u001b[01m\u001b[Kvirtual void artm::score::Perplexity::AppendScore(const artm::Item&, const artm::Batch&, const std::vector<artm::core::Token>&, const artm::core::PhiMatrix&, const artm::ProcessBatchesArgs&, const std::vector<float>&, artm::Score*)\u001b[m\u001b[K’:\n",
            "\u001b[01m\u001b[K/content/bigartm/src/artm/score/perplexity.cc:169:11:\u001b[m\u001b[K \u001b[01;35m\u001b[Kwarning: \u001b[m\u001b[Kvariable ‘\u001b[01m\u001b[Ktt_weight\u001b[m\u001b[K’ set but not used [\u001b[01;35m\u001b[K-Wunused-but-set-variable\u001b[m\u001b[K]\n",
            "     float \u001b[01;35m\u001b[Ktt_weight\u001b[m\u001b[K = 1.0f;\n",
            "           \u001b[01;35m\u001b[K^~~~~~~~~\u001b[m\u001b[K\n",
            "\u001b[01m\u001b[K/content/bigartm/src/artm/score/perplexity.cc:\u001b[m\u001b[K In member function ‘\u001b[01m\u001b[Kvirtual void artm::score::Perplexity::AppendScore(const Score&, artm::Score*)\u001b[m\u001b[K’:\n",
            "\u001b[01m\u001b[K/content/bigartm/src/artm/score/perplexity.cc:292:26:\u001b[m\u001b[K \u001b[01;35m\u001b[Kwarning: \u001b[m\u001b[Kcomparison between signed and unsigned integer expressions [\u001b[01;35m\u001b[K-Wsign-compare\u001b[m\u001b[K]\n",
            "     for (size_t i = 0; \u001b[01;35m\u001b[Ki < perplexity_score->transaction_typename_info_size()\u001b[m\u001b[K; ++i) {\n",
            "                        \u001b[01;35m\u001b[K~~^~~~~~~~~~~~~~~~~~~~~~~~~~~~~~~~~~~~~~~~~~~~~~~~~~~~\u001b[m\u001b[K\n",
            "\u001b[01m\u001b[K/content/bigartm/src/artm/score/perplexity.cc:296:28:\u001b[m\u001b[K \u001b[01;35m\u001b[Kwarning: \u001b[m\u001b[Kcomparison between signed and unsigned integer expressions [\u001b[01;35m\u001b[K-Wsign-compare\u001b[m\u001b[K]\n",
            "       for (size_t j = 0; \u001b[01;35m\u001b[Kj < perplexity_target->transaction_typename_info_size()\u001b[m\u001b[K; ++j) {\n",
            "                          \u001b[01;35m\u001b[K~~^~~~~~~~~~~~~~~~~~~~~~~~~~~~~~~~~~~~~~~~~~~~~~~~~~~~~\u001b[m\u001b[K\n",
            "\u001b[01m\u001b[K/content/bigartm/src/artm/score/perplexity.cc:323:26:\u001b[m\u001b[K \u001b[01;35m\u001b[Kwarning: \u001b[m\u001b[Kcomparison between signed and unsigned integer expressions [\u001b[01;35m\u001b[K-Wsign-compare\u001b[m\u001b[K]\n",
            "     for (size_t j = 0; \u001b[01;35m\u001b[Kj < perplexity_target->transaction_typename_info_size()\u001b[m\u001b[K; ++j) {\n",
            "                        \u001b[01;35m\u001b[K~~^~~~~~~~~~~~~~~~~~~~~~~~~~~~~~~~~~~~~~~~~~~~~~~~~~~~~\u001b[m\u001b[K\n",
            "[ 85%] \u001b[32mBuilding CXX object src/artm/CMakeFiles/artm-static.dir/score/sparsity_phi.cc.o\u001b[0m\n",
            "[ 85%] \u001b[32mBuilding CXX object src/artm/CMakeFiles/artm-static.dir/score/sparsity_theta.cc.o\u001b[0m\n",
            "[ 85%] \u001b[32mBuilding CXX object src/artm/CMakeFiles/artm-static.dir/score/theta_snippet.cc.o\u001b[0m\n",
            "[ 86%] \u001b[32mBuilding CXX object src/artm/CMakeFiles/artm-static.dir/score/top_tokens.cc.o\u001b[0m\n",
            "[ 86%] \u001b[32mBuilding CXX object src/artm/CMakeFiles/artm-static.dir/score/topic_kernel.cc.o\u001b[0m\n",
            "[ 86%] \u001b[32mBuilding CXX object src/artm/CMakeFiles/artm-static.dir/score/topic_mass_phi.cc.o\u001b[0m\n",
            "[ 88%] \u001b[32mBuilding CXX object src/artm/CMakeFiles/artm-static.dir/score/background_tokens_ratio.cc.o\u001b[0m\n",
            "[ 88%] \u001b[32mBuilding CXX object src/artm/CMakeFiles/artm-static.dir/utility/blas.cc.o\u001b[0m\n",
            "[ 88%] \u001b[32mBuilding CXX object src/artm/CMakeFiles/artm-static.dir/utility/progress_printer.cc.o\u001b[0m\n",
            "[ 89%] \u001b[32m\u001b[1mLinking CXX static library ../../lib/libartm-static.a\u001b[0m\n",
            "[ 89%] Built target artm-static\n",
            "\u001b[35m\u001b[1mScanning dependencies of target artm\u001b[0m\n",
            "[ 89%] \u001b[32mBuilding CXX object src/artm/CMakeFiles/artm.dir/c_interface.cc.o\u001b[0m\n",
            "In file included from \u001b[01m\u001b[K/content/bigartm/src/artm/c_interface.cc:18:0\u001b[m\u001b[K:\n",
            "\u001b[01m\u001b[K/content/bigartm/src/artm/../artm/core/check_messages.h:\u001b[m\u001b[K In function ‘\u001b[01m\u001b[Kvoid artm::core::FixMessage(T*) [with T = artm::RegularizerConfig]\u001b[m\u001b[K’:\n",
            "\u001b[01m\u001b[K/content/bigartm/src/artm/../artm/core/check_messages.h:553:28:\u001b[m\u001b[K \u001b[01;35m\u001b[Kwarning: \u001b[m\u001b[Ksuggest parentheses around ‘\u001b[01m\u001b[K&&\u001b[m\u001b[K’ within ‘\u001b[01m\u001b[K||\u001b[m\u001b[K’ [\u001b[01;35m\u001b[K-Wparentheses\u001b[m\u001b[K]\n",
            "   if (\u001b[01;35m\u001b[Kmessage->has_gamma() && (message->gamma() < 0)\u001b[m\u001b[K || (message->gamma() > 1)) {\n",
            "       \u001b[01;35m\u001b[K~~~~~~~~~~~~~~~~~~~~~^~~~~~~~~~~~~~~~~~~~~~~~~\u001b[m\u001b[K\n",
            "[ 90%] \u001b[32mBuilding CXX object src/artm/CMakeFiles/artm.dir/cpp_interface.cc.o\u001b[0m\n",
            "[ 90%] \u001b[32mBuilding CXX object src/artm/CMakeFiles/artm.dir/messages.pb.cc.o\u001b[0m\n",
            "[ 90%] \u001b[32m\u001b[1mLinking CXX shared library ../../lib/libartm.so\u001b[0m\n",
            "[ 90%] Built target artm\n",
            "\u001b[35m\u001b[1mScanning dependencies of target artm_tests\u001b[0m\n",
            "[ 90%] \u001b[32mBuilding CXX object src/artm_tests/CMakeFiles/artm_tests.dir/api.cc.o\u001b[0m\n",
            "[ 90%] \u001b[32mBuilding CXX object src/artm_tests/CMakeFiles/artm_tests.dir/batch_manager_test.cc.o\u001b[0m\n",
            "[ 91%] \u001b[32mBuilding CXX object src/artm_tests/CMakeFiles/artm_tests.dir/blas_test.cc.o\u001b[0m\n",
            "[ 91%] \u001b[32mBuilding CXX object src/artm_tests/CMakeFiles/artm_tests.dir/boost_thread_test.cc.o\u001b[0m\n",
            "[ 91%] \u001b[32mBuilding CXX object src/artm_tests/CMakeFiles/artm_tests.dir/cache_manager_test.cc.o\u001b[0m\n",
            "In file included from \u001b[01m\u001b[K/content/bigartm/src/artm_tests/cache_manager_test.cc:5:0\u001b[m\u001b[K:\n",
            "/content/bigartm/3rdparty/gtest/fused-src/gtest/gtest.h: In instantiation of ‘\u001b[01m\u001b[Ktesting::AssertionResult testing::internal::CmpHelperEQ(const char*, const char*, const T1&, const T2&) [with T1 = long unsigned int; T2 = int]\u001b[m\u001b[K’:\n",
            "\u001b[01m\u001b[K/content/bigartm/3rdparty/gtest/fused-src/gtest/gtest.h:18897:23:\u001b[m\u001b[K   required from ‘\u001b[01m\u001b[Kstatic testing::AssertionResult testing::internal::EqHelper<lhs_is_null_literal>::Compare(const char*, const char*, const T1&, const T2&) [with T1 = long unsigned int; T2 = int; bool lhs_is_null_literal = false]\u001b[m\u001b[K’\n",
            "\u001b[01m\u001b[K/content/bigartm/src/artm_tests/cache_manager_test.cc:27:3:\u001b[m\u001b[K   required from here\n",
            "\u001b[01m\u001b[K/content/bigartm/3rdparty/gtest/fused-src/gtest/gtest.h:18861:16:\u001b[m\u001b[K \u001b[01;35m\u001b[Kwarning: \u001b[m\u001b[Kcomparison between signed and unsigned integer expressions [\u001b[01;35m\u001b[K-Wsign-compare\u001b[m\u001b[K]\n",
            "   if (\u001b[01;35m\u001b[Kexpected == actual\u001b[m\u001b[K) {\n",
            "       \u001b[01;35m\u001b[K~~~~~~~~~^~~~~~~~~\u001b[m\u001b[K\n",
            "[ 92%] \u001b[32mBuilding CXX object src/artm_tests/CMakeFiles/artm_tests.dir/collection_parser_test.cc.o\u001b[0m\n",
            "[ 92%] \u001b[32mBuilding CXX object src/artm_tests/CMakeFiles/artm_tests.dir/cpp_interface_test.cc.o\u001b[0m\n",
            "\u001b[01m\u001b[K/content/bigartm/src/artm_tests/cpp_interface_test.cc:\u001b[m\u001b[K In member function ‘\u001b[01m\u001b[Kvirtual void CppInterface_AsyncProcessBatches_Test::TestBody()\u001b[m\u001b[K’:\n",
            "\u001b[01m\u001b[K/content/bigartm/src/artm_tests/cpp_interface_test.cc:700:26:\u001b[m\u001b[K \u001b[01;35m\u001b[Kwarning: \u001b[m\u001b[Kcomparison between signed and unsigned integer expressions [\u001b[01;35m\u001b[K-Wsign-compare\u001b[m\u001b[K]\n",
            "   for (unsigned i = 0; \u001b[01;35m\u001b[Ki < offlineArgs.batch_filename_size()\u001b[m\u001b[K; ++i) {\n",
            "                        \u001b[01;35m\u001b[K~~^~~~~~~~~~~~~~~~~~~~~~~~~~~~~~~~~~~\u001b[m\u001b[K\n",
            "In file included from \u001b[01m\u001b[K/content/bigartm/src/artm_tests/cpp_interface_test.cc:4:0\u001b[m\u001b[K:\n",
            "/content/bigartm/3rdparty/gtest/fused-src/gtest/gtest.h: In instantiation of ‘\u001b[01m\u001b[Ktesting::AssertionResult testing::internal::CmpHelperGT(const char*, const char*, const T1&, const T2&) [with T1 = long unsigned int; T2 = int]\u001b[m\u001b[K’:\n",
            "\u001b[01m\u001b[K/content/bigartm/src/artm_tests/cpp_interface_test.cc:31:3:\u001b[m\u001b[K   required from here\n",
            "\u001b[01m\u001b[K/content/bigartm/3rdparty/gtest/fused-src/gtest/gtest.h:18998:28:\u001b[m\u001b[K \u001b[01;35m\u001b[Kwarning: \u001b[m\u001b[Kcomparison between signed and unsigned integer expressions [\u001b[01;35m\u001b[K-Wsign-compare\u001b[m\u001b[K]\n",
            "\u001b[01m\u001b[K/content/bigartm/3rdparty/gtest/fused-src/gtest/gtest.h:18975:7:\u001b[m\u001b[K\n",
            "   if (\u001b[01;35m\u001b[Kval1 op v\u001b[m\u001b[Kal2) {\\\n",
            "       \u001b[01;35m\u001b[K~~~~~~~~~\u001b[m\u001b[K             \n",
            "\u001b[01m\u001b[K/content/bigartm/3rdparty/gtest/fused-src/gtest/gtest.h:18998:28:\u001b[m\u001b[K\n",
            " GTEST_IMPL_CMP_HELPER_(GT, >);\n",
            "\u001b[01m\u001b[K/content/bigartm/3rdparty/gtest/fused-src/gtest/gtest.h:18975:12:\u001b[m\u001b[K \u001b[01;36m\u001b[Knote: \u001b[m\u001b[Kin definition of macro ‘\u001b[01m\u001b[KGTEST_IMPL_CMP_HELPER_\u001b[m\u001b[K’\n",
            "   if (val1 \u001b[01;36m\u001b[Kop\u001b[m\u001b[K val2) {\\\n",
            "            \u001b[01;36m\u001b[K^~\u001b[m\u001b[K\n",
            "/content/bigartm/3rdparty/gtest/fused-src/gtest/gtest.h: In instantiation of ‘\u001b[01m\u001b[Ktesting::AssertionResult testing::internal::CmpHelperEQ(const char*, const char*, const T1&, const T2&) [with T1 = long unsigned int; T2 = int]\u001b[m\u001b[K’:\n",
            "\u001b[01m\u001b[K/content/bigartm/3rdparty/gtest/fused-src/gtest/gtest.h:18897:23:\u001b[m\u001b[K   required from ‘\u001b[01m\u001b[Kstatic testing::AssertionResult testing::internal::EqHelper<lhs_is_null_literal>::Compare(const char*, const char*, const T1&, const T2&) [with T1 = long unsigned int; T2 = int; bool lhs_is_null_literal = false]\u001b[m\u001b[K’\n",
            "\u001b[01m\u001b[K/content/bigartm/src/artm_tests/cpp_interface_test.cc:342:7:\u001b[m\u001b[K   required from here\n",
            "\u001b[01m\u001b[K/content/bigartm/3rdparty/gtest/fused-src/gtest/gtest.h:18861:16:\u001b[m\u001b[K \u001b[01;35m\u001b[Kwarning: \u001b[m\u001b[Kcomparison between signed and unsigned integer expressions [\u001b[01;35m\u001b[K-Wsign-compare\u001b[m\u001b[K]\n",
            "   if (\u001b[01;35m\u001b[Kexpected == actual\u001b[m\u001b[K) {\n",
            "       \u001b[01;35m\u001b[K~~~~~~~~~^~~~~~~~~\u001b[m\u001b[K\n",
            "[ 92%] \u001b[32mBuilding CXX object src/artm_tests/CMakeFiles/artm_tests.dir/master_model_test.cc.o\u001b[0m\n",
            "\u001b[01m\u001b[K/content/bigartm/src/artm_tests/master_model_test.cc:\u001b[m\u001b[K In function ‘\u001b[01m\u001b[Kvoid testReshapeTokens(bool, bool)\u001b[m\u001b[K’:\n",
            "\u001b[01m\u001b[K/content/bigartm/src/artm_tests/master_model_test.cc:277:9:\u001b[m\u001b[K \u001b[01;35m\u001b[Kwarning: \u001b[m\u001b[Kunused variable ‘\u001b[01m\u001b[Kexpected\u001b[m\u001b[K’ [\u001b[01;35m\u001b[K-Wunused-variable\u001b[m\u001b[K]\n",
            "   float \u001b[01;35m\u001b[Kexpected\u001b[m\u001b[K[] = { 14.3481f, 11.7418f, 10.8133f, 10.3792f };\n",
            "         \u001b[01;35m\u001b[K^~~~~~~~\u001b[m\u001b[K\n",
            "In file included from \u001b[01m\u001b[K/content/bigartm/src/artm_tests/master_model_test.cc:7:0\u001b[m\u001b[K:\n",
            "/content/bigartm/3rdparty/gtest/fused-src/gtest/gtest.h: In instantiation of ‘\u001b[01m\u001b[Ktesting::AssertionResult testing::internal::CmpHelperEQ(const char*, const char*, const T1&, const T2&) [with T1 = long unsigned int; T2 = int]\u001b[m\u001b[K’:\n",
            "\u001b[01m\u001b[K/content/bigartm/3rdparty/gtest/fused-src/gtest/gtest.h:18897:23:\u001b[m\u001b[K   required from ‘\u001b[01m\u001b[Kstatic testing::AssertionResult testing::internal::EqHelper<lhs_is_null_literal>::Compare(const char*, const char*, const T1&, const T2&) [with T1 = long unsigned int; T2 = int; bool lhs_is_null_literal = false]\u001b[m\u001b[K’\n",
            "\u001b[01m\u001b[K/content/bigartm/src/artm_tests/master_model_test.cc:95:5:\u001b[m\u001b[K   required from here\n",
            "\u001b[01m\u001b[K/content/bigartm/3rdparty/gtest/fused-src/gtest/gtest.h:18861:16:\u001b[m\u001b[K \u001b[01;35m\u001b[Kwarning: \u001b[m\u001b[Kcomparison between signed and unsigned integer expressions [\u001b[01;35m\u001b[K-Wsign-compare\u001b[m\u001b[K]\n",
            "   if (\u001b[01;35m\u001b[Kexpected == actual\u001b[m\u001b[K) {\n",
            "       \u001b[01;35m\u001b[K~~~~~~~~~^~~~~~~~~\u001b[m\u001b[K\n",
            "[ 93%] \u001b[32mBuilding CXX object src/artm_tests/CMakeFiles/artm_tests.dir/multiple_classes_test.cc.o\u001b[0m\n",
            "[ 93%] \u001b[32mBuilding CXX object src/artm_tests/CMakeFiles/artm_tests.dir/regularizers_test.cc.o\u001b[0m\n",
            "In file included from \u001b[01m\u001b[K/content/bigartm/src/artm_tests/regularizers_test.cc:6:0\u001b[m\u001b[K:\n",
            "/content/bigartm/3rdparty/gtest/fused-src/gtest/gtest.h: In instantiation of ‘\u001b[01m\u001b[Ktesting::AssertionResult testing::internal::CmpHelperEQ(const char*, const char*, const T1&, const T2&) [with T1 = long unsigned int; T2 = int]\u001b[m\u001b[K’:\n",
            "\u001b[01m\u001b[K/content/bigartm/3rdparty/gtest/fused-src/gtest/gtest.h:18897:23:\u001b[m\u001b[K   required from ‘\u001b[01m\u001b[Kstatic testing::AssertionResult testing::internal::EqHelper<lhs_is_null_literal>::Compare(const char*, const char*, const T1&, const T2&) [with T1 = long unsigned int; T2 = int; bool lhs_is_null_literal = false]\u001b[m\u001b[K’\n",
            "\u001b[01m\u001b[K/content/bigartm/src/artm_tests/regularizers_test.cc:377:5:\u001b[m\u001b[K   required from here\n",
            "\u001b[01m\u001b[K/content/bigartm/3rdparty/gtest/fused-src/gtest/gtest.h:18861:16:\u001b[m\u001b[K \u001b[01;35m\u001b[Kwarning: \u001b[m\u001b[Kcomparison between signed and unsigned integer expressions [\u001b[01;35m\u001b[K-Wsign-compare\u001b[m\u001b[K]\n",
            "   if (\u001b[01;35m\u001b[Kexpected == actual\u001b[m\u001b[K) {\n",
            "       \u001b[01;35m\u001b[K~~~~~~~~~^~~~~~~~~\u001b[m\u001b[K\n",
            "[ 93%] \u001b[32mBuilding CXX object src/artm_tests/CMakeFiles/artm_tests.dir/scores_test.cc.o\u001b[0m\n",
            "\u001b[01m\u001b[K/content/bigartm/src/artm_tests/scores_test.cc:\u001b[m\u001b[K In member function ‘\u001b[01m\u001b[Kvirtual void Scores_ScoreTrackerExportImport_Test::TestBody()\u001b[m\u001b[K’:\n",
            "\u001b[01m\u001b[K/content/bigartm/src/artm_tests/scores_test.cc:197:24:\u001b[m\u001b[K \u001b[01;35m\u001b[Kwarning: \u001b[m\u001b[Kcomparison between signed and unsigned integer expressions [\u001b[01;35m\u001b[K-Wsign-compare\u001b[m\u001b[K]\n",
            "   for (size_t i = 0; \u001b[01;35m\u001b[Ki < nPasses\u001b[m\u001b[K; ++i) {\n",
            "                      \u001b[01;35m\u001b[K~~^~~~~~~~~\u001b[m\u001b[K\n",
            "\u001b[01m\u001b[K/content/bigartm/src/artm_tests/scores_test.cc:204:24:\u001b[m\u001b[K \u001b[01;35m\u001b[Kwarning: \u001b[m\u001b[Kcomparison between signed and unsigned integer expressions [\u001b[01;35m\u001b[K-Wsign-compare\u001b[m\u001b[K]\n",
            "   for (size_t i = 0; \u001b[01;35m\u001b[Ki < nPasses\u001b[m\u001b[K; ++i) {\n",
            "                      \u001b[01;35m\u001b[K~~^~~~~~~~~\u001b[m\u001b[K\n",
            "[ 94%] \u001b[32mBuilding CXX object src/artm_tests/CMakeFiles/artm_tests.dir/repeatable_result_test.cc.o\u001b[0m\n",
            "In file included from \u001b[01m\u001b[K/content/bigartm/src/artm_tests/repeatable_result_test.cc:4:0\u001b[m\u001b[K:\n",
            "/content/bigartm/3rdparty/gtest/fused-src/gtest/gtest.h: In instantiation of ‘\u001b[01m\u001b[Ktesting::AssertionResult testing::internal::CmpHelperEQ(const char*, const char*, const T1&, const T2&) [with T1 = long unsigned int; T2 = int]\u001b[m\u001b[K’:\n",
            "\u001b[01m\u001b[K/content/bigartm/3rdparty/gtest/fused-src/gtest/gtest.h:18897:23:\u001b[m\u001b[K   required from ‘\u001b[01m\u001b[Kstatic testing::AssertionResult testing::internal::EqHelper<lhs_is_null_literal>::Compare(const char*, const char*, const T1&, const T2&) [with T1 = long unsigned int; T2 = int; bool lhs_is_null_literal = false]\u001b[m\u001b[K’\n",
            "\u001b[01m\u001b[K/content/bigartm/src/artm_tests/repeatable_result_test.cc:72:3:\u001b[m\u001b[K   required from here\n",
            "\u001b[01m\u001b[K/content/bigartm/3rdparty/gtest/fused-src/gtest/gtest.h:18861:16:\u001b[m\u001b[K \u001b[01;35m\u001b[Kwarning: \u001b[m\u001b[Kcomparison between signed and unsigned integer expressions [\u001b[01;35m\u001b[K-Wsign-compare\u001b[m\u001b[K]\n",
            "   if (\u001b[01;35m\u001b[Kexpected == actual\u001b[m\u001b[K) {\n",
            "       \u001b[01;35m\u001b[K~~~~~~~~~^~~~~~~~~\u001b[m\u001b[K\n",
            "[ 94%] \u001b[32mBuilding CXX object src/artm_tests/CMakeFiles/artm_tests.dir/supcry_test.cc.o\u001b[0m\n",
            "[ 94%] \u001b[32mBuilding CXX object src/artm_tests/CMakeFiles/artm_tests.dir/template_manager_test.cc.o\u001b[0m\n",
            "In file included from \u001b[01m\u001b[K/content/bigartm/src/artm_tests/template_manager_test.cc:8:0\u001b[m\u001b[K:\n",
            "\u001b[01m\u001b[K/content/bigartm/src/artm_tests/../artm/core/check_messages.h:\u001b[m\u001b[K In function ‘\u001b[01m\u001b[Kvoid artm::core::FixMessage(T*) [with T = artm::RegularizerConfig]\u001b[m\u001b[K’:\n",
            "\u001b[01m\u001b[K/content/bigartm/src/artm_tests/../artm/core/check_messages.h:553:28:\u001b[m\u001b[K \u001b[01;35m\u001b[Kwarning: \u001b[m\u001b[Ksuggest parentheses around ‘\u001b[01m\u001b[K&&\u001b[m\u001b[K’ within ‘\u001b[01m\u001b[K||\u001b[m\u001b[K’ [\u001b[01;35m\u001b[K-Wparentheses\u001b[m\u001b[K]\n",
            "   if (\u001b[01;35m\u001b[Kmessage->has_gamma() && (message->gamma() < 0)\u001b[m\u001b[K || (message->gamma() > 1)) {\n",
            "       \u001b[01;35m\u001b[K~~~~~~~~~~~~~~~~~~~~~^~~~~~~~~~~~~~~~~~~~~~~~~\u001b[m\u001b[K\n",
            "[ 95%] \u001b[32mBuilding CXX object src/artm_tests/CMakeFiles/artm_tests.dir/test_mother.cc.o\u001b[0m\n",
            "[ 95%] \u001b[32mBuilding CXX object src/artm_tests/CMakeFiles/artm_tests.dir/thread_safe_holder_test.cc.o\u001b[0m\n",
            "[ 96%] \u001b[32mBuilding CXX object src/artm_tests/CMakeFiles/artm_tests.dir/topic_seg_test.cc.o\u001b[0m\n",
            "[ 96%] \u001b[32mBuilding CXX object src/artm_tests/CMakeFiles/artm_tests.dir/transactions_test.cc.o\u001b[0m\n",
            "\u001b[01m\u001b[K/content/bigartm/src/artm_tests/transactions_test.cc:\u001b[m\u001b[K In member function ‘\u001b[01m\u001b[Kvirtual void Transactions_BasicTest_Test::TestBody()\u001b[m\u001b[K’:\n",
            "\u001b[01m\u001b[K/content/bigartm/src/artm_tests/transactions_test.cc:166:27:\u001b[m\u001b[K \u001b[01;35m\u001b[Kwarning: \u001b[m\u001b[Kcomparison between signed and unsigned integer expressions [\u001b[01;35m\u001b[K-Wsign-compare\u001b[m\u001b[K]\n",
            "         for (int x = 0; \u001b[01;35m\u001b[Kx < transactions.size()\u001b[m\u001b[K; ++x) {\n",
            "                         \u001b[01;35m\u001b[K~~^~~~~~~~~~~~~~~~~~~~~\u001b[m\u001b[K\n",
            "[ 96%] \u001b[32mBuilding CXX object src/artm_tests/CMakeFiles/artm_tests.dir/__/__/3rdparty/gtest/fused-src/gtest/gtest_main.cc.o\u001b[0m\n",
            "[ 97%] \u001b[32mBuilding CXX object src/artm_tests/CMakeFiles/artm_tests.dir/__/__/3rdparty/gtest/fused-src/gtest/gtest-all.cc.o\u001b[0m\n",
            "[ 97%] \u001b[32m\u001b[1mLinking CXX executable ../../bin/artm_tests\u001b[0m\n",
            "[ 97%] Built target artm_tests\n",
            "\u001b[35m\u001b[1mScanning dependencies of target bigartm\u001b[0m\n",
            "[ 97%] \u001b[32mBuilding CXX object src/bigartm/CMakeFiles/bigartm.dir/srcmain.cc.o\u001b[0m\n",
            "[ 98%] \u001b[32m\u001b[1mLinking CXX executable ../../bin/bigartm\u001b[0m\n",
            "[ 98%] Built target bigartm\n",
            "\u001b[35m\u001b[1mScanning dependencies of target python_bigartm_build\u001b[0m\n",
            "[ 98%] \u001b[34m\u001b[1mBuilding python package bigartm\u001b[0m\n",
            "running build\n",
            "Generating ./artm/wrapper/messages_pb2.py...\n",
            "Executing ['/content/bigartm/build/bin/protoc', '-I../src', '--python_out=./tmpibpbd1f1', '../src/./artm/messages.proto']...\n",
            "running build_py\n",
            "creating build\n",
            "creating build/lib\n",
            "creating build/lib/artm\n",
            "copying artm/regularizers.py -> build/lib/artm\n",
            "copying artm/batches_utils.py -> build/lib/artm\n",
            "copying artm/artm_model.py -> build/lib/artm\n",
            "copying artm/lda_model.py -> build/lib/artm\n",
            "copying artm/score_tracker.py -> build/lib/artm\n",
            "copying artm/master_component.py -> build/lib/artm\n",
            "copying artm/dictionary.py -> build/lib/artm\n",
            "copying artm/__init__.py -> build/lib/artm\n",
            "copying artm/scores.py -> build/lib/artm\n",
            "copying artm/hierarchy_utils.py -> build/lib/artm\n",
            "creating build/lib/artm/wrapper\n",
            "copying artm/wrapper/api.py -> build/lib/artm/wrapper\n",
            "copying artm/wrapper/exceptions.py -> build/lib/artm/wrapper\n",
            "copying artm/wrapper/spec.py -> build/lib/artm/wrapper\n",
            "copying artm/wrapper/utils.py -> build/lib/artm/wrapper\n",
            "copying artm/wrapper/__init__.py -> build/lib/artm/wrapper\n",
            "copying artm/wrapper/constants.py -> build/lib/artm/wrapper\n",
            "copying artm/wrapper/messages_pb2.py -> build/lib/artm/wrapper\n",
            "[ 98%] Built target python_bigartm_build\n",
            "\u001b[35m\u001b[1mScanning dependencies of target python_bigartm_wheel\u001b[0m\n",
            "[100%] \u001b[34m\u001b[1mBuilding wheel bigartm\u001b[0m\n",
            "running bdist_wheel\n",
            "running build\n",
            "running build_py\n",
            "running build_ext\n",
            "installing to build/bdist.linux-x86_64/wheel\n",
            "running install\n",
            "running install_lib\n",
            "creating build/bdist.linux-x86_64\n",
            "creating build/bdist.linux-x86_64/wheel\n",
            "creating build/bdist.linux-x86_64/wheel/bigartm-0.10.0.data\n",
            "creating build/bdist.linux-x86_64/wheel/bigartm-0.10.0.data/purelib\n",
            "creating build/bdist.linux-x86_64/wheel/bigartm-0.10.0.data/purelib/artm\n",
            "copying build/lib/artm/regularizers.py -> build/bdist.linux-x86_64/wheel/bigartm-0.10.0.data/purelib/artm\n",
            "copying build/lib/artm/libartm.so -> build/bdist.linux-x86_64/wheel/bigartm-0.10.0.data/purelib/artm\n",
            "copying build/lib/artm/batches_utils.py -> build/bdist.linux-x86_64/wheel/bigartm-0.10.0.data/purelib/artm\n",
            "copying build/lib/artm/artm_model.py -> build/bdist.linux-x86_64/wheel/bigartm-0.10.0.data/purelib/artm\n",
            "copying build/lib/artm/lda_model.py -> build/bdist.linux-x86_64/wheel/bigartm-0.10.0.data/purelib/artm\n",
            "copying build/lib/artm/score_tracker.py -> build/bdist.linux-x86_64/wheel/bigartm-0.10.0.data/purelib/artm\n",
            "copying build/lib/artm/master_component.py -> build/bdist.linux-x86_64/wheel/bigartm-0.10.0.data/purelib/artm\n",
            "copying build/lib/artm/dictionary.py -> build/bdist.linux-x86_64/wheel/bigartm-0.10.0.data/purelib/artm\n",
            "copying build/lib/artm/__init__.py -> build/bdist.linux-x86_64/wheel/bigartm-0.10.0.data/purelib/artm\n",
            "creating build/bdist.linux-x86_64/wheel/bigartm-0.10.0.data/purelib/artm/wrapper\n",
            "copying build/lib/artm/wrapper/api.py -> build/bdist.linux-x86_64/wheel/bigartm-0.10.0.data/purelib/artm/wrapper\n",
            "copying build/lib/artm/wrapper/exceptions.py -> build/bdist.linux-x86_64/wheel/bigartm-0.10.0.data/purelib/artm/wrapper\n",
            "copying build/lib/artm/wrapper/spec.py -> build/bdist.linux-x86_64/wheel/bigartm-0.10.0.data/purelib/artm/wrapper\n",
            "copying build/lib/artm/wrapper/utils.py -> build/bdist.linux-x86_64/wheel/bigartm-0.10.0.data/purelib/artm/wrapper\n",
            "copying build/lib/artm/wrapper/__init__.py -> build/bdist.linux-x86_64/wheel/bigartm-0.10.0.data/purelib/artm/wrapper\n",
            "copying build/lib/artm/wrapper/constants.py -> build/bdist.linux-x86_64/wheel/bigartm-0.10.0.data/purelib/artm/wrapper\n",
            "copying build/lib/artm/wrapper/messages_pb2.py -> build/bdist.linux-x86_64/wheel/bigartm-0.10.0.data/purelib/artm/wrapper\n",
            "copying build/lib/artm/scores.py -> build/bdist.linux-x86_64/wheel/bigartm-0.10.0.data/purelib/artm\n",
            "copying build/lib/artm/hierarchy_utils.py -> build/bdist.linux-x86_64/wheel/bigartm-0.10.0.data/purelib/artm\n",
            "running install_egg_info\n",
            "running egg_info\n",
            "creating bigartm.egg-info\n",
            "writing bigartm.egg-info/PKG-INFO\n",
            "writing dependency_links to bigartm.egg-info/dependency_links.txt\n",
            "writing requirements to bigartm.egg-info/requires.txt\n",
            "writing top-level names to bigartm.egg-info/top_level.txt\n",
            "writing manifest file 'bigartm.egg-info/SOURCES.txt'\n",
            "writing manifest file 'bigartm.egg-info/SOURCES.txt'\n",
            "Copying bigartm.egg-info to build/bdist.linux-x86_64/wheel/bigartm-0.10.0.data/purelib/bigartm-0.10.0-py3.6.egg-info\n",
            "running install_scripts\n",
            "creating build/bdist.linux-x86_64/wheel/bigartm-0.10.0.dist-info/WHEEL\n",
            "creating '/content/bigartm/build/python/bigartm-0.10.0-cp36-cp36m-linux_x86_64.whl' and adding 'build/bdist.linux-x86_64/wheel' to it\n",
            "adding 'bigartm-0.10.0.data/purelib/artm/__init__.py'\n",
            "adding 'bigartm-0.10.0.data/purelib/artm/artm_model.py'\n",
            "adding 'bigartm-0.10.0.data/purelib/artm/batches_utils.py'\n",
            "adding 'bigartm-0.10.0.data/purelib/artm/dictionary.py'\n",
            "adding 'bigartm-0.10.0.data/purelib/artm/hierarchy_utils.py'\n",
            "adding 'bigartm-0.10.0.data/purelib/artm/lda_model.py'\n",
            "adding 'bigartm-0.10.0.data/purelib/artm/libartm.so'\n",
            "adding 'bigartm-0.10.0.data/purelib/artm/master_component.py'\n",
            "adding 'bigartm-0.10.0.data/purelib/artm/regularizers.py'\n",
            "adding 'bigartm-0.10.0.data/purelib/artm/score_tracker.py'\n",
            "adding 'bigartm-0.10.0.data/purelib/artm/scores.py'\n",
            "adding 'bigartm-0.10.0.data/purelib/artm/wrapper/__init__.py'\n",
            "adding 'bigartm-0.10.0.data/purelib/artm/wrapper/api.py'\n",
            "adding 'bigartm-0.10.0.data/purelib/artm/wrapper/constants.py'\n",
            "adding 'bigartm-0.10.0.data/purelib/artm/wrapper/exceptions.py'\n",
            "adding 'bigartm-0.10.0.data/purelib/artm/wrapper/messages_pb2.py'\n",
            "adding 'bigartm-0.10.0.data/purelib/artm/wrapper/spec.py'\n",
            "adding 'bigartm-0.10.0.data/purelib/artm/wrapper/utils.py'\n",
            "adding 'bigartm-0.10.0.dist-info/METADATA'\n",
            "adding 'bigartm-0.10.0.dist-info/WHEEL'\n",
            "adding 'bigartm-0.10.0.dist-info/top_level.txt'\n",
            "adding 'bigartm-0.10.0.dist-info/RECORD'\n",
            "removing build/bdist.linux-x86_64/wheel\n",
            "[100%] Built target python_bigartm_wheel\n"
          ],
          "name": "stdout"
        }
      ]
    },
    {
      "cell_type": "code",
      "metadata": {
        "id": "lMtFZXFu11cb",
        "colab_type": "code",
        "colab": {
          "base_uri": "https://localhost:8080/",
          "height": 153
        },
        "outputId": "058c55d0-acab-4044-ee16-07d36123e62e"
      },
      "source": [
        "!pip install python/bigartm*.whl -U"
      ],
      "execution_count": 11,
      "outputs": [
        {
          "output_type": "stream",
          "text": [
            "Processing ./python/bigartm-0.10.0-cp36-cp36m-linux_x86_64.whl\n",
            "Requirement already satisfied, skipping upgrade: pandas in /usr/local/lib/python3.6/dist-packages (from bigartm==0.10.0) (0.25.3)\n",
            "Requirement already satisfied, skipping upgrade: numpy in /usr/local/lib/python3.6/dist-packages (from bigartm==0.10.0) (1.17.5)\n",
            "Requirement already satisfied, skipping upgrade: pytz>=2017.2 in /usr/local/lib/python3.6/dist-packages (from pandas->bigartm==0.10.0) (2018.9)\n",
            "Requirement already satisfied, skipping upgrade: python-dateutil>=2.6.1 in /usr/local/lib/python3.6/dist-packages (from pandas->bigartm==0.10.0) (2.6.1)\n",
            "Requirement already satisfied, skipping upgrade: six>=1.5 in /usr/local/lib/python3.6/dist-packages (from python-dateutil>=2.6.1->pandas->bigartm==0.10.0) (1.12.0)\n",
            "Installing collected packages: bigartm\n",
            "Successfully installed bigartm-0.10.0\n"
          ],
          "name": "stdout"
        }
      ]
    },
    {
      "cell_type": "code",
      "metadata": {
        "id": "emNXwCtu18Nq",
        "colab_type": "code",
        "colab": {
          "base_uri": "https://localhost:8080/",
          "height": 34
        },
        "outputId": "ae9fbe58-f51d-42c4-b6ee-5d08df77a736"
      },
      "source": [
        "cd ../.. "
      ],
      "execution_count": 12,
      "outputs": [
        {
          "output_type": "stream",
          "text": [
            "/content\n"
          ],
          "name": "stdout"
        }
      ]
    },
    {
      "cell_type": "code",
      "metadata": {
        "id": "DxJ9Diuc2ABj",
        "colab_type": "code",
        "colab": {
          "base_uri": "https://localhost:8080/",
          "height": 646
        },
        "outputId": "284b53e5-730d-4c45-c9bd-19293756f88d"
      },
      "source": [
        "!pip install pymorphy2[fast] nltk gensim"
      ],
      "execution_count": 13,
      "outputs": [
        {
          "output_type": "stream",
          "text": [
            "Collecting pymorphy2[fast]\n",
            "\u001b[?25l  Downloading https://files.pythonhosted.org/packages/a3/33/fff9675c68b5f6c63ec8c6e6ff57827dda28a1fa5b2c2d727dffff92dd47/pymorphy2-0.8-py2.py3-none-any.whl (46kB)\n",
            "\r\u001b[K     |███████                         | 10kB 20.5MB/s eta 0:00:01\r\u001b[K     |██████████████▏                 | 20kB 6.5MB/s eta 0:00:01\r\u001b[K     |█████████████████████▎          | 30kB 9.1MB/s eta 0:00:01\r\u001b[K     |████████████████████████████▍   | 40kB 5.8MB/s eta 0:00:01\r\u001b[K     |████████████████████████████████| 51kB 3.9MB/s \n",
            "\u001b[?25hRequirement already satisfied: nltk in /usr/local/lib/python3.6/dist-packages (3.2.5)\n",
            "Requirement already satisfied: gensim in /usr/local/lib/python3.6/dist-packages (3.6.0)\n",
            "Requirement already satisfied: docopt>=0.6 in /usr/local/lib/python3.6/dist-packages (from pymorphy2[fast]) (0.6.2)\n",
            "Collecting dawg-python>=0.7\n",
            "  Downloading https://files.pythonhosted.org/packages/6a/84/ff1ce2071d4c650ec85745766c0047ccc3b5036f1d03559fd46bb38b5eeb/DAWG_Python-0.7.2-py2.py3-none-any.whl\n",
            "Collecting pymorphy2-dicts<3.0,>=2.4\n",
            "\u001b[?25l  Downloading https://files.pythonhosted.org/packages/02/51/2465fd4f72328ab50877b54777764d928da8cb15b74e2680fc1bd8cb3173/pymorphy2_dicts-2.4.393442.3710985-py2.py3-none-any.whl (7.1MB)\n",
            "\u001b[K     |████████████████████████████████| 7.1MB 13.8MB/s \n",
            "\u001b[?25hCollecting DAWG>=0.7.3; extra == \"fast\"\n",
            "\u001b[?25l  Downloading https://files.pythonhosted.org/packages/29/c0/d8d967bcaa0b572f9dc1d878bbf5a7bfd5afa2102a5ae426731f6ce3bc26/DAWG-0.7.8.tar.gz (255kB)\n",
            "\u001b[K     |████████████████████████████████| 256kB 50.5MB/s \n",
            "\u001b[?25hRequirement already satisfied: six in /usr/local/lib/python3.6/dist-packages (from nltk) (1.12.0)\n",
            "Requirement already satisfied: numpy>=1.11.3 in /usr/local/lib/python3.6/dist-packages (from gensim) (1.17.5)\n",
            "Requirement already satisfied: scipy>=0.18.1 in /usr/local/lib/python3.6/dist-packages (from gensim) (1.4.1)\n",
            "Requirement already satisfied: smart-open>=1.2.1 in /usr/local/lib/python3.6/dist-packages (from gensim) (1.9.0)\n",
            "Requirement already satisfied: requests in /usr/local/lib/python3.6/dist-packages (from smart-open>=1.2.1->gensim) (2.21.0)\n",
            "Requirement already satisfied: boto3 in /usr/local/lib/python3.6/dist-packages (from smart-open>=1.2.1->gensim) (1.10.47)\n",
            "Requirement already satisfied: boto>=2.32 in /usr/local/lib/python3.6/dist-packages (from smart-open>=1.2.1->gensim) (2.49.0)\n",
            "Requirement already satisfied: idna<2.9,>=2.5 in /usr/local/lib/python3.6/dist-packages (from requests->smart-open>=1.2.1->gensim) (2.8)\n",
            "Requirement already satisfied: chardet<3.1.0,>=3.0.2 in /usr/local/lib/python3.6/dist-packages (from requests->smart-open>=1.2.1->gensim) (3.0.4)\n",
            "Requirement already satisfied: urllib3<1.25,>=1.21.1 in /usr/local/lib/python3.6/dist-packages (from requests->smart-open>=1.2.1->gensim) (1.24.3)\n",
            "Requirement already satisfied: certifi>=2017.4.17 in /usr/local/lib/python3.6/dist-packages (from requests->smart-open>=1.2.1->gensim) (2019.11.28)\n",
            "Requirement already satisfied: jmespath<1.0.0,>=0.7.1 in /usr/local/lib/python3.6/dist-packages (from boto3->smart-open>=1.2.1->gensim) (0.9.4)\n",
            "Requirement already satisfied: botocore<1.14.0,>=1.13.47 in /usr/local/lib/python3.6/dist-packages (from boto3->smart-open>=1.2.1->gensim) (1.13.47)\n",
            "Requirement already satisfied: s3transfer<0.3.0,>=0.2.0 in /usr/local/lib/python3.6/dist-packages (from boto3->smart-open>=1.2.1->gensim) (0.2.1)\n",
            "Requirement already satisfied: python-dateutil<3.0.0,>=2.1; python_version >= \"2.7\" in /usr/local/lib/python3.6/dist-packages (from botocore<1.14.0,>=1.13.47->boto3->smart-open>=1.2.1->gensim) (2.6.1)\n",
            "Requirement already satisfied: docutils<0.16,>=0.10 in /usr/local/lib/python3.6/dist-packages (from botocore<1.14.0,>=1.13.47->boto3->smart-open>=1.2.1->gensim) (0.15.2)\n",
            "Building wheels for collected packages: DAWG\n",
            "  Building wheel for DAWG (setup.py) ... \u001b[?25l\u001b[?25hdone\n",
            "  Created wheel for DAWG: filename=DAWG-0.7.8-cp36-cp36m-linux_x86_64.whl size=768202 sha256=427492fb09ef2ea2eb7a9f8244dbbea588cfc49b67f4fac201b94a19fbadd55d\n",
            "  Stored in directory: /root/.cache/pip/wheels/d4/88/d0/4e4abc83eb8f59a71e8dbd8ba99fd5615a3af1fac1ef7f8825\n",
            "Successfully built DAWG\n",
            "Installing collected packages: dawg-python, pymorphy2-dicts, DAWG, pymorphy2\n",
            "Successfully installed DAWG-0.7.8 dawg-python-0.7.2 pymorphy2-0.8 pymorphy2-dicts-2.4.393442.3710985\n"
          ],
          "name": "stdout"
        }
      ]
    },
    {
      "cell_type": "code",
      "metadata": {
        "id": "iFE7nrrp2BV6",
        "colab_type": "code",
        "colab": {
          "base_uri": "https://localhost:8080/",
          "height": 68
        },
        "outputId": "c260d38c-7c37-4f4c-a7b9-6b7fc15abb13"
      },
      "source": [
        "import artm\n",
        "\n",
        "import glob\n",
        "import os, re\n",
        "import matplotlib.pyplot as plt\n",
        "from collections import defaultdict, Counter\n",
        "from nltk.corpus import stopwords\n",
        "import numpy as np\n",
        "from pymorphy2 import MorphAnalyzer\n",
        "import gensim, nltk\n",
        "import string\n",
        "\n",
        "from nltk.tokenize import word_tokenize\n",
        "\n",
        "%matplotlib inline"
      ],
      "execution_count": 14,
      "outputs": [
        {
          "output_type": "stream",
          "text": [
            "/usr/local/lib/python3.6/dist-packages/scipy/sparse/sparsetools.py:21: DeprecationWarning: `scipy.sparse.sparsetools` is deprecated!\n",
            "scipy.sparse.sparsetools is a private module for scipy.sparse, and should not be used.\n",
            "  _deprecated()\n"
          ],
          "name": "stderr"
        }
      ]
    },
    {
      "cell_type": "code",
      "metadata": {
        "id": "xQ1XGG4B3oQc",
        "colab_type": "code",
        "colab": {
          "base_uri": "https://localhost:8080/",
          "height": 289
        },
        "outputId": "4794e0e8-a614-4df0-befa-271865e4c78c"
      },
      "source": [
        "!wget https://github.com/mannefedov/compling_nlp_hse_course/raw/master/data/habr_texts.txt.zip"
      ],
      "execution_count": 15,
      "outputs": [
        {
          "output_type": "stream",
          "text": [
            "--2020-02-02 12:52:31--  https://github.com/mannefedov/compling_nlp_hse_course/raw/master/data/habr_texts.txt.zip\n",
            "Resolving github.com (github.com)... 140.82.118.4\n",
            "Connecting to github.com (github.com)|140.82.118.4|:443... connected.\n",
            "HTTP request sent, awaiting response... 302 Found\n",
            "Location: https://raw.githubusercontent.com/mannefedov/compling_nlp_hse_course/master/data/habr_texts.txt.zip [following]\n",
            "--2020-02-02 12:52:31--  https://raw.githubusercontent.com/mannefedov/compling_nlp_hse_course/master/data/habr_texts.txt.zip\n",
            "Resolving raw.githubusercontent.com (raw.githubusercontent.com)... 151.101.0.133, 151.101.64.133, 151.101.128.133, ...\n",
            "Connecting to raw.githubusercontent.com (raw.githubusercontent.com)|151.101.0.133|:443... connected.\n",
            "HTTP request sent, awaiting response... 200 OK\n",
            "Length: 18645068 (18M) [application/zip]\n",
            "Saving to: ‘habr_texts.txt.zip’\n",
            "\n",
            "habr_texts.txt.zip  100%[===================>]  17.78M  --.-KB/s    in 0.1s    \n",
            "\n",
            "2020-02-02 12:52:32 (155 MB/s) - ‘habr_texts.txt.zip’ saved [18645068/18645068]\n",
            "\n"
          ],
          "name": "stdout"
        }
      ]
    },
    {
      "cell_type": "code",
      "metadata": {
        "id": "-zk7YDzX3o3k",
        "colab_type": "code",
        "colab": {
          "base_uri": "https://localhost:8080/",
          "height": 51
        },
        "outputId": "b97edd3c-6a9d-4c37-f6e7-2397389c00af"
      },
      "source": [
        "!unzip habr_texts.txt.zip"
      ],
      "execution_count": 16,
      "outputs": [
        {
          "output_type": "stream",
          "text": [
            "Archive:  habr_texts.txt.zip\n",
            "  inflating: habr_texts.txt          \n"
          ],
          "name": "stdout"
        }
      ]
    },
    {
      "cell_type": "code",
      "metadata": {
        "id": "vufL8MPs3rry",
        "colab_type": "code",
        "colab": {}
      },
      "source": [
        "with open('habr_texts.txt', encoding='utf-8') as file:\n",
        "    source = file.read().splitlines()"
      ],
      "execution_count": 0,
      "outputs": []
    },
    {
      "cell_type": "markdown",
      "metadata": {
        "id": "HJL_Udvu2qCo",
        "colab_type": "text"
      },
      "source": [
        "1) сделайте нормализацию (если pymorphy2 работает долго используйте mystem или попробуйте установить быструю версию - `pip install pymorphy2[fast]`, можно использовать какой-то другой токенизатор) "
      ]
    },
    {
      "cell_type": "code",
      "metadata": {
        "id": "J3pRa1CZ2IMi",
        "colab_type": "code",
        "colab": {}
      },
      "source": [
        "morph = MorphAnalyzer()"
      ],
      "execution_count": 0,
      "outputs": []
    },
    {
      "cell_type": "code",
      "metadata": {
        "id": "qwnfn0R92I2i",
        "colab_type": "code",
        "colab": {
          "base_uri": "https://localhost:8080/",
          "height": 102
        },
        "outputId": "770d8eeb-9855-4ac2-e2b6-63130701245b"
      },
      "source": [
        "nltk.download('punkt')\n",
        "nltk.download('stopwords')"
      ],
      "execution_count": 201,
      "outputs": [
        {
          "output_type": "stream",
          "text": [
            "[nltk_data] Downloading package punkt to /root/nltk_data...\n",
            "[nltk_data]   Package punkt is already up-to-date!\n",
            "[nltk_data] Downloading package stopwords to /root/nltk_data...\n",
            "[nltk_data]   Package stopwords is already up-to-date!\n"
          ],
          "name": "stdout"
        },
        {
          "output_type": "execute_result",
          "data": {
            "text/plain": [
              "True"
            ]
          },
          "metadata": {
            "tags": []
          },
          "execution_count": 201
        }
      ]
    },
    {
      "cell_type": "markdown",
      "metadata": {
        "id": "zzRXNBm0crdI",
        "colab_type": "text"
      },
      "source": [
        "В статьях много кода, который начинает появляться в темах. Код никак не отделяется. Выделить только те слова, написанные латиницей, которые являются информативными, непропорционально трудозатратно, поэтому оставляю только кирилицу."
      ]
    },
    {
      "cell_type": "code",
      "metadata": {
        "id": "4evpQYsX2Nly",
        "colab_type": "code",
        "colab": {}
      },
      "source": [
        "stop_words = set(stopwords.words('russian')) | {'gt',}\n",
        "\n",
        "def clean_text(text):\n",
        "    text = re.sub(r'<[^>]+>', '', text)\n",
        "    text = re.sub(r'{[^}]+}', ' ', text)\n",
        "    text = re.sub(r'\\&[a-z]+\\;', ' ', text)\n",
        "    text = text.replace('\\t', ' ')\n",
        "    return text\n",
        "\n",
        "def tokenize(text):\n",
        "    return re.findall(r'[А-Яа-я]+', text)\n",
        "\n",
        "\n",
        "def opt_normalize(texts, top=None):\n",
        "    uniq = Counter()\n",
        "    for text in texts:\n",
        "        uniq.update(text)\n",
        "    \n",
        "    norm_uniq = {word:morph.parse(word)[0].normal_form for word, _ in uniq.most_common(top)}\n",
        "    \n",
        "    norm_texts = []\n",
        "    for text in texts:\n",
        "        \n",
        "        norm_words = [norm_uniq.get(word) for word in text]\n",
        "        norm_words = [word for word in norm_words if word and word not in stop_words]\n",
        "        norm_texts.append(norm_words)\n",
        "        \n",
        "    return norm_texts"
      ],
      "execution_count": 0,
      "outputs": []
    },
    {
      "cell_type": "code",
      "metadata": {
        "id": "mP7GaQ9n3481",
        "colab_type": "code",
        "colab": {}
      },
      "source": [
        "texts = opt_normalize([tokenize(clean_text(text)) for text in source])"
      ],
      "execution_count": 0,
      "outputs": []
    },
    {
      "cell_type": "markdown",
      "metadata": {
        "id": "CE6wfFmF2zbJ",
        "colab_type": "text"
      },
      "source": [
        "2) добавьте нграммы (в тетрадке есть закомменченая ячейка с Phrases, можно также попробовать другие способы построить нграммы)"
      ]
    },
    {
      "cell_type": "code",
      "metadata": {
        "id": "17dM2rPS2gWR",
        "colab_type": "code",
        "colab": {}
      },
      "source": [
        "ph = gensim.models.Phrases(texts, scoring='npmi', min_count=8, threshold=0.3)\n",
        "p = gensim.models.phrases.Phraser(ph)\n",
        "ngrammed_texts = p[texts]"
      ],
      "execution_count": 0,
      "outputs": []
    },
    {
      "cell_type": "markdown",
      "metadata": {
        "id": "cucYLEXr3AJq",
        "colab_type": "text"
      },
      "source": [
        "3) сохраните тексты .vw формате"
      ]
    },
    {
      "cell_type": "code",
      "metadata": {
        "id": "-aYagof14bd4",
        "colab_type": "code",
        "colab": {}
      },
      "source": [
        "def write_to_vw(path, texts):\n",
        "  \n",
        "  with open(path, 'w', encoding='utf-8') as file:\n",
        "    for i, text in enumerate(texts):\n",
        "      counter = Counter(text)\n",
        "      document = f'doc_{i} '\n",
        "      vw_text = ' '.join([f'{x}:{counter[x]}' for x in counter])\n",
        "      file.write(f'{document}{vw_text}'+'\\n')"
      ],
      "execution_count": 0,
      "outputs": []
    },
    {
      "cell_type": "code",
      "metadata": {
        "id": "LTL0Hh235wSP",
        "colab_type": "code",
        "colab": {}
      },
      "source": [
        "write_to_vw('habr_texts.vw', ngrammed_texts)"
      ],
      "execution_count": 0,
      "outputs": []
    },
    {
      "cell_type": "code",
      "metadata": {
        "id": "C5_QLC576PJ2",
        "colab_type": "code",
        "colab": {
          "base_uri": "https://localhost:8080/",
          "height": 54
        },
        "outputId": "3b5ffcba-dbbb-4c8e-b502-5aef109f875b"
      },
      "source": [
        "!head -n 1 habr_texts.vw"
      ],
      "execution_count": 207,
      "outputs": [
        {
          "output_type": "stream",
          "text": [
            "doc_0 это:5 библиотека:7 разработать:1 язык:1 платформа:1 упрощать:1 работа:5 шина:1 дать:1 который:15 использоваться:2 построение:1 распределенный:1 приложение:1 реализация:4 качество:4 мочь:3 выступать:1 менеджер:1 случай:6 область_видимость:1 ограничиваться:1 процесс:2 проинициализировать:1 экземпляр:1 содержание:1 команда:20 событиякоманда:1 событие:19 контракт:6 сообщение:32 роутинг:2 формат:3 консьюмер:12 конфигурация:6 контейнер:4 наблюдатель:3 новое:2 заключение:2 опрос:1 использовать:5 заложить:2 основный:2 тип:11 сигнализировать:2 необходимость:1 выполнить:2 некий:2 действие:3 наиболее:1 содержательный:1 наименование:5 желательно:1 структура:2 глагол:1 существительное:1 осуществляться_помощь:2 метод:8 интерфейс:7 указание:3 получатель:1 очередь:5 отправка:4 случиться:2 интересно:1 набор:2 подписчик:2 паттерн:1 реагировать:2 например:1 терминология:1 различие:1 доставляться:1 единственный:1 исполнитель:1 даба:1 избежать:1 дублирование:1 выполнение:2 изображение:3 статья:3 время:2 ориентировать:1 оповещение:1 каждый:5 свой:1 иной_слово:1 запустить:1 англ:1 потребитель:1 обработчик:3 обрабатывать:4 е:3 публикация:5 получить:3 согласно_документация:1 объявление:2 рекомендоваться:1 прибегать:1 отправка_смс:5 упоминаться_ранее:1 должный:3 осуществляться:2 исключительно:1 помощь:3 адресат:1 успешный_отправка:1 смс_сообщение:2 отправляться:1 распределение:1 выбор:1 статья_рассказать:1 поздний:1 обработка:5 базироваться:1 имя:3 родительский:1 перечень:1 аргумент:1 подключение:3 ранее:1 зарегистрировать:1 использование:2 канал:1 доставка_сообщение:1 основание:2 указанный:1 формироваться:2 требовать:2 затем:2 самый:1 помещаться:1 аналогичный:1 этап:1 выполняться:1 также:1 требоваться:1 собственный:2 увидеть:2 создать:1 рамка:1 сценарий:1 конфигурировать:1 указывать:2 привязка:1 следующий:5 картина:1 итоговый:2 путь:1 имплементировать:1 иметь:1 вид:1 последний:1 автоматически:1 завершение:1 удалить:1 говорить:1 хотеться:1 дробный_остановиться:1 формирование:1 заголовок:2 ответственный:2 функция:1 пример:5 добавить:1 наследование:2 сформировать:1 содержимый:2 значение:1 пол:1 получение:3 выбираться:1 кроме:1 информация:1 оно:1 отправить:2 значимый:1 часть:1 иной:1 служебный:1 поль:1 класс:2 несколько:1 данные:1 публиковать:1 отправка_сообщение:3 формировать:1 отправлять:3 смс:1 доставить:1 код:3 вынести_отдельный:1 находиться:1 имплементация:2 расширение:2 инкапсуляция:1 логика:1 межсистемный:2 взаимодействие:2 взгляд:1 данный:1 решение:1 вполне:1 удачно:1 позволять:1 отделить:1 бизнес_логика:1 деталь:1 компонентный:1 инкапсулировать:1 место:1 данный_момент:1 предоставлять_возможность:1 популярный:1 потребоваться:1 установить:1 стать:1 доступный:2 выглядеть_следующий:2 образ:2 срок:1 жизнь:1 документация:3 предлагать:1 мониторинг:1 доступно:2 предоставлять:2 срабатывать:2 сразу:1 создание:2 наблюдение:3 строго:1 типизировать:1 содержимое:1 осуществить:1 непосредственно:1 далее:1 представить:1 приводить:1 принцип_работа:1 схожий:1 посмотреть:1 исходник:1 успешный_выполнение:1 изменение:1 коснуться:1 новый_версия:1 ознакомиться:1 х:1 обзорный_статья:1 автор:1 страница:1 блог:1 сравнение:1 наиболее_популярный:1 однако:1 решить:1 оставить:1 отдельный:1 надеяться:1 удаться:1 провести:1 поверхностный:1 знакомство:1 грань:1 ещ:1 оставаться:1 интересный:1 вещий:1 транзакционность:1 персистентность:1 интеграция:2 планировщик:1 логирование:1 многопоточность:1 многий:1 исходный_код:1 материал:1\n"
          ],
          "name": "stdout"
        }
      ]
    },
    {
      "cell_type": "markdown",
      "metadata": {
        "id": "WdvVCSNZ3HYE",
        "colab_type": "text"
      },
      "source": [
        "4) сделайте хороший словарь (отфильтруйте слишком частотные и редкие слова, попробуйте удалить стоп-слова, сохраните словарь и посмотрите на него, вдруг что-то плохое сразу будет заметно – из словаря можно просто вручную или правилом удалять строки, при загрузке ничего не сломается)"
      ]
    },
    {
      "cell_type": "code",
      "metadata": {
        "id": "VmVOGAiG7EoD",
        "colab_type": "code",
        "colab": {}
      },
      "source": [
        "batch_vectorizer = artm.BatchVectorizer(data_path='habr_texts.vw',  # название файла\n",
        "                                        data_format='vowpal_wabbit', # формат файла, у нас vw\n",
        "                                        target_folder='batches', # название папки в которую положаться батчи\n",
        "                                       batch_size=1000) # размер батча, подбирайте под свою память"
      ],
      "execution_count": 0,
      "outputs": []
    },
    {
      "cell_type": "code",
      "metadata": {
        "id": "QWp9Jnxz7Eqf",
        "colab_type": "code",
        "colab": {}
      },
      "source": [
        "# batch_vectorizer = artm.BatchVectorizer(data_path='batches', # название папки с батчами\n",
        "#                                         data_format='batches') # указываем формат - батчи"
      ],
      "execution_count": 0,
      "outputs": []
    },
    {
      "cell_type": "code",
      "metadata": {
        "id": "M_ZtO3pT7Es6",
        "colab_type": "code",
        "colab": {}
      },
      "source": [
        "dictionary = artm.Dictionary()"
      ],
      "execution_count": 0,
      "outputs": []
    },
    {
      "cell_type": "code",
      "metadata": {
        "id": "wamYhKkW7VBg",
        "colab_type": "code",
        "colab": {
          "base_uri": "https://localhost:8080/",
          "height": 34
        },
        "outputId": "983d735f-3c09-411d-9ee9-4e284357ed02"
      },
      "source": [
        "dictionary.gather(data_path='batches')\n",
        "dictionary.filter(class_id='@default_class',\n",
        "                  min_df=10, max_df=2000) # фильтруем слишком редкие и слишком частые нграммы"
      ],
      "execution_count": 211,
      "outputs": [
        {
          "output_type": "execute_result",
          "data": {
            "text/plain": [
              "artm.Dictionary(name=59115e82-c2a5-41d9-be5d-f0f4cad48a01, num_entries=16267)"
            ]
          },
          "metadata": {
            "tags": []
          },
          "execution_count": 211
        }
      ]
    },
    {
      "cell_type": "code",
      "metadata": {
        "id": "qTdKtboM7Yo_",
        "colab_type": "code",
        "colab": {}
      },
      "source": [
        "dictionary.save_text('dict.txt')\n",
        "# dictionary = artm.Dictionary()\n",
        "# dictionary.load_text('dict.txt')"
      ],
      "execution_count": 0,
      "outputs": []
    },
    {
      "cell_type": "code",
      "metadata": {
        "id": "9giQ-RnZ7die",
        "colab_type": "code",
        "colab": {
          "base_uri": "https://localhost:8080/",
          "height": 357
        },
        "outputId": "b2f740b1-c970-4561-c2af-09009b3c4e6e"
      },
      "source": [
        "!head -n 20 dict.txt"
      ],
      "execution_count": 213,
      "outputs": [
        {
          "output_type": "stream",
          "text": [
            "name: 59115e82-c2a5-41d9-be5d-f0f4cad48a01 num_items: 4121\n",
            "token, class_id, token_value, token_tf, token_df\n",
            "искра, @default_class, 6.125335858087055e-06, 17.0, 10.0\n",
            "целиться, @default_class, 3.9634528548049275e-06, 11.0, 11.0\n",
            "нейросетевой, @default_class, 5.404708190326346e-06, 15.0, 10.0\n",
            "обратимый, @default_class, 7.206277587101795e-06, 20.0, 14.0\n",
            "известие, @default_class, 4.323766461311607e-06, 12.0, 10.0\n",
            "скриптовый, @default_class, 5.765022251580376e-06, 16.0, 13.0\n",
            "извинение, @default_class, 6.4856499193410855e-06, 18.0, 17.0\n",
            "разблокировать, @default_class, 1.4772868780710269e-05, 41.0, 33.0\n",
            "заносить, @default_class, 1.7655380361247808e-05, 49.0, 34.0\n",
            "чатик, @default_class, 4.684080522565637e-06, 13.0, 11.0\n",
            "запилить, @default_class, 9.728474651637953e-06, 27.0, 24.0\n",
            "сколько_нибыть, @default_class, 7.566591193608474e-06, 21.0, 20.0\n",
            "сооснователь_компания, @default_class, 6.845963525847765e-06, 19.0, 14.0\n",
            "прийтись_повозиться, @default_class, 3.9634528548049275e-06, 11.0, 11.0\n",
            "освежить_память, @default_class, 4.323766461311607e-06, 12.0, 11.0\n",
            "милость_просить, @default_class, 3.9634528548049275e-06, 11.0, 11.0\n",
            "открутить, @default_class, 3.9634528548049275e-06, 11.0, 11.0\n",
            "безупречный, @default_class, 5.044394129072316e-06, 14.0, 14.0\n"
          ],
          "name": "stdout"
        }
      ]
    },
    {
      "cell_type": "markdown",
      "metadata": {
        "id": "HKOi7CUeAyZ-",
        "colab_type": "text"
      },
      "source": [
        "Целесообразно убрать слова, длина которых меньше одного или двух символов."
      ]
    },
    {
      "cell_type": "code",
      "metadata": {
        "id": "Gzn0zgg5_DwY",
        "colab_type": "code",
        "colab": {}
      },
      "source": [
        "!grep \"^..,\" -v dict.txt | grep \"^.,\" -v > \"habr_filtered.txt\""
      ],
      "execution_count": 0,
      "outputs": []
    },
    {
      "cell_type": "code",
      "metadata": {
        "id": "bRx4jn65BIBn",
        "colab_type": "code",
        "colab": {
          "base_uri": "https://localhost:8080/",
          "height": 357
        },
        "outputId": "e70fd0cc-6389-47c5-d216-c112fb4be7dc"
      },
      "source": [
        "!head -n 20 habr_filtered.txt"
      ],
      "execution_count": 215,
      "outputs": [
        {
          "output_type": "stream",
          "text": [
            "name: 59115e82-c2a5-41d9-be5d-f0f4cad48a01 num_items: 4121\n",
            "token, class_id, token_value, token_tf, token_df\n",
            "искра, @default_class, 6.125335858087055e-06, 17.0, 10.0\n",
            "целиться, @default_class, 3.9634528548049275e-06, 11.0, 11.0\n",
            "нейросетевой, @default_class, 5.404708190326346e-06, 15.0, 10.0\n",
            "обратимый, @default_class, 7.206277587101795e-06, 20.0, 14.0\n",
            "известие, @default_class, 4.323766461311607e-06, 12.0, 10.0\n",
            "скриптовый, @default_class, 5.765022251580376e-06, 16.0, 13.0\n",
            "извинение, @default_class, 6.4856499193410855e-06, 18.0, 17.0\n",
            "разблокировать, @default_class, 1.4772868780710269e-05, 41.0, 33.0\n",
            "заносить, @default_class, 1.7655380361247808e-05, 49.0, 34.0\n",
            "чатик, @default_class, 4.684080522565637e-06, 13.0, 11.0\n",
            "запилить, @default_class, 9.728474651637953e-06, 27.0, 24.0\n",
            "сколько_нибыть, @default_class, 7.566591193608474e-06, 21.0, 20.0\n",
            "сооснователь_компания, @default_class, 6.845963525847765e-06, 19.0, 14.0\n",
            "прийтись_повозиться, @default_class, 3.9634528548049275e-06, 11.0, 11.0\n",
            "освежить_память, @default_class, 4.323766461311607e-06, 12.0, 11.0\n",
            "милость_просить, @default_class, 3.9634528548049275e-06, 11.0, 11.0\n",
            "открутить, @default_class, 3.9634528548049275e-06, 11.0, 11.0\n",
            "безупречный, @default_class, 5.044394129072316e-06, 14.0, 14.0\n"
          ],
          "name": "stdout"
        }
      ]
    },
    {
      "cell_type": "markdown",
      "metadata": {
        "id": "G-V7lSmaEs6H",
        "colab_type": "text"
      },
      "source": [
        "```token, class_id, token_value, token_tf, token_df``` <br>\n",
        "Используя структуру данных выше, можно отсортировать словарь."
      ]
    },
    {
      "cell_type": "code",
      "metadata": {
        "id": "QHu05CduBZZJ",
        "colab_type": "code",
        "colab": {
          "base_uri": "https://localhost:8080/",
          "height": 527
        },
        "outputId": "4eee3470-2a18-4760-a1a3-c8205df4af1c"
      },
      "source": [
        "!tail -n +3 \"habr_filtered.txt\" | sort -t$' ' -k5 -nr | head -n 30"
      ],
      "execution_count": 216,
      "outputs": [
        {
          "output_type": "stream",
          "text": [
            "очень, @default_class, 0.001903898548334837, 5284.0, 1987.0\n",
            "ещё, @default_class, 0.0020091102924197912, 5576.0, 1979.0\n",
            "поэтому, @default_class, 0.0016823054756969213, 4669.0, 1965.0\n",
            "некоторый, @default_class, 0.0015075532719492912, 4184.0, 1953.0\n",
            "результат, @default_class, 0.001943893381394446, 5395.0, 1936.0\n",
            "использование, @default_class, 0.001756890444085002, 4876.0, 1886.0\n",
            "являться, @default_class, 0.001634744112379849, 4537.0, 1877.0\n",
            "проблема, @default_class, 0.001875073416158557, 5204.0, 1876.0\n",
            "простой, @default_class, 0.0014109890908002853, 3916.0, 1859.0\n",
            "человек, @default_class, 0.0029733101837337017, 8252.0, 1849.0\n",
            "позволять, @default_class, 0.0015068326611071825, 4182.0, 1842.0\n",
            "пример, @default_class, 0.0018307548016309738, 5081.0, 1840.0\n",
            "следующий, @default_class, 0.0013972972519695759, 3878.0, 1831.0\n",
            "компания, @default_class, 0.0030086208134889603, 8350.0, 1771.0\n",
            "необходимый, @default_class, 0.0015929476357996464, 4421.0, 1746.0\n",
            "проект, @default_class, 0.0028129704296588898, 7807.0, 1740.0\n",
            "пользователь, @default_class, 0.0027128031942993402, 7529.0, 1727.0\n",
            "нужный, @default_class, 0.001275150803849101, 3539.0, 1705.0\n",
            "именно, @default_class, 0.001185792963951826, 3291.0, 1701.0\n",
            "разный, @default_class, 0.0014041431713849306, 3897.0, 1690.0\n",
            "решение, @default_class, 0.0017338304314762354, 4812.0, 1655.0\n",
            "создать, @default_class, 0.0013864877400919795, 3848.0, 1648.0\n",
            "часть, @default_class, 0.001487736008130014, 4129.0, 1646.0\n",
            "имя, @default_class, 0.0013655895600095391, 3790.0, 1627.0\n",
            "хотеть, @default_class, 0.001280195196159184, 3553.0, 1617.0\n",
            "информация, @default_class, 0.0014985454035922885, 4159.0, 1596.0\n",
            "качество, @default_class, 0.0011346284300088882, 3149.0, 1585.0\n",
            "найти, @default_class, 0.0011400331277400255, 3164.0, 1579.0\n",
            "задача, @default_class, 0.0018271516310051084, 5071.0, 1562.0\n",
            "новое, @default_class, 0.0010773384710773826, 2990.0, 1555.0\n"
          ],
          "name": "stdout"
        }
      ]
    },
    {
      "cell_type": "code",
      "metadata": {
        "id": "GZ4qf5zhJqaw",
        "colab_type": "code",
        "colab": {}
      },
      "source": [
        "!printf \"далее\\nчасть\\nследующий\\nнеобходимый\\nстать\\nпоэтому\\nещё\\nиметь\\nявляться\\nнекоторый\\nразный\\nпример\\nнесколько\\nлюбой\\nименно\\n\" > \"stopwords.txt\""
      ],
      "execution_count": 0,
      "outputs": []
    },
    {
      "cell_type": "markdown",
      "metadata": {
        "id": "9rJHDBlfIDYw",
        "colab_type": "text"
      },
      "source": [
        "Данные слова кажутся не очень информативными. Отфильтруем их."
      ]
    },
    {
      "cell_type": "code",
      "metadata": {
        "id": "qCdoDWBEHt31",
        "colab_type": "code",
        "colab": {}
      },
      "source": [
        "!grep -v -w -f \"stopwords.txt\" \"habr_filtered.txt\" > \"tmp.txt\""
      ],
      "execution_count": 0,
      "outputs": []
    },
    {
      "cell_type": "code",
      "metadata": {
        "id": "y0NnPo9XNwun",
        "colab_type": "code",
        "colab": {}
      },
      "source": [
        "!cat \"tmp.txt\" > \"habr_filtered.txt\""
      ],
      "execution_count": 0,
      "outputs": []
    },
    {
      "cell_type": "markdown",
      "metadata": {
        "id": "QOajIdGTGJ9T",
        "colab_type": "text"
      },
      "source": [
        "Здесь все слова кажутся информативными."
      ]
    },
    {
      "cell_type": "code",
      "metadata": {
        "id": "bPU6fjzDGJYb",
        "colab_type": "code",
        "colab": {
          "base_uri": "https://localhost:8080/",
          "height": 357
        },
        "outputId": "836c8530-6a0b-4da6-df5a-93a8174e83a9"
      },
      "source": [
        "!tail -n +3 \"habr_filtered.txt\" | sort -t$' ' -k4 -nr | head -n 20"
      ],
      "execution_count": 220,
      "outputs": [
        {
          "output_type": "stream",
          "text": [
            "компания, @default_class, 0.0030086208134889603, 8350.0, 1771.0\n",
            "человек, @default_class, 0.0029733101837337017, 8252.0, 1849.0\n",
            "проект, @default_class, 0.0028129704296588898, 7807.0, 1740.0\n",
            "пользователь, @default_class, 0.0027128031942993402, 7529.0, 1727.0\n",
            "код, @default_class, 0.0025589491706341505, 7102.0, 1482.0\n",
            "приложение, @default_class, 0.0022652933839708567, 6287.0, 1335.0\n",
            "функция, @default_class, 0.002075768308714032, 5761.0, 1317.0\n",
            "результат, @default_class, 0.001943893381394446, 5395.0, 1936.0\n",
            "файл, @default_class, 0.001936687040142715, 5375.0, 1087.0\n",
            "очень, @default_class, 0.001903898548334837, 5284.0, 1987.0\n",
            "игра, @default_class, 0.0018995747668668628, 5272.0, 585.0\n",
            "проблема, @default_class, 0.001875073416158557, 5204.0, 1876.0\n",
            "задача, @default_class, 0.0018271516310051084, 5071.0, 1562.0\n",
            "использование, @default_class, 0.001756890444085002, 4876.0, 1886.0\n",
            "устройство, @default_class, 0.0017475222703069448, 4850.0, 1063.0\n",
            "решение, @default_class, 0.0017338304314762354, 4812.0, 1655.0\n",
            "команда, @default_class, 0.0017089686589315534, 4743.0, 1305.0\n",
            "сервер, @default_class, 0.0016722166910767555, 4641.0, 983.0\n",
            "ваш, @default_class, 0.0016023158095777035, 4447.0, 1402.0\n",
            "тип, @default_class, 0.0015810573240742087, 4388.0, 1420.0\n"
          ],
          "name": "stdout"
        }
      ]
    },
    {
      "cell_type": "markdown",
      "metadata": {
        "id": "898PSRTLOhPw",
        "colab_type": "text"
      },
      "source": [
        "Здесь тоже ничего вопросов не вызывает."
      ]
    },
    {
      "cell_type": "code",
      "metadata": {
        "id": "L1sHIR1oOboD",
        "colab_type": "code",
        "colab": {
          "base_uri": "https://localhost:8080/",
          "height": 357
        },
        "outputId": "5b1ef1fd-eaac-480f-c403-202b0efb02dc"
      },
      "source": [
        "!tail -n +3 \"habr_filtered.txt\" | sort -t$' ' -k4 -nr | tail -n 20"
      ],
      "execution_count": 221,
      "outputs": [
        {
          "output_type": "stream",
          "text": [
            "вдаваться_деталь, @default_class, 3.6031387935508974e-06, 10.0, 10.0\n",
            "варить, @default_class, 3.6031387935508974e-06, 10.0, 10.0\n",
            "валяться, @default_class, 3.6031387935508974e-06, 10.0, 10.0\n",
            "бурный_рост, @default_class, 3.6031387935508974e-06, 10.0, 10.0\n",
            "близиться, @default_class, 3.6031387935508974e-06, 10.0, 10.0\n",
            "ближний_перспектива, @default_class, 3.6031387935508974e-06, 10.0, 10.0\n",
            "библиотечка, @default_class, 3.6031387935508974e-06, 10.0, 10.0\n",
            "безоговорочно, @default_class, 3.6031387935508974e-06, 10.0, 10.0\n",
            "безболезненный, @default_class, 3.6031387935508974e-06, 10.0, 10.0\n",
            "бедствие, @default_class, 3.6031387935508974e-06, 10.0, 10.0\n",
            "бдительный, @default_class, 3.6031387935508974e-06, 10.0, 10.0\n",
            "банкир, @default_class, 3.6031387935508974e-06, 10.0, 10.0\n",
            "аудиокнига, @default_class, 3.6031387935508974e-06, 10.0, 10.0\n",
            "англоязычный_ресурс, @default_class, 3.6031387935508974e-06, 10.0, 10.0\n",
            "аналитик_маркетинг, @default_class, 3.6031387935508974e-06, 10.0, 10.0\n",
            "аляска, @default_class, 3.6031387935508974e-06, 10.0, 10.0\n",
            "альтернативный_подход, @default_class, 3.6031387935508974e-06, 10.0, 10.0\n",
            "алкогольный, @default_class, 3.6031387935508974e-06, 10.0, 10.0\n",
            "активный_сообщество, @default_class, 3.6031387935508974e-06, 10.0, 10.0\n",
            "агентство_наса, @default_class, 3.6031387935508974e-06, 10.0, 10.0\n"
          ],
          "name": "stdout"
        }
      ]
    },
    {
      "cell_type": "markdown",
      "metadata": {
        "id": "1a9kIvMdPHha",
        "colab_type": "text"
      },
      "source": [
        "Обновим словарь."
      ]
    },
    {
      "cell_type": "code",
      "metadata": {
        "id": "k948jlvsO68U",
        "colab_type": "code",
        "colab": {}
      },
      "source": [
        "dictionary = artm.Dictionary()\n",
        "dictionary.load_text('habr_filtered.txt')"
      ],
      "execution_count": 0,
      "outputs": []
    },
    {
      "cell_type": "markdown",
      "metadata": {
        "id": "iUgu2ut83Kpq",
        "colab_type": "text"
      },
      "source": [
        "5) постройте несколько ARTM моделей (переберите количество тем, поменяйте значения tau у регуляризаторов), если получаются плохие темы, поработайте дополнительно над предобработкой и словарем"
      ]
    },
    {
      "cell_type": "code",
      "metadata": {
        "id": "m4li__qwuN3H",
        "colab_type": "code",
        "colab": {}
      },
      "source": [
        "def print_measures(model_artm):\n",
        "    print('Sparsity Phi: {0:.3f} ARTM)'.format(\n",
        "        model_artm.score_tracker['SparsityPhiScore'].last_value)\n",
        ")\n",
        "    print('Sparsity Theta: {0:.3f} (ARTM)'.format(\n",
        "        model_artm.score_tracker['SparsityThetaScore'].last_value))\n",
        "\n",
        "    print('Kernel contrast: {0:.3f} (ARTM)'.format(\n",
        "        model_artm.score_tracker['TopicKernelScore'].last_average_contrast))\n",
        "\n",
        "    print('Kernel purity: {0:.3f} (ARTM)'.format(\n",
        "        model_artm.score_tracker['TopicKernelScore'].last_average_purity))\n",
        "\n",
        "    print('Perplexity: {0:.3f} (ARTM)'.format(\n",
        "        model_artm.score_tracker['PerplexityScore'].last_value)\n",
        ")\n",
        "    plt.plot(range(model_artm.num_phi_updates), model_artm.score_tracker['PerplexityScore'].value, 'r--', linewidth=2)\n",
        "    plt.xlabel('Iterations count')\n",
        "    plt.ylabel(' ARTM perp. (red)')\n",
        "    plt.grid(True)\n",
        "    plt.show()"
      ],
      "execution_count": 0,
      "outputs": []
    },
    {
      "cell_type": "code",
      "metadata": {
        "id": "wBmx-mnkzsJI",
        "colab_type": "code",
        "colab": {}
      },
      "source": [
        "def init_model(n_topics, tau_1, tau_2):\n",
        "  model_artm = artm.ARTM(topic_names=[f'topic_{i}' for i in range(n_topics)],\n",
        "                       \n",
        "                       regularizers=[\n",
        "                           artm.DecorrelatorPhiRegularizer(\n",
        "                                            name='Decorr', tau=tau_1, \n",
        "                                            class_ids=['@default_class'],\n",
        "                                            topic_names=[f'topic_{i}' for i in range(n_topics)]),\n",
        "                           \n",
        "                           artm.SmoothSparsePhiRegularizer(\n",
        "                                            name='SmoothPhi_1', \n",
        "                                            class_ids=['@default_class'],\n",
        "                                            tau=tau_2, \n",
        "                                            topic_names=[f'topic_{i}' for i in range(n_topics)])\n",
        "                                    ]\n",
        "                        )\n",
        "  model_artm.scores.add(artm.PerplexityScore(name='PerplexityScore',\n",
        "                                                    dictionary=dictionary))\n",
        "  model_artm.scores.add(artm.SparsityPhiScore(name='SparsityPhiScore')) # разреженность слов в темах\n",
        "  model_artm.scores.add(artm.SparsityThetaScore(name='SparsityThetaScore')) # разреженность тем в доках\n",
        "  model_artm.scores.add(artm.TopicKernelScore(name='TopicKernelScore', probability_mass_threshold=0.1)) # когерентность по семантичесим ядрам\n",
        "  model_artm.scores.add(artm.TopTokensScore(class_id='@default_class', name='TopTokensScore_1', num_tokens=10)) # топ-n-слов для каждой темы \n",
        "  \n",
        "  model_artm.initialize(dictionary=dictionary, )\n",
        "  \n",
        "  return model_artm\n"
      ],
      "execution_count": 0,
      "outputs": []
    },
    {
      "cell_type": "code",
      "metadata": {
        "id": "sh3L3Z8IxDQv",
        "colab_type": "code",
        "colab": {}
      },
      "source": [
        "def view_topics(model, n):\n",
        "  for topic in model.topic_names[:n]:\n",
        "    print(f'{topic}:')\n",
        "    try:\n",
        "      for x in model.score_tracker['TopTokensScore_1'].last_tokens[topic]:\n",
        "        print(x)\n",
        "      print('---------')\n",
        "    except KeyError:\n",
        "      continue"
      ],
      "execution_count": 0,
      "outputs": []
    },
    {
      "cell_type": "code",
      "metadata": {
        "id": "tmQoDGeR0aXt",
        "colab_type": "code",
        "colab": {
          "base_uri": "https://localhost:8080/",
          "height": 364
        },
        "outputId": "a22f266a-f3a7-4be1-c91d-2f586e4e1593"
      },
      "source": [
        "n_topics = 200\n",
        "model_1 = init_model(n_topics, 0.25, 0.15)\n",
        "model_1.fit_offline(batch_vectorizer=batch_vectorizer, num_collection_passes=5)\n",
        "model_1.regularizers.add(artm.SmoothSparsePhiRegularizer(name='SparsePhi', tau=-0.15, \n",
        "                                                            topic_names=[f'topic_{i}' for i in range(1, n_topics)],\n",
        "                                                            ))\n",
        "model_1.regularizers.add(artm.SmoothSparseThetaRegularizer(name='SparseTheta', tau=-0.15, \n",
        "                                                              topic_names=[f'topic_{i}' for i in range(1, n_topics)]))\n",
        "phi_tau = model_1.regularizers['SparsePhi'].tau\n",
        "theta_tau = model_1.regularizers['SparseTheta'].tau\n",
        "\n",
        "for i in range(15):\n",
        "    model_1.regularizers['SparsePhi'].tau = (phi_tau + (phi_tau*0.35))\n",
        "    model_1.regularizers['SparseTheta'].tau = (theta_tau + (theta_tau*0.2))\n",
        "    \n",
        "    model_1.fit_offline(batch_vectorizer=batch_vectorizer, num_collection_passes=1)\n",
        "\n",
        "print_measures(model_1)"
      ],
      "execution_count": 257,
      "outputs": [
        {
          "output_type": "stream",
          "text": [
            "Sparsity Phi: 0.865 ARTM)\n",
            "Sparsity Theta: 0.824 (ARTM)\n",
            "Kernel contrast: 0.217 (ARTM)\n",
            "Kernel purity: 0.266 (ARTM)\n",
            "Perplexity: 312.851 (ARTM)\n"
          ],
          "name": "stdout"
        },
        {
          "output_type": "display_data",
          "data": {
            "image/png": "[encoded data removed]",
            "text/plain": [
              "<Figure size 432x288 with 1 Axes>"
            ]
          },
          "metadata": {
            "tags": []
          }
        }
      ]
    },
    {
      "cell_type": "markdown",
      "metadata": {
        "id": "d5kzJ_WK5yND",
        "colab_type": "text"
      },
      "source": [
        "На мой взгляд, с этими параметрами (почти без изменений) получаются очень приличные результаты по сравнению с LDA. Темы достаточно четко отделяются друг от друга."
      ]
    },
    {
      "cell_type": "code",
      "metadata": {
        "id": "31rVJHKB3Dei",
        "colab_type": "code",
        "colab": {
          "base_uri": "https://localhost:8080/",
          "height": 1000
        },
        "outputId": "abe0e11b-8eb2-4fb7-f015-af556b920b99"
      },
      "source": [
        "view_topics(model_1, 20)"
      ],
      "execution_count": 258,
      "outputs": [
        {
          "output_type": "stream",
          "text": [
            "topic_0:\n",
            "учёный\n",
            "бактерия\n",
            "днк\n",
            "заболевание\n",
            "рак\n",
            "анализ\n",
            "исследование\n",
            "человек\n",
            "организм\n",
            "генетический\n",
            "---------\n",
            "topic_1:\n",
            "ноутбук\n",
            "планшет\n",
            "экран\n",
            "монета\n",
            "устройство\n",
            "доллар\n",
            "клавиатура\n",
            "сегодня\n",
            "рубль\n",
            "компания\n",
            "---------\n",
            "topic_2:\n",
            "человек\n",
            "лицо\n",
            "оценка\n",
            "результат\n",
            "фотография\n",
            "информация\n",
            "исследование\n",
            "исследователь\n",
            "гражданин\n",
            "вопрос\n",
            "---------\n",
            "topic_3:\n",
            "участник\n",
            "конкурс\n",
            "победитель\n",
            "выбрать\n",
            "мероприятие\n",
            "участие\n",
            "участвовать\n",
            "приз\n",
            "портал\n",
            "организатор\n",
            "---------\n",
            "topic_4:\n",
            "процессор\n",
            "инструкция\n",
            "регистр\n",
            "память\n",
            "архитектура\n",
            "байт\n",
            "ассемблер\n",
            "битный\n",
            "адрес\n",
            "компилятор\n",
            "---------\n",
            "topic_5:\n",
            "регистратор\n",
            "модель\n",
            "видео\n",
            "аппарат\n",
            "устройство\n",
            "китайский\n",
            "качество\n",
            "запись\n",
            "видеорегистратор\n",
            "камера\n",
            "---------\n",
            "topic_6:\n",
            "контроллер\n",
            "подпись\n",
            "ключ\n",
            "открытый_ключ\n",
            "закрытый_ключ\n",
            "использоваться\n",
            "публичный_ключ\n",
            "модуль\n",
            "документ\n",
            "процесс\n",
            "---------\n",
            "topic_7:\n",
            "кэш\n",
            "метрика\n",
            "мониторинг\n",
            "сервер\n",
            "сервис\n",
            "либо\n",
            "лог\n",
            "процесс\n",
            "очень\n",
            "нагрузка\n",
            "---------\n",
            "topic_8:\n",
            "доклад\n",
            "конференция\n",
            "разработчик\n",
            "рассказать\n",
            "спикер\n",
            "тема\n",
            "выступление\n",
            "мероприятие\n",
            "проект\n",
            "встреча\n",
            "---------\n",
            "topic_9:\n",
            "плата\n",
            "метр\n",
            "литр\n",
            "ток\n",
            "плат\n",
            "схема\n",
            "напряжение\n",
            "проект\n",
            "имя\n",
            "устройство\n",
            "---------\n",
            "topic_10:\n",
            "доход\n",
            "налог\n",
            "сумма\n",
            "рубль\n",
            "бизнес\n",
            "инвестор\n",
            "компания\n",
            "рейтинг\n",
            "деньга\n",
            "акция\n",
            "---------\n",
            "topic_11:\n",
            "добавить\n",
            "настройка\n",
            "вкладка\n",
            "создать\n",
            "меню\n",
            "кнопка\n",
            "список\n",
            "окно\n",
            "интерфейс\n",
            "выбрать\n",
            "---------\n",
            "topic_12:\n",
            "сайт\n",
            "домен\n",
            "блокировка\n",
            "адрес\n",
            "заголовок\n",
            "письмо\n",
            "заблокировать\n",
            "ресурс\n",
            "блокировать\n",
            "отправитель\n",
            "---------\n",
            "topic_13:\n",
            "человек\n",
            "компания\n",
            "жизнь\n",
            "день\n",
            "говорить\n",
            "счастливый\n",
            "отпуск\n",
            "праздник\n",
            "деньга\n",
            "имя\n",
            "---------\n",
            "topic_14:\n",
            "класс\n",
            "объект\n",
            "метод\n",
            "тип\n",
            "реализация\n",
            "код\n",
            "реализовать\n",
            "интерфейс\n",
            "свойство\n",
            "использование\n",
            "---------\n",
            "topic_15:\n",
            "результат\n",
            "значение\n",
            "вероятность\n",
            "количество\n",
            "признак\n",
            "оценка\n",
            "средний\n",
            "анализ\n",
            "распределение\n",
            "предсказание\n",
            "---------\n",
            "topic_16:\n",
            "проект\n",
            "разработка\n",
            "разработчик\n",
            "код\n",
            "написать\n",
            "начать\n",
            "писать\n",
            "решить\n",
            "план\n",
            "программист\n",
            "---------\n",
            "topic_17:\n",
            "сервис\n",
            "архитектура\n",
            "инфраструктура\n",
            "компания\n",
            "приложение\n",
            "технология\n",
            "управление\n",
            "подход\n",
            "разработка\n",
            "решение\n",
            "---------\n",
            "topic_18:\n",
            "рынок\n",
            "компания\n",
            "виртуальный_реальность\n",
            "технология\n",
            "инвестиция\n",
            "продукт\n",
            "реальность\n",
            "проект\n",
            "стартап\n",
            "мир\n",
            "---------\n",
            "topic_19:\n",
            "накопитель\n",
            "процессор\n",
            "железо\n",
            "память\n",
            "сткий_диск\n",
            "оперативный_память\n",
            "компьютер\n",
            "разгон\n",
            "запись\n",
            "стрелка\n",
            "---------\n"
          ],
          "name": "stdout"
        }
      ]
    },
    {
      "cell_type": "code",
      "metadata": {
        "id": "lHg3U8306J20",
        "colab_type": "code",
        "colab": {
          "base_uri": "https://localhost:8080/",
          "height": 364
        },
        "outputId": "8548bdf8-c85d-4271-a458-2a677c6a7efa"
      },
      "source": [
        "n_topics = 50\n",
        "model_2 = init_model(n_topics, 0.1, 0.05)\n",
        "model_2.fit_offline(batch_vectorizer=batch_vectorizer, num_collection_passes=3)\n",
        "model_2.regularizers.add(artm.SmoothSparsePhiRegularizer(name='SparsePhi', tau=-0.15, \n",
        "                                                            topic_names=[f'topic_{i}' for i in range(1, n_topics)],\n",
        "                                                            ))\n",
        "model_2.regularizers.add(artm.SmoothSparseThetaRegularizer(name='SparseTheta', tau=-0.15, \n",
        "                                                              topic_names=[f'topic_{i}' for i in range(1, n_topics)]))\n",
        "phi_tau = model_2.regularizers['SparsePhi'].tau\n",
        "theta_tau = model_2.regularizers['SparseTheta'].tau\n",
        "\n",
        "for i in range(30):\n",
        "    model_2.regularizers['SparsePhi'].tau = (phi_tau + (phi_tau*0.25))\n",
        "    model_2.regularizers['SparseTheta'].tau = (theta_tau + (theta_tau*0.1))\n",
        "    \n",
        "    model_2.fit_offline(batch_vectorizer=batch_vectorizer, num_collection_passes=1)\n",
        "\n",
        "print_measures(model_2)"
      ],
      "execution_count": 259,
      "outputs": [
        {
          "output_type": "stream",
          "text": [
            "Sparsity Phi: 0.798 ARTM)\n",
            "Sparsity Theta: 0.541 (ARTM)\n",
            "Kernel contrast: 0.264 (ARTM)\n",
            "Kernel purity: 0.488 (ARTM)\n",
            "Perplexity: 414.997 (ARTM)\n"
          ],
          "name": "stdout"
        },
        {
          "output_type": "display_data",
          "data": {
            "image/png": "[encoded data removed]",
            "text/plain": [
              "<Figure size 432x288 with 1 Axes>"
            ]
          },
          "metadata": {
            "tags": []
          }
        }
      ]
    },
    {
      "cell_type": "code",
      "metadata": {
        "id": "JdyGrtnDxnbE",
        "colab_type": "code",
        "colab": {
          "base_uri": "https://localhost:8080/",
          "height": 1000
        },
        "outputId": "6e160b33-6d20-40b0-9acf-a027ab773ac7"
      },
      "source": [
        "view_topics(model_2, 20)"
      ],
      "execution_count": 260,
      "outputs": [
        {
          "output_type": "stream",
          "text": [
            "topic_0:\n",
            "человек\n",
            "учёный\n",
            "исследование\n",
            "клетка\n",
            "животное\n",
            "болезнь\n",
            "ген\n",
            "организм\n",
            "заболевание\n",
            "мозг\n",
            "---------\n",
            "topic_1:\n",
            "безопасность\n",
            "атака\n",
            "устройство\n",
            "уязвимость\n",
            "защита\n",
            "пользователь\n",
            "информация\n",
            "злоумышленник\n",
            "компания\n",
            "шифрование\n",
            "---------\n",
            "topic_2:\n",
            "человек\n",
            "книга\n",
            "жизнь\n",
            "слово\n",
            "мозг\n",
            "дело\n",
            "имя\n",
            "читать\n",
            "говорить\n",
            "автор\n",
            "---------\n",
            "topic_3:\n",
            "карта\n",
            "номер\n",
            "оператор\n",
            "канал\n",
            "звонок\n",
            "связь\n",
            "участник\n",
            "вызов\n",
            "событие\n",
            "клиент\n",
            "---------\n",
            "topic_4:\n",
            "память\n",
            "процессор\n",
            "ядро\n",
            "производительность\n",
            "поток\n",
            "инструкция\n",
            "результат\n",
            "оптимизация\n",
            "архитектура\n",
            "регистр\n",
            "---------\n",
            "topic_5:\n",
            "камера\n",
            "робот\n",
            "видео\n",
            "регистратор\n",
            "устройство\n",
            "модель\n",
            "качество\n",
            "аппарат\n",
            "дрон\n",
            "движение\n",
            "---------\n",
            "topic_6:\n",
            "модуль\n",
            "драйвер\n",
            "сертификат\n",
            "функция\n",
            "ядро\n",
            "файл\n",
            "пакет\n",
            "контроллер\n",
            "токен\n",
            "добавить\n",
            "---------\n",
            "topic_7:\n",
            "сервер\n",
            "запрос\n",
            "сервис\n",
            "клиент\n",
            "ответ\n",
            "база_дать\n",
            "проблема\n",
            "очередь\n",
            "процесс\n",
            "база\n",
            "---------\n",
            "topic_8:\n",
            "доклад\n",
            "конференция\n",
            "участник\n",
            "тема\n",
            "курс\n",
            "мероприятие\n",
            "лекция\n",
            "рассказать\n",
            "интересный\n",
            "разработчик\n",
            "---------\n",
            "topic_9:\n",
            "машина\n",
            "метр\n",
            "автомобиль\n",
            "город\n",
            "компьютер\n",
            "плата\n",
            "дорога\n",
            "устройство\n",
            "технология\n",
            "человек\n",
            "---------\n",
            "topic_10:\n",
            "компания\n",
            "страна\n",
            "российский\n",
            "россия\n",
            "бизнес\n",
            "закон\n",
            "документ\n",
            "деньга\n",
            "доход\n",
            "дело\n",
            "---------\n",
            "topic_11:\n",
            "приложение\n",
            "добавить\n",
            "настройка\n",
            "команда\n",
            "создать\n",
            "установить\n",
            "файл\n",
            "ваш\n",
            "список\n",
            "установка\n",
            "---------\n",
            "topic_12:\n",
            "сайт\n",
            "пользователь\n",
            "сервис\n",
            "письмо\n",
            "контент\n",
            "домен\n",
            "страница\n",
            "ресурс\n",
            "реклама\n",
            "информация\n",
            "---------\n",
            "topic_13:\n",
            "товар\n",
            "цена\n",
            "день\n",
            "магазин\n",
            "покупка\n",
            "месяц\n",
            "скидка\n",
            "продажа\n",
            "деньга\n",
            "покупатель\n",
            "---------\n",
            "topic_14:\n",
            "класс\n",
            "объект\n",
            "метод\n",
            "компонент\n",
            "тип\n",
            "реализация\n",
            "код\n",
            "свойство\n",
            "реализовать\n",
            "модель\n",
            "---------\n",
            "topic_15:\n",
            "число\n",
            "результат\n",
            "значение\n",
            "количество\n",
            "оценка\n",
            "график\n",
            "анализ\n",
            "задача\n",
            "параметр\n",
            "формула\n",
            "---------\n",
            "topic_16:\n",
            "очень\n",
            "сказать\n",
            "хотеть\n",
            "вообще\n",
            "знать\n",
            "писать\n",
            "думать\n",
            "написать\n",
            "начать\n",
            "говорить\n",
            "---------\n",
            "topic_17:\n",
            "приложение\n",
            "решение\n",
            "компания\n",
            "платформа\n",
            "клиент\n",
            "разработка\n",
            "технология\n",
            "пользователь\n",
            "сервис\n",
            "продукт\n",
            "---------\n",
            "topic_18:\n",
            "компания\n",
            "рынок\n",
            "технология\n",
            "продукт\n",
            "блокчейн\n",
            "стартап\n",
            "мир\n",
            "бизнес\n",
            "деньга\n",
            "финансовый\n",
            "---------\n",
            "topic_19:\n",
            "сеть\n",
            "адрес\n",
            "пакет\n",
            "протокол\n",
            "трафик\n",
            "сообщение\n",
            "интерфейс\n",
            "устройство\n",
            "шлюз\n",
            "маршрутизатор\n",
            "---------\n"
          ],
          "name": "stdout"
        }
      ]
    },
    {
      "cell_type": "code",
      "metadata": {
        "id": "gpA665607Y2h",
        "colab_type": "code",
        "colab": {
          "base_uri": "https://localhost:8080/",
          "height": 364
        },
        "outputId": "1e075a6e-e9c9-4f0a-bf65-fed55b42b184"
      },
      "source": [
        "n_topics = 25\n",
        "model_3 = init_model(n_topics, 0.5, 0.2)\n",
        "model_3.fit_offline(batch_vectorizer=batch_vectorizer, num_collection_passes=40)\n",
        "\n",
        "print_measures(model_3)"
      ],
      "execution_count": 261,
      "outputs": [
        {
          "output_type": "stream",
          "text": [
            "Sparsity Phi: 0.000 ARTM)\n",
            "Sparsity Theta: 0.000 (ARTM)\n",
            "Kernel contrast: 0.235 (ARTM)\n",
            "Kernel purity: 0.513 (ARTM)\n",
            "Perplexity: 462.137 (ARTM)\n"
          ],
          "name": "stdout"
        },
        {
          "output_type": "display_data",
          "data": {
            "image/png": "[encoded data removed]",
            "text/plain": [
              "<Figure size 432x288 with 1 Axes>"
            ]
          },
          "metadata": {
            "tags": []
          }
        }
      ]
    },
    {
      "cell_type": "code",
      "metadata": {
        "colab_type": "code",
        "outputId": "e7ca3fe9-9f11-4db6-e2a8-411679666aff",
        "id": "LnCYJ5Ni_PXO",
        "colab": {
          "base_uri": "https://localhost:8080/",
          "height": 1000
        }
      },
      "source": [
        "view_topics(model_3, 20)"
      ],
      "execution_count": 262,
      "outputs": [
        {
          "output_type": "stream",
          "text": [
            "topic_0:\n",
            "человек\n",
            "пациент\n",
            "мозг\n",
            "учёный\n",
            "исследование\n",
            "клетка\n",
            "врач\n",
            "результат\n",
            "животное\n",
            "ген\n",
            "---------\n",
            "topic_1:\n",
            "устройство\n",
            "камера\n",
            "смартфон\n",
            "модель\n",
            "телефон\n",
            "экран\n",
            "видео\n",
            "ноутбук\n",
            "производитель\n",
            "дисплей\n",
            "---------\n",
            "topic_2:\n",
            "человек\n",
            "ваш\n",
            "книга\n",
            "слово\n",
            "жизнь\n",
            "говорить\n",
            "вопрос\n",
            "важный\n",
            "результат\n",
            "информация\n",
            "---------\n",
            "topic_3:\n",
            "вселенная\n",
            "энергия\n",
            "галактика\n",
            "теория\n",
            "объект\n",
            "пространство\n",
            "существовать\n",
            "свет\n",
            "частица\n",
            "скорость\n",
            "---------\n",
            "topic_4:\n",
            "код\n",
            "программа\n",
            "память\n",
            "ядро\n",
            "процессор\n",
            "функция\n",
            "ошибка\n",
            "поток\n",
            "компилятор\n",
            "результат\n",
            "---------\n",
            "topic_5:\n",
            "точка\n",
            "карта\n",
            "объект\n",
            "движение\n",
            "метр\n",
            "текстура\n",
            "координата\n",
            "изображение\n",
            "угол\n",
            "глаз\n",
            "---------\n",
            "topic_6:\n",
            "код\n",
            "модуль\n",
            "язык\n",
            "библиотека\n",
            "текст\n",
            "браузер\n",
            "версия\n",
            "страница\n",
            "файл\n",
            "плагин\n",
            "---------\n",
            "topic_7:\n",
            "запрос\n",
            "сервер\n",
            "тест\n",
            "пользователь\n",
            "сервис\n",
            "база_дать\n",
            "таблица\n",
            "ответ\n",
            "тестирование\n",
            "бот\n",
            "---------\n",
            "topic_8:\n",
            "доклад\n",
            "проект\n",
            "конференция\n",
            "участник\n",
            "курс\n",
            "разработчик\n",
            "тема\n",
            "интересный\n",
            "разработка\n",
            "материал\n",
            "---------\n",
            "topic_9:\n",
            "робот\n",
            "компьютер\n",
            "технология\n",
            "человек\n",
            "машина\n",
            "программа\n",
            "автомобиль\n",
            "метр\n",
            "компания\n",
            "создать\n",
            "---------\n",
            "topic_10:\n",
            "компания\n",
            "страна\n",
            "российский\n",
            "россия\n",
            "документ\n",
            "закон\n",
            "услуга\n",
            "организация\n",
            "сша\n",
            "бизнес\n",
            "---------\n",
            "topic_11:\n",
            "файл\n",
            "приложение\n",
            "команда\n",
            "настройка\n",
            "добавить\n",
            "скрипт\n",
            "пользователь\n",
            "создать\n",
            "имя\n",
            "список\n",
            "---------\n",
            "topic_12:\n",
            "пользователь\n",
            "сайт\n",
            "информация\n",
            "безопасность\n",
            "атака\n",
            "письмо\n",
            "уязвимость\n",
            "пароль\n",
            "домен\n",
            "страница\n",
            "---------\n",
            "topic_13:\n",
            "компания\n",
            "сотрудник\n",
            "человек\n",
            "день\n",
            "клиент\n",
            "товар\n",
            "месяц\n",
            "скидка\n",
            "деньга\n",
            "заказ\n",
            "---------\n",
            "topic_14:\n",
            "функция\n",
            "объект\n",
            "класс\n",
            "метод\n",
            "тип\n",
            "элемент\n",
            "код\n",
            "значение\n",
            "свойство\n",
            "реализация\n",
            "---------\n",
            "topic_15:\n",
            "алгоритм\n",
            "число\n",
            "значение\n",
            "результат\n",
            "изображение\n",
            "модель\n",
            "задача\n",
            "количество\n",
            "вектор\n",
            "метод\n",
            "---------\n",
            "topic_16:\n",
            "игра\n",
            "игрок\n",
            "играть\n",
            "анимация\n",
            "игровой\n",
            "уровень\n",
            "разработчик\n",
            "персонаж\n",
            "мир\n",
            "история\n",
            "---------\n",
            "topic_17:\n",
            "проект\n",
            "задача\n",
            "приложение\n",
            "разработчик\n",
            "разработка\n",
            "команда\n",
            "продукт\n",
            "решение\n",
            "пользователь\n",
            "процесс\n",
            "---------\n",
            "topic_18:\n",
            "компания\n",
            "рынок\n",
            "продукт\n",
            "пользователь\n",
            "технология\n",
            "клиент\n",
            "бизнес\n",
            "сервис\n",
            "продажа\n",
            "блокчейн\n",
            "---------\n",
            "topic_19:\n",
            "сеть\n",
            "устройство\n",
            "адрес\n",
            "пакет\n",
            "канал\n",
            "протокол\n",
            "трафик\n",
            "клиент\n",
            "связь\n",
            "интерфейс\n",
            "---------\n"
          ],
          "name": "stdout"
        }
      ]
    },
    {
      "cell_type": "markdown",
      "metadata": {
        "id": "26klmiXH3Omg",
        "colab_type": "text"
      },
      "source": [
        "6) для самой хорошей модели в отдельной ячейке напечатайте 3 хороших (на ваш вкус) темы"
      ]
    },
    {
      "cell_type": "markdown",
      "metadata": {
        "id": "Xm_ZTO55vodQ",
        "colab_type": "text"
      },
      "source": [
        "Темы выделились на удивление хорошо. В принципе, здесь можно достаточно легко определить к чему они относятся: *кибербезопасность, devops, машинное обучение*:\n",
        "```\n",
        "---------\n",
        "topic_35: \n",
        "пароль\n",
        "флаг\n",
        "получать\n",
        "найти\n",
        "файл\n",
        "находить\n",
        "вход\n",
        "ввести\n",
        "утечка\n",
        "воспользоваться\n",
        "---------\n",
        "topic_41: \n",
        "виртуальный\n",
        "хранилище\n",
        "хранение\n",
        "виртуальный_машина\n",
        "инфраструктура\n",
        "хост\n",
        "уровень\n",
        "диск\n",
        "виртуализация\n",
        "схд\n",
        "---------\n",
        "topic_46: \n",
        "обучение\n",
        "признак\n",
        "сеть\n",
        "машинный_обучение\n",
        "нейронный_сеть\n",
        "обучать\n",
        "распознавание\n",
        "информация\n",
        "алгоритм\n",
        "классификация\n",
        "---------\n",
        "```"
      ]
    },
    {
      "cell_type": "markdown",
      "metadata": {
        "id": "o2rz3wfw3Rei",
        "colab_type": "text"
      },
      "source": [
        "7) в другой ячейке нарисуйте график обучения этой модели "
      ]
    },
    {
      "cell_type": "code",
      "metadata": {
        "id": "yH0rZd1zuXMr",
        "colab_type": "code",
        "colab": {
          "base_uri": "https://localhost:8080/",
          "height": 364
        },
        "outputId": "1c810225-0342-4e2d-dc2a-d06c964c26dc"
      },
      "source": [
        "n_topics = 200\n",
        "model_1 = init_model(n_topics, 0.25, 0.15)\n",
        "model_1.fit_offline(batch_vectorizer=batch_vectorizer, num_collection_passes=5)\n",
        "model_1.regularizers.add(artm.SmoothSparsePhiRegularizer(name='SparsePhi', tau=-0.15, \n",
        "                                                            topic_names=[f'topic_{i}' for i in range(1, n_topics)],\n",
        "                                                            ))\n",
        "model_1.regularizers.add(artm.SmoothSparseThetaRegularizer(name='SparseTheta', tau=-0.15, \n",
        "                                                              topic_names=[f'topic_{i}' for i in range(1, n_topics)]))\n",
        "phi_tau = model_1.regularizers['SparsePhi'].tau\n",
        "theta_tau = model_1.regularizers['SparseTheta'].tau\n",
        "\n",
        "for i in range(15):\n",
        "    model_1.regularizers['SparsePhi'].tau = (phi_tau + (phi_tau*0.35))\n",
        "    model_1.regularizers['SparseTheta'].tau = (theta_tau + (theta_tau*0.2))\n",
        "    \n",
        "    model_1.fit_offline(batch_vectorizer=batch_vectorizer, num_collection_passes=1)\n",
        "\n",
        "print_measures(model_1)"
      ],
      "execution_count": 263,
      "outputs": [
        {
          "output_type": "stream",
          "text": [
            "Sparsity Phi: 0.865 ARTM)\n",
            "Sparsity Theta: 0.824 (ARTM)\n",
            "Kernel contrast: 0.217 (ARTM)\n",
            "Kernel purity: 0.266 (ARTM)\n",
            "Perplexity: 312.851 (ARTM)\n"
          ],
          "name": "stdout"
        },
        {
          "output_type": "display_data",
          "data": {
            "image/png": "[encoded data removed]",
            "text/plain": [
              "<Figure size 432x288 with 1 Axes>"
            ]
          },
          "metadata": {
            "tags": []
          }
        }
      ]
    },
    {
      "cell_type": "markdown",
      "metadata": {
        "id": "PKH-KOa83Vjz",
        "colab_type": "text"
      },
      "source": [
        "8) в третьей ячейке опишите какие параметры (количество тем, регуляризаторы, их tau) вы использовали и как обучали (например, после скольки проходов добавили регуляризатор разрежнивания тем (Phi), добавляли ли разреженность документам (Theta) и когда, как повышали значения, сколько итерации модель продожала улучшаться (снижалась перплексия, росли другие метрики)"
      ]
    },
    {
      "cell_type": "markdown",
      "metadata": {
        "id": "fhJEZsw7SbZO",
        "colab_type": "text"
      },
      "source": [
        "Надо сказать, что степень влияния параметров на субъективное восприятие качества тем достаточно сложно оценить, т.к. для всех трех построенных моделей получились вполне вменяемые темы. <br>\n",
        "Пробовал менять количество тем от 200 до 20. Похоже, что темы становятся менее конкретными, т.е. начинают покрывать (как кажется) большее количество документов, чем в моделях, настроенных на большее количество тем."
      ]
    },
    {
      "cell_type": "code",
      "metadata": {
        "id": "CemOGFd73TKr",
        "colab_type": "code",
        "colab": {
          "base_uri": "https://localhost:8080/",
          "height": 1000
        },
        "outputId": "e585d7dd-0aee-489b-a08a-59c3d22522e9"
      },
      "source": [
        "n_topics = 200\n",
        "model_1 = init_model(n_topics, 0.25, 0.15)\n",
        "model_1.fit_offline(batch_vectorizer=batch_vectorizer, num_collection_passes=5)\n",
        "model_1.regularizers.add(artm.SmoothSparsePhiRegularizer(name='SparsePhi', tau=-0.15, \n",
        "                                                            topic_names=[f'topic_{i}' for i in range(1, n_topics)],\n",
        "                                                            ))\n",
        "model_1.regularizers.add(artm.SmoothSparseThetaRegularizer(name='SparseTheta', tau=-0.15, \n",
        "                                                              topic_names=[f'topic_{i}' for i in range(1, n_topics)]))\n",
        "phi_tau = model_1.regularizers['SparsePhi'].tau\n",
        "theta_tau = model_1.regularizers['SparseTheta'].tau\n",
        "\n",
        "for i in range(15):\n",
        "    model_1.regularizers['SparsePhi'].tau = (phi_tau + (phi_tau*0.35))\n",
        "    model_1.regularizers['SparseTheta'].tau = (theta_tau + (theta_tau*0.2))\n",
        "    \n",
        "    model_1.fit_offline(batch_vectorizer=batch_vectorizer, num_collection_passes=1)\n",
        "    if not i % 5:\n",
        "      print_measures(model_1)\n",
        "\n"
      ],
      "execution_count": 265,
      "outputs": [
        {
          "output_type": "stream",
          "text": [
            "Sparsity Phi: 0.659 ARTM)\n",
            "Sparsity Theta: 0.790 (ARTM)\n",
            "Kernel contrast: 0.183 (ARTM)\n",
            "Kernel purity: 0.155 (ARTM)\n",
            "Perplexity: 433.089 (ARTM)\n"
          ],
          "name": "stdout"
        },
        {
          "output_type": "display_data",
          "data": {
            "image/png": "[encoded data removed]",
            "text/plain": [
              "<Figure size 432x288 with 1 Axes>"
            ]
          },
          "metadata": {
            "tags": []
          }
        },
        {
          "output_type": "stream",
          "text": [
            "Sparsity Phi: 0.842 ARTM)\n",
            "Sparsity Theta: 0.829 (ARTM)\n",
            "Kernel contrast: 0.211 (ARTM)\n",
            "Kernel purity: 0.234 (ARTM)\n",
            "Perplexity: 320.067 (ARTM)\n"
          ],
          "name": "stdout"
        },
        {
          "output_type": "display_data",
          "data": {
            "image/png": "[encoded data removed]",
            "text/plain": [
              "<Figure size 432x288 with 1 Axes>"
            ]
          },
          "metadata": {
            "tags": []
          }
        },
        {
          "output_type": "stream",
          "text": [
            "Sparsity Phi: 0.859 ARTM)\n",
            "Sparsity Theta: 0.827 (ARTM)\n",
            "Kernel contrast: 0.216 (ARTM)\n",
            "Kernel purity: 0.252 (ARTM)\n",
            "Perplexity: 314.420 (ARTM)\n"
          ],
          "name": "stdout"
        },
        {
          "output_type": "display_data",
          "data": {
            "image/png": "[encoded data removed]",
            "text/plain": [
              "<Figure size 432x288 with 1 Axes>"
            ]
          },
          "metadata": {
            "tags": []
          }
        }
      ]
    },
    {
      "cell_type": "code",
      "metadata": {
        "id": "z4A5rYEh3BGY",
        "colab_type": "code",
        "colab": {}
      },
      "source": [
        ""
      ],
      "execution_count": 0,
      "outputs": []
    },
    {
      "cell_type": "code",
      "metadata": {
        "id": "coVF7Swu3Igd",
        "colab_type": "code",
        "colab": {}
      },
      "source": [
        ""
      ],
      "execution_count": 0,
      "outputs": []
    }
  ]
}